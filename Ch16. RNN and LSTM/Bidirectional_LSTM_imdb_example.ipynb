{
 "cells": [
  {
   "cell_type": "code",
   "execution_count": 1,
   "metadata": {},
   "outputs": [],
   "source": [
    "import numpy as np\n",
    "from tensorflow import keras\n",
    "\n",
    "max_features = 10000  # Only consider the top 20k words\n",
    "maxlen = 500  # Only consider the first 500 words of each movie review"
   ]
  },
  {
   "cell_type": "code",
   "execution_count": 2,
   "metadata": {},
   "outputs": [],
   "source": [
    "(x_train, y_train), (x_test, y_test) = keras.datasets.imdb.load_data(num_words=max_features)\n",
    "x_train = keras.preprocessing.sequence.pad_sequences(x_train, maxlen=maxlen)\n",
    "x_test = keras.preprocessing.sequence.pad_sequences(x_test, maxlen=maxlen)"
   ]
  },
  {
   "cell_type": "code",
   "execution_count": 3,
   "metadata": {},
   "outputs": [],
   "source": [
    "from tensorflow.keras.utils import to_categorical\n",
    "y_train_one_hot = to_categorical(y_train)\n",
    "y_test_one_hot = to_categorical(y_test)"
   ]
  },
  {
   "cell_type": "code",
   "execution_count": 4,
   "metadata": {},
   "outputs": [],
   "source": [
    "from tensorflow.keras import layers\n",
    "from tensorflow.keras import models"
   ]
  },
  {
   "cell_type": "code",
   "execution_count": 5,
   "metadata": {},
   "outputs": [
    {
     "name": "stdout",
     "output_type": "stream",
     "text": [
      "Model: \"sequential\"\n",
      "_________________________________________________________________\n",
      " Layer (type)                Output Shape              Param #   \n",
      "=================================================================\n",
      " embedding (Embedding)       (None, 500, 128)          1280000   \n",
      "                                                                 \n",
      " bidirectional (Bidirectiona  (None, 128)              98816     \n",
      " l)                                                              \n",
      "                                                                 \n",
      " dense (Dense)               (None, 2)                 258       \n",
      "                                                                 \n",
      "=================================================================\n",
      "Total params: 1,379,074\n",
      "Trainable params: 1,379,074\n",
      "Non-trainable params: 0\n",
      "_________________________________________________________________\n"
     ]
    }
   ],
   "source": [
    "model = models.Sequential()\n",
    "model.add(layers.Embedding(max_features, 128, input_length=maxlen))\n",
    "model.add(layers.Bidirectional(layers.LSTM(64), merge_mode='concat'))\n",
    "model.add(layers.Dense(2, activation = 'softmax'))\n",
    "model.summary()"
   ]
  },
  {
   "cell_type": "code",
   "execution_count": 6,
   "metadata": {},
   "outputs": [],
   "source": [
    "from tensorflow.keras.callbacks import EarlyStopping\n",
    "from tensorflow.keras.callbacks import ModelCheckpoint"
   ]
  },
  {
   "cell_type": "code",
   "execution_count": 7,
   "metadata": {},
   "outputs": [],
   "source": [
    "es = EarlyStopping(monitor='val_loss', mode='min', verbose=1, patience=5)\n",
    "checkpoint_filepath = './temp/checkpoint_bi_lstm_en'\n",
    "mc = ModelCheckpoint(checkpoint_filepath, monitor='val_loss', mode='min', \n",
    "                     save_weights_only=True, save_best_only=True)"
   ]
  },
  {
   "cell_type": "code",
   "execution_count": 8,
   "metadata": {},
   "outputs": [],
   "source": [
    "from tensorflow.keras.optimizers import RMSprop\n",
    "model.compile(optimizer=RMSprop(learning_rate=0.0005), loss='binary_crossentropy', metrics='accuracy')"
   ]
  },
  {
   "cell_type": "code",
   "execution_count": 9,
   "metadata": {},
   "outputs": [
    {
     "name": "stdout",
     "output_type": "stream",
     "text": [
      "Epoch 1/20\n",
      "176/176 [==============================] - 2147s 12s/step - loss: 0.5376 - accuracy: 0.7409 - val_loss: 0.3595 - val_accuracy: 0.8584\n",
      "Epoch 2/20\n",
      "176/176 [==============================] - 2516s 14s/step - loss: 0.2978 - accuracy: 0.8832 - val_loss: 0.2888 - val_accuracy: 0.8808\n",
      "Epoch 3/20\n",
      "176/176 [==============================] - 1256s 7s/step - loss: 0.2416 - accuracy: 0.9113 - val_loss: 0.3048 - val_accuracy: 0.8828\n",
      "Epoch 4/20\n",
      "176/176 [==============================] - 675s 4s/step - loss: 0.2041 - accuracy: 0.9257 - val_loss: 0.3576 - val_accuracy: 0.8460\n",
      "Epoch 5/20\n",
      "176/176 [==============================] - 690s 4s/step - loss: 0.1778 - accuracy: 0.9355 - val_loss: 0.3103 - val_accuracy: 0.8852\n",
      "Epoch 6/20\n",
      "176/176 [==============================] - 694s 4s/step - loss: 0.1579 - accuracy: 0.9432 - val_loss: 0.3999 - val_accuracy: 0.8696\n",
      "Epoch 7/20\n",
      "176/176 [==============================] - 700s 4s/step - loss: 0.1431 - accuracy: 0.9496 - val_loss: 0.3449 - val_accuracy: 0.8796\n",
      "Epoch 7: early stopping\n"
     ]
    }
   ],
   "source": [
    "history=model.fit(x_train, y_train_one_hot, epochs=20, batch_size=128, validation_split=0.1, callbacks=[es, mc])"
   ]
  },
  {
   "cell_type": "code",
   "execution_count": 10,
   "metadata": {},
   "outputs": [
    {
     "name": "stdout",
     "output_type": "stream",
     "text": [
      "782/782 [==============================] - 62s 79ms/step - loss: 0.3537 - accuracy: 0.8725\n"
     ]
    },
    {
     "data": {
      "text/plain": [
       "[0.353736013174057, 0.8724799752235413]"
      ]
     },
     "execution_count": 10,
     "metadata": {},
     "output_type": "execute_result"
    }
   ],
   "source": [
    "model.evaluate(x_test, y_test_one_hot)"
   ]
  },
  {
   "cell_type": "markdown",
   "metadata": {},
   "source": [
    "아래와 같이 stacked bidirectional LSTM을 구현할 수 있다. <br>\n",
    "이때, return_sequences=True로 설정해야 한다. "
   ]
  },
  {
   "cell_type": "code",
   "execution_count": 11,
   "metadata": {},
   "outputs": [
    {
     "name": "stdout",
     "output_type": "stream",
     "text": [
      "Model: \"sequential_1\"\n",
      "_________________________________________________________________\n",
      " Layer (type)                Output Shape              Param #   \n",
      "=================================================================\n",
      " embedding_1 (Embedding)     (None, 500, 128)          1280000   \n",
      "                                                                 \n",
      " bidirectional_1 (Bidirectio  (None, 500, 128)         98816     \n",
      " nal)                                                            \n",
      "                                                                 \n",
      " bidirectional_2 (Bidirectio  (None, 128)              98816     \n",
      " nal)                                                            \n",
      "                                                                 \n",
      " dense_1 (Dense)             (None, 2)                 258       \n",
      "                                                                 \n",
      "=================================================================\n",
      "Total params: 1,477,890\n",
      "Trainable params: 1,477,890\n",
      "Non-trainable params: 0\n",
      "_________________________________________________________________\n"
     ]
    }
   ],
   "source": [
    "model1 = models.Sequential()\n",
    "model1.add(layers.Embedding(max_features, 128, input_length=maxlen))\n",
    "model1.add(layers.Bidirectional(layers.LSTM(64, return_sequences=True)))\n",
    "model1.add(layers.Bidirectional(layers.LSTM(64)))\n",
    "model1.add(layers.Dense(2, activation = 'softmax'))\n",
    "model1.summary()"
   ]
  },
  {
   "cell_type": "code",
   "execution_count": 12,
   "metadata": {},
   "outputs": [
    {
     "name": "stdout",
     "output_type": "stream",
     "text": [
      "Epoch 1/2\n",
      "625/625 [==============================] - 521s 827ms/step - loss: 0.5448 - accuracy: 0.7265 - val_loss: 0.4680 - val_accuracy: 0.8026\n",
      "Epoch 2/2\n",
      "625/625 [==============================] - 502s 804ms/step - loss: 0.3377 - accuracy: 0.8598 - val_loss: 0.3284 - val_accuracy: 0.8554\n"
     ]
    },
    {
     "data": {
      "text/plain": [
       "<keras.callbacks.History at 0x13b984c6670>"
      ]
     },
     "execution_count": 12,
     "metadata": {},
     "output_type": "execute_result"
    }
   ],
   "source": [
    "model1.compile(\"adam\", \"binary_crossentropy\", metrics=[\"accuracy\"])\n",
    "model1.fit(x_train, y_train_one_hot, batch_size=32, epochs=2, validation_split=0.2)"
   ]
  },
  {
   "cell_type": "code",
   "execution_count": 13,
   "metadata": {},
   "outputs": [
    {
     "name": "stdout",
     "output_type": "stream",
     "text": [
      "782/782 [==============================] - 142s 181ms/step - loss: 0.3383 - accuracy: 0.8526\n"
     ]
    },
    {
     "data": {
      "text/plain": [
       "[0.3383167088031769, 0.8525999784469604]"
      ]
     },
     "execution_count": 13,
     "metadata": {},
     "output_type": "execute_result"
    }
   ],
   "source": [
    "model1.evaluate(x_test, y_test_one_hot)"
   ]
  },
  {
   "cell_type": "code",
   "execution_count": null,
   "metadata": {},
   "outputs": [],
   "source": []
  }
 ],
 "metadata": {
  "kernelspec": {
   "display_name": "Python 3 (ipykernel)",
   "language": "python",
   "name": "python3"
  },
  "language_info": {
   "codemirror_mode": {
    "name": "ipython",
    "version": 3
   },
   "file_extension": ".py",
   "mimetype": "text/x-python",
   "name": "python",
   "nbconvert_exporter": "python",
   "pygments_lexer": "ipython3",
   "version": "3.8.16"
  }
 },
 "nbformat": 4,
 "nbformat_minor": 2
}
