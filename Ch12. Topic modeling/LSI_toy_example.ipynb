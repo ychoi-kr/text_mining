{
 "cells": [
  {
   "cell_type": "code",
   "execution_count": 1,
   "metadata": {},
   "outputs": [],
   "source": [
    "import numpy as np\n",
    "np.set_printoptions(suppress=True)"
   ]
  },
  {
   "cell_type": "code",
   "execution_count": 2,
   "metadata": {},
   "outputs": [],
   "source": [
    "CORPUS = [\n",
    "    'apple banana apple banana orange', \n",
    "    'apple orange banana orange', \n",
    "    'orange apple apple banana apple',\n",
    "    'carrot spinach eggplant carrot',\n",
    "    'spinach carrot potato spinach',\n",
    "    'carrot potato eggplant eggplant'\n",
    "]"
   ]
  },
  {
   "cell_type": "code",
   "execution_count": 3,
   "metadata": {},
   "outputs": [],
   "source": [
    "from sklearn.feature_extraction.text import CountVectorizer\n",
    "vec = CountVectorizer()\n",
    "features = vec.fit_transform(CORPUS)"
   ]
  },
  {
   "cell_type": "code",
   "execution_count": 4,
   "metadata": {},
   "outputs": [
    {
     "data": {
      "text/plain": [
       "array(['apple', 'banana', 'carrot', 'eggplant', 'orange', 'potato',\n",
       "       'spinach'], dtype=object)"
      ]
     },
     "execution_count": 4,
     "metadata": {},
     "output_type": "execute_result"
    }
   ],
   "source": [
    "vec.get_feature_names_out()"
   ]
  },
  {
   "cell_type": "code",
   "execution_count": 5,
   "metadata": {},
   "outputs": [
    {
     "data": {
      "text/plain": [
       "array([[2, 2, 0, 0, 1, 0, 0],\n",
       "       [1, 1, 0, 0, 2, 0, 0],\n",
       "       [3, 1, 0, 0, 1, 0, 0],\n",
       "       [0, 0, 2, 1, 0, 0, 1],\n",
       "       [0, 0, 1, 0, 0, 1, 2],\n",
       "       [0, 0, 1, 2, 0, 1, 0]], dtype=int64)"
      ]
     },
     "execution_count": 5,
     "metadata": {},
     "output_type": "execute_result"
    }
   ],
   "source": [
    "X = np.array(features.todense())\n",
    "X"
   ]
  },
  {
   "cell_type": "code",
   "execution_count": 6,
   "metadata": {},
   "outputs": [],
   "source": [
    "XTX = np.dot(X.T,X)"
   ]
  },
  {
   "cell_type": "code",
   "execution_count": 7,
   "metadata": {},
   "outputs": [
    {
     "data": {
      "text/plain": [
       "(7, 7)"
      ]
     },
     "execution_count": 7,
     "metadata": {},
     "output_type": "execute_result"
    }
   ],
   "source": [
    "XTX.shape"
   ]
  },
  {
   "cell_type": "code",
   "execution_count": 8,
   "metadata": {},
   "outputs": [
    {
     "data": {
      "text/plain": [
       "array([[14,  8,  0,  0,  7,  0,  0],\n",
       "       [ 8,  6,  0,  0,  5,  0,  0],\n",
       "       [ 0,  0,  6,  4,  0,  2,  4],\n",
       "       [ 0,  0,  4,  5,  0,  2,  1],\n",
       "       [ 7,  5,  0,  0,  6,  0,  0],\n",
       "       [ 0,  0,  2,  2,  0,  2,  2],\n",
       "       [ 0,  0,  4,  1,  0,  2,  5]], dtype=int64)"
      ]
     },
     "execution_count": 8,
     "metadata": {},
     "output_type": "execute_result"
    }
   ],
   "source": [
    "XTX"
   ]
  },
  {
   "cell_type": "code",
   "execution_count": 9,
   "metadata": {},
   "outputs": [
    {
     "data": {
      "text/plain": [
       "6"
      ]
     },
     "execution_count": 9,
     "metadata": {},
     "output_type": "execute_result"
    }
   ],
   "source": [
    "np.linalg.matrix_rank(XTX)"
   ]
  },
  {
   "cell_type": "code",
   "execution_count": 10,
   "metadata": {},
   "outputs": [],
   "source": [
    "eigVals, eigVecs = np.linalg.eig(XTX)"
   ]
  },
  {
   "cell_type": "code",
   "execution_count": 11,
   "metadata": {},
   "outputs": [
    {
     "data": {
      "text/plain": [
       "array([23.22497216,  2.        ,  0.77502784, 12.74456265,  1.25543735,\n",
       "        0.        ,  4.        ])"
      ]
     },
     "execution_count": 11,
     "metadata": {},
     "output_type": "execute_result"
    }
   ],
   "source": [
    "eigVals"
   ]
  },
  {
   "cell_type": "code",
   "execution_count": 12,
   "metadata": {},
   "outputs": [],
   "source": [
    "eigvec1 = eigVecs[:, 0]\n",
    "eigvec2 = eigVecs[:, 3]"
   ]
  },
  {
   "cell_type": "code",
   "execution_count": 13,
   "metadata": {},
   "outputs": [
    {
     "data": {
      "text/plain": [
       "array([-0.75511545, -0.48025006,  0.        ,  0.        , -0.44627407,\n",
       "        0.        ,  0.        ])"
      ]
     },
     "execution_count": 13,
     "metadata": {},
     "output_type": "execute_result"
    }
   ],
   "source": [
    "eigvec1"
   ]
  },
  {
   "cell_type": "code",
   "execution_count": 14,
   "metadata": {},
   "outputs": [
    {
     "data": {
      "text/plain": [
       "array([-0.        , -0.        ,  0.66353532,  0.48352718,  0.        ,\n",
       "        0.30351904,  0.48352718])"
      ]
     },
     "execution_count": 14,
     "metadata": {},
     "output_type": "execute_result"
    }
   ],
   "source": [
    "eigvec2"
   ]
  },
  {
   "cell_type": "code",
   "execution_count": 15,
   "metadata": {},
   "outputs": [],
   "source": [
    "doc1 = X[0]"
   ]
  },
  {
   "cell_type": "code",
   "execution_count": 16,
   "metadata": {},
   "outputs": [
    {
     "data": {
      "text/plain": [
       "array([2, 2, 0, 0, 1, 0, 0], dtype=int64)"
      ]
     },
     "execution_count": 16,
     "metadata": {},
     "output_type": "execute_result"
    }
   ],
   "source": [
    "doc1"
   ]
  },
  {
   "cell_type": "code",
   "execution_count": 17,
   "metadata": {},
   "outputs": [
    {
     "data": {
      "text/plain": [
       "-2.917005078618542"
      ]
     },
     "execution_count": 17,
     "metadata": {},
     "output_type": "execute_result"
    }
   ],
   "source": [
    "np.dot(doc1,eigvec1)"
   ]
  },
  {
   "cell_type": "code",
   "execution_count": 18,
   "metadata": {},
   "outputs": [
    {
     "data": {
      "text/plain": [
       "-1.0293230715087392e-16"
      ]
     },
     "execution_count": 18,
     "metadata": {},
     "output_type": "execute_result"
    }
   ],
   "source": [
    "np.dot(doc1,eigvec2)"
   ]
  },
  {
   "cell_type": "markdown",
   "metadata": {},
   "source": [
    "## gensim을 이용한 LSI"
   ]
  },
  {
   "cell_type": "code",
   "execution_count": 19,
   "metadata": {},
   "outputs": [],
   "source": [
    "docs_words = [doc.split() for doc in CORPUS]"
   ]
  },
  {
   "cell_type": "code",
   "execution_count": 20,
   "metadata": {},
   "outputs": [
    {
     "data": {
      "text/plain": [
       "[['apple', 'banana', 'apple', 'banana', 'orange'],\n",
       " ['apple', 'orange', 'banana', 'orange'],\n",
       " ['orange', 'apple', 'apple', 'banana', 'apple'],\n",
       " ['carrot', 'spinach', 'eggplant', 'carrot'],\n",
       " ['spinach', 'carrot', 'potato', 'spinach'],\n",
       " ['carrot', 'potato', 'eggplant', 'eggplant']]"
      ]
     },
     "execution_count": 20,
     "metadata": {},
     "output_type": "execute_result"
    }
   ],
   "source": [
    "docs_words"
   ]
  },
  {
   "cell_type": "code",
   "execution_count": 21,
   "metadata": {},
   "outputs": [],
   "source": [
    "from gensim.corpora import Dictionary"
   ]
  },
  {
   "cell_type": "code",
   "execution_count": 22,
   "metadata": {},
   "outputs": [],
   "source": [
    "dictionary = Dictionary(docs_words)"
   ]
  },
  {
   "cell_type": "code",
   "execution_count": 23,
   "metadata": {},
   "outputs": [
    {
     "name": "stdout",
     "output_type": "stream",
     "text": [
      "{'apple': 0, 'banana': 1, 'orange': 2, 'carrot': 3, 'eggplant': 4, 'spinach': 5, 'potato': 6}\n"
     ]
    }
   ],
   "source": [
    "print(dictionary.token2id)"
   ]
  },
  {
   "cell_type": "code",
   "execution_count": 24,
   "metadata": {},
   "outputs": [],
   "source": [
    "DTM = []\n",
    "for doc in docs_words:\n",
    "    bow = dictionary.doc2bow(doc)\n",
    "    DTM.append(bow)"
   ]
  },
  {
   "cell_type": "code",
   "execution_count": 25,
   "metadata": {},
   "outputs": [
    {
     "data": {
      "text/plain": [
       "[[(0, 2), (1, 2), (2, 1)],\n",
       " [(0, 1), (1, 1), (2, 2)],\n",
       " [(0, 3), (1, 1), (2, 1)],\n",
       " [(3, 2), (4, 1), (5, 1)],\n",
       " [(3, 1), (5, 2), (6, 1)],\n",
       " [(3, 1), (4, 2), (6, 1)]]"
      ]
     },
     "execution_count": 25,
     "metadata": {},
     "output_type": "execute_result"
    }
   ],
   "source": [
    "DTM"
   ]
  },
  {
   "cell_type": "code",
   "execution_count": 26,
   "metadata": {},
   "outputs": [],
   "source": [
    "from gensim.models import LsiModel"
   ]
  },
  {
   "cell_type": "code",
   "execution_count": 27,
   "metadata": {},
   "outputs": [],
   "source": [
    "model = LsiModel(DTM, num_topics=2, id2word=dictionary) "
   ]
  },
  {
   "cell_type": "code",
   "execution_count": 28,
   "metadata": {},
   "outputs": [
    {
     "data": {
      "text/plain": [
       "[(0,\n",
       "  '0.755*\"apple\" + 0.480*\"banana\" + 0.446*\"orange\" + 0.000*\"carrot\" + 0.000*\"eggplant\" + 0.000*\"spinach\" + 0.000*\"potato\"'),\n",
       " (1,\n",
       "  '0.664*\"carrot\" + 0.484*\"spinach\" + 0.484*\"eggplant\" + 0.304*\"potato\" + 0.000*\"banana\" + -0.000*\"orange\" + -0.000*\"apple\"')]"
      ]
     },
     "execution_count": 28,
     "metadata": {},
     "output_type": "execute_result"
    }
   ],
   "source": [
    "model.print_topics()"
   ]
  },
  {
   "cell_type": "code",
   "execution_count": 29,
   "metadata": {},
   "outputs": [
    {
     "data": {
      "text/plain": [
       "[(0, '0.755*\"apple\" + 0.480*\"banana\" + 0.446*\"orange\"'),\n",
       " (1, '0.664*\"carrot\" + 0.484*\"spinach\" + 0.484*\"eggplant\"')]"
      ]
     },
     "execution_count": 29,
     "metadata": {},
     "output_type": "execute_result"
    }
   ],
   "source": [
    "# 각 주제와 관련이 높은 상위 k 개의 단어만 확인하기\n",
    "k=3\n",
    "model.print_topics(num_words=k)"
   ]
  },
  {
   "cell_type": "code",
   "execution_count": 30,
   "metadata": {},
   "outputs": [
    {
     "data": {
      "text/plain": [
       "array([[ 0.75511545,  0.48025006,  0.44627407,  0.        ,  0.        ,\n",
       "         0.        ,  0.        ],\n",
       "       [-0.        ,  0.        , -0.        ,  0.66353532,  0.48352718,\n",
       "         0.48352718,  0.30351904]])"
      ]
     },
     "execution_count": 30,
     "metadata": {},
     "output_type": "execute_result"
    }
   ],
   "source": [
    "model.get_topics()"
   ]
  },
  {
   "cell_type": "code",
   "execution_count": 31,
   "metadata": {},
   "outputs": [
    {
     "data": {
      "text/plain": [
       "[(0, 2.917005078618542)]"
      ]
     },
     "execution_count": 31,
     "metadata": {},
     "output_type": "execute_result"
    }
   ],
   "source": [
    "model[DTM[0]]"
   ]
  },
  {
   "cell_type": "code",
   "execution_count": 32,
   "metadata": {},
   "outputs": [],
   "source": [
    "from gensim.models import CoherenceModel"
   ]
  },
  {
   "cell_type": "code",
   "execution_count": 33,
   "metadata": {},
   "outputs": [],
   "source": [
    "def compute_coherence_values(dictionary, corpus, texts, limit, start=1, step=1):\n",
    "\n",
    "    coherence_values = []\n",
    "\n",
    "    for num_topics in range(start, limit, step):\n",
    "        lsi_model = LsiModel(corpus, num_topics=num_topics, id2word=dictionary)\n",
    "        coherencemodel = CoherenceModel(model=lsi_model, corpus=corpus, dictionary=dictionary, \n",
    "                                        coherence='u_mass', topn=4)\n",
    "        coherence_values.append(coherencemodel.get_coherence())\n",
    "\n",
    "    return coherence_values"
   ]
  },
  {
   "cell_type": "code",
   "execution_count": 34,
   "metadata": {},
   "outputs": [
    {
     "ename": "NameError",
     "evalue": "name 'corpus' is not defined",
     "output_type": "error",
     "traceback": [
      "\u001b[1;31m---------------------------------------------------------------------------\u001b[0m",
      "\u001b[1;31mNameError\u001b[0m                                 Traceback (most recent call last)",
      "Cell \u001b[1;32mIn[34], line 1\u001b[0m\n\u001b[1;32m----> 1\u001b[0m coherence_values \u001b[38;5;241m=\u001b[39m compute_coherence_values(dictionary\u001b[38;5;241m=\u001b[39mdictionary, corpus\u001b[38;5;241m=\u001b[39m\u001b[43mcorpus\u001b[49m, texts\u001b[38;5;241m=\u001b[39mdocs_words, start\u001b[38;5;241m=\u001b[39m\u001b[38;5;241m1\u001b[39m, limit\u001b[38;5;241m=\u001b[39m\u001b[38;5;241m5\u001b[39m, step\u001b[38;5;241m=\u001b[39m\u001b[38;5;241m1\u001b[39m)\n",
      "\u001b[1;31mNameError\u001b[0m: name 'corpus' is not defined"
     ]
    }
   ],
   "source": [
    "coherence_values = compute_coherence_values(dictionary=dictionary, corpus=corpus, texts=docs_words, start=1, limit=5, step=1)"
   ]
  },
  {
   "cell_type": "code",
   "execution_count": null,
   "metadata": {},
   "outputs": [],
   "source": [
    "coherence_values"
   ]
  },
  {
   "cell_type": "code",
   "execution_count": null,
   "metadata": {},
   "outputs": [],
   "source": [
    "import matplotlib.pyplot as plt\n",
    "limit=5; start=1; step=1;\n",
    "x = range(start, limit, step)\n",
    "plt.plot(x, coherence_values)\n",
    "plt.xlabel(\"Num Topics\")\n",
    "plt.ylabel(\"Coherence score\")\n",
    "plt.legend((\"coherence_values\"), loc='best')\n",
    "plt.show()"
   ]
  },
  {
   "cell_type": "code",
   "execution_count": null,
   "metadata": {},
   "outputs": [],
   "source": []
  }
 ],
 "metadata": {
  "kernelspec": {
   "display_name": "Python 3 (ipykernel)",
   "language": "python",
   "name": "python3"
  },
  "language_info": {
   "codemirror_mode": {
    "name": "ipython",
    "version": 3
   },
   "file_extension": ".py",
   "mimetype": "text/x-python",
   "name": "python",
   "nbconvert_exporter": "python",
   "pygments_lexer": "ipython3",
   "version": "3.8.16"
  }
 },
 "nbformat": 4,
 "nbformat_minor": 2
}
