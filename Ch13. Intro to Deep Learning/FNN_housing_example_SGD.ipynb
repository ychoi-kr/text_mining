{
 "cells": [
  {
   "cell_type": "code",
   "execution_count": 1,
   "metadata": {},
   "outputs": [],
   "source": [
    "import tensorflow as tf\n",
    "from tensorflow import keras"
   ]
  },
  {
   "cell_type": "code",
   "execution_count": 2,
   "metadata": {},
   "outputs": [],
   "source": [
    "(train_data, train_targets), (test_data, test_targets) = keras.datasets.boston_housing.load_data()"
   ]
  },
  {
   "cell_type": "code",
   "execution_count": 3,
   "metadata": {},
   "outputs": [
    {
     "data": {
      "text/plain": [
       "(404, 13)"
      ]
     },
     "execution_count": 3,
     "metadata": {},
     "output_type": "execute_result"
    }
   ],
   "source": [
    "train_data.shape"
   ]
  },
  {
   "cell_type": "code",
   "execution_count": 4,
   "metadata": {},
   "outputs": [
    {
     "data": {
      "text/plain": [
       "(404,)"
      ]
     },
     "execution_count": 4,
     "metadata": {},
     "output_type": "execute_result"
    }
   ],
   "source": [
    "train_targets.shape"
   ]
  },
  {
   "cell_type": "markdown",
   "metadata": {},
   "source": [
    "404개의 data points <br>\n",
    "13개의 독립변수"
   ]
  },
  {
   "cell_type": "code",
   "execution_count": 5,
   "metadata": {},
   "outputs": [
    {
     "data": {
      "text/plain": [
       "array([  1.23247,   0.     ,   8.14   ,   0.     ,   0.538  ,   6.142  ,\n",
       "        91.7    ,   3.9769 ,   4.     , 307.     ,  21.     , 396.9    ,\n",
       "        18.72   ])"
      ]
     },
     "execution_count": 5,
     "metadata": {},
     "output_type": "execute_result"
    }
   ],
   "source": [
    "train_data[0]"
   ]
  },
  {
   "cell_type": "code",
   "execution_count": 6,
   "metadata": {},
   "outputs": [
    {
     "data": {
      "text/plain": [
       "array([15.2, 42.3, 50. , 21.1, 17.7])"
      ]
     },
     "execution_count": 6,
     "metadata": {},
     "output_type": "execute_result"
    }
   ],
   "source": [
    "train_targets[:5]"
   ]
  },
  {
   "cell_type": "markdown",
   "metadata": {},
   "source": [
    "종속변수는 미국 Boston에 속한 도시들의 70년대 중반 집들의 중간값 <br>\n",
    "data point는 도시 <br>\n",
    "독립변수는 범죄율, 교통 편의성 등 <br>\n",
    "10 = > $ 10K"
   ]
  },
  {
   "cell_type": "code",
   "execution_count": 7,
   "metadata": {},
   "outputs": [],
   "source": [
    "mean = train_data.mean(axis=0)\n",
    "train_data -= mean\n",
    "std = train_data.std(axis=0)\n",
    "train_data /= std\n",
    "test_data -= mean\n",
    "test_data /= std"
   ]
  },
  {
   "cell_type": "code",
   "execution_count": 8,
   "metadata": {},
   "outputs": [],
   "source": [
    "from tensorflow.keras import models\n",
    "from tensorflow.keras import layers"
   ]
  },
  {
   "cell_type": "code",
   "execution_count": 9,
   "metadata": {},
   "outputs": [
    {
     "data": {
      "text/plain": [
       "(404, 13)"
      ]
     },
     "execution_count": 9,
     "metadata": {},
     "output_type": "execute_result"
    }
   ],
   "source": [
    "train_data.shape"
   ]
  },
  {
   "cell_type": "code",
   "execution_count": 10,
   "metadata": {},
   "outputs": [],
   "source": [
    "model = models.Sequential()"
   ]
  },
  {
   "cell_type": "code",
   "execution_count": 11,
   "metadata": {},
   "outputs": [],
   "source": [
    "model.add(layers.Dense(64, activation = 'relu', kernel_initializer = 'glorot_uniform', input_shape=(train_data.shape[1],)))"
   ]
  },
  {
   "cell_type": "code",
   "execution_count": 12,
   "metadata": {},
   "outputs": [],
   "source": [
    "model.add(layers.Dense(64, activation = 'relu', kernel_initializer = 'glorot_uniform'))"
   ]
  },
  {
   "cell_type": "code",
   "execution_count": 13,
   "metadata": {},
   "outputs": [],
   "source": [
    "model.add(layers.Dense(1))"
   ]
  },
  {
   "cell_type": "code",
   "execution_count": 14,
   "metadata": {},
   "outputs": [
    {
     "name": "stdout",
     "output_type": "stream",
     "text": [
      "Model: \"sequential\"\n",
      "_________________________________________________________________\n",
      " Layer (type)                Output Shape              Param #   \n",
      "=================================================================\n",
      " dense (Dense)               (None, 64)                896       \n",
      "                                                                 \n",
      " dense_1 (Dense)             (None, 64)                4160      \n",
      "                                                                 \n",
      " dense_2 (Dense)             (None, 1)                 65        \n",
      "                                                                 \n",
      "=================================================================\n",
      "Total params: 5,121\n",
      "Trainable params: 5,121\n",
      "Non-trainable params: 0\n",
      "_________________________________________________________________\n"
     ]
    }
   ],
   "source": [
    "model.summary()"
   ]
  },
  {
   "cell_type": "code",
   "execution_count": 15,
   "metadata": {},
   "outputs": [
    {
     "data": {
      "image/svg+xml": [
       "<svg xmlns=\"http://www.w3.org/2000/svg\" xmlns:xlink=\"http://www.w3.org/1999/xlink\" width=\"208pt\" height=\"274pt\" viewBox=\"0.00 0.00 230.00 304.00\">\n",
       "<g id=\"graph0\" class=\"graph\" transform=\"scale(0.9 0.9) rotate(0) translate(4 300)\">\n",
       "<title>G</title>\n",
       "<polygon fill=\"white\" stroke=\"transparent\" points=\"-4,4 -4,-300 226,-300 226,4 -4,4\"/>\n",
       "<!-- 2048090977712 -->\n",
       "<g id=\"node1\" class=\"node\">\n",
       "<title>2048090977712</title>\n",
       "<polygon fill=\"none\" stroke=\"black\" points=\"0,-249.5 0,-295.5 222,-295.5 222,-249.5 0,-249.5\"/>\n",
       "<text text-anchor=\"middle\" x=\"41\" y=\"-280.3\" font-family=\"Times New Roman,serif\" font-size=\"14.00\">dense_input</text>\n",
       "<polyline fill=\"none\" stroke=\"black\" points=\"0,-272.5 82,-272.5 \"/>\n",
       "<text text-anchor=\"middle\" x=\"41\" y=\"-257.3\" font-family=\"Times New Roman,serif\" font-size=\"14.00\">InputLayer</text>\n",
       "<polyline fill=\"none\" stroke=\"black\" points=\"82,-249.5 82,-295.5 \"/>\n",
       "<text text-anchor=\"middle\" x=\"109.5\" y=\"-280.3\" font-family=\"Times New Roman,serif\" font-size=\"14.00\">input:</text>\n",
       "<polyline fill=\"none\" stroke=\"black\" points=\"82,-272.5 137,-272.5 \"/>\n",
       "<text text-anchor=\"middle\" x=\"109.5\" y=\"-257.3\" font-family=\"Times New Roman,serif\" font-size=\"14.00\">output:</text>\n",
       "<polyline fill=\"none\" stroke=\"black\" points=\"137,-249.5 137,-295.5 \"/>\n",
       "<text text-anchor=\"middle\" x=\"179.5\" y=\"-280.3\" font-family=\"Times New Roman,serif\" font-size=\"14.00\">[(None, 13)]</text>\n",
       "<polyline fill=\"none\" stroke=\"black\" points=\"137,-272.5 222,-272.5 \"/>\n",
       "<text text-anchor=\"middle\" x=\"179.5\" y=\"-257.3\" font-family=\"Times New Roman,serif\" font-size=\"14.00\">[(None, 13)]</text>\n",
       "</g>\n",
       "<!-- 2048090977760 -->\n",
       "<g id=\"node2\" class=\"node\">\n",
       "<title>2048090977760</title>\n",
       "<polygon fill=\"none\" stroke=\"black\" points=\"20.5,-166.5 20.5,-212.5 201.5,-212.5 201.5,-166.5 20.5,-166.5\"/>\n",
       "<text text-anchor=\"middle\" x=\"45.5\" y=\"-197.3\" font-family=\"Times New Roman,serif\" font-size=\"14.00\">dense</text>\n",
       "<polyline fill=\"none\" stroke=\"black\" points=\"20.5,-189.5 70.5,-189.5 \"/>\n",
       "<text text-anchor=\"middle\" x=\"45.5\" y=\"-174.3\" font-family=\"Times New Roman,serif\" font-size=\"14.00\">Dense</text>\n",
       "<polyline fill=\"none\" stroke=\"black\" points=\"70.5,-166.5 70.5,-212.5 \"/>\n",
       "<text text-anchor=\"middle\" x=\"98\" y=\"-197.3\" font-family=\"Times New Roman,serif\" font-size=\"14.00\">input:</text>\n",
       "<polyline fill=\"none\" stroke=\"black\" points=\"70.5,-189.5 125.5,-189.5 \"/>\n",
       "<text text-anchor=\"middle\" x=\"98\" y=\"-174.3\" font-family=\"Times New Roman,serif\" font-size=\"14.00\">output:</text>\n",
       "<polyline fill=\"none\" stroke=\"black\" points=\"125.5,-166.5 125.5,-212.5 \"/>\n",
       "<text text-anchor=\"middle\" x=\"163.5\" y=\"-197.3\" font-family=\"Times New Roman,serif\" font-size=\"14.00\">(None, 13)</text>\n",
       "<polyline fill=\"none\" stroke=\"black\" points=\"125.5,-189.5 201.5,-189.5 \"/>\n",
       "<text text-anchor=\"middle\" x=\"163.5\" y=\"-174.3\" font-family=\"Times New Roman,serif\" font-size=\"14.00\">(None, 64)</text>\n",
       "</g>\n",
       "<!-- 2048090977712&#45;&gt;2048090977760 -->\n",
       "<g id=\"edge1\" class=\"edge\">\n",
       "<title>2048090977712-&gt;2048090977760</title>\n",
       "<path fill=\"none\" stroke=\"black\" d=\"M111,-249.37C111,-241.15 111,-231.66 111,-222.73\"/>\n",
       "<polygon fill=\"black\" stroke=\"black\" points=\"114.5,-222.61 111,-212.61 107.5,-222.61 114.5,-222.61\"/>\n",
       "</g>\n",
       "<!-- 2048090976320 -->\n",
       "<g id=\"node3\" class=\"node\">\n",
       "<title>2048090976320</title>\n",
       "<polygon fill=\"none\" stroke=\"black\" points=\"15,-83.5 15,-129.5 207,-129.5 207,-83.5 15,-83.5\"/>\n",
       "<text text-anchor=\"middle\" x=\"45.5\" y=\"-114.3\" font-family=\"Times New Roman,serif\" font-size=\"14.00\">dense_1</text>\n",
       "<polyline fill=\"none\" stroke=\"black\" points=\"15,-106.5 76,-106.5 \"/>\n",
       "<text text-anchor=\"middle\" x=\"45.5\" y=\"-91.3\" font-family=\"Times New Roman,serif\" font-size=\"14.00\">Dense</text>\n",
       "<polyline fill=\"none\" stroke=\"black\" points=\"76,-83.5 76,-129.5 \"/>\n",
       "<text text-anchor=\"middle\" x=\"103.5\" y=\"-114.3\" font-family=\"Times New Roman,serif\" font-size=\"14.00\">input:</text>\n",
       "<polyline fill=\"none\" stroke=\"black\" points=\"76,-106.5 131,-106.5 \"/>\n",
       "<text text-anchor=\"middle\" x=\"103.5\" y=\"-91.3\" font-family=\"Times New Roman,serif\" font-size=\"14.00\">output:</text>\n",
       "<polyline fill=\"none\" stroke=\"black\" points=\"131,-83.5 131,-129.5 \"/>\n",
       "<text text-anchor=\"middle\" x=\"169\" y=\"-114.3\" font-family=\"Times New Roman,serif\" font-size=\"14.00\">(None, 64)</text>\n",
       "<polyline fill=\"none\" stroke=\"black\" points=\"131,-106.5 207,-106.5 \"/>\n",
       "<text text-anchor=\"middle\" x=\"169\" y=\"-91.3\" font-family=\"Times New Roman,serif\" font-size=\"14.00\">(None, 64)</text>\n",
       "</g>\n",
       "<!-- 2048090977760&#45;&gt;2048090976320 -->\n",
       "<g id=\"edge2\" class=\"edge\">\n",
       "<title>2048090977760-&gt;2048090976320</title>\n",
       "<path fill=\"none\" stroke=\"black\" d=\"M111,-166.37C111,-158.15 111,-148.66 111,-139.73\"/>\n",
       "<polygon fill=\"black\" stroke=\"black\" points=\"114.5,-139.61 111,-129.61 107.5,-139.61 114.5,-139.61\"/>\n",
       "</g>\n",
       "<!-- 2048092960320 -->\n",
       "<g id=\"node4\" class=\"node\">\n",
       "<title>2048092960320</title>\n",
       "<polygon fill=\"none\" stroke=\"black\" points=\"15,-0.5 15,-46.5 207,-46.5 207,-0.5 15,-0.5\"/>\n",
       "<text text-anchor=\"middle\" x=\"45.5\" y=\"-31.3\" font-family=\"Times New Roman,serif\" font-size=\"14.00\">dense_2</text>\n",
       "<polyline fill=\"none\" stroke=\"black\" points=\"15,-23.5 76,-23.5 \"/>\n",
       "<text text-anchor=\"middle\" x=\"45.5\" y=\"-8.3\" font-family=\"Times New Roman,serif\" font-size=\"14.00\">Dense</text>\n",
       "<polyline fill=\"none\" stroke=\"black\" points=\"76,-0.5 76,-46.5 \"/>\n",
       "<text text-anchor=\"middle\" x=\"103.5\" y=\"-31.3\" font-family=\"Times New Roman,serif\" font-size=\"14.00\">input:</text>\n",
       "<polyline fill=\"none\" stroke=\"black\" points=\"76,-23.5 131,-23.5 \"/>\n",
       "<text text-anchor=\"middle\" x=\"103.5\" y=\"-8.3\" font-family=\"Times New Roman,serif\" font-size=\"14.00\">output:</text>\n",
       "<polyline fill=\"none\" stroke=\"black\" points=\"131,-0.5 131,-46.5 \"/>\n",
       "<text text-anchor=\"middle\" x=\"169\" y=\"-31.3\" font-family=\"Times New Roman,serif\" font-size=\"14.00\">(None, 64)</text>\n",
       "<polyline fill=\"none\" stroke=\"black\" points=\"131,-23.5 207,-23.5 \"/>\n",
       "<text text-anchor=\"middle\" x=\"169\" y=\"-8.3\" font-family=\"Times New Roman,serif\" font-size=\"14.00\">(None, 1)</text>\n",
       "</g>\n",
       "<!-- 2048090976320&#45;&gt;2048092960320 -->\n",
       "<g id=\"edge3\" class=\"edge\">\n",
       "<title>2048090976320-&gt;2048092960320</title>\n",
       "<path fill=\"none\" stroke=\"black\" d=\"M111,-83.37C111,-75.15 111,-65.66 111,-56.73\"/>\n",
       "<polygon fill=\"black\" stroke=\"black\" points=\"114.5,-56.61 111,-46.61 107.5,-56.61 114.5,-56.61\"/>\n",
       "</g>\n",
       "</g>\n",
       "</svg>"
      ],
      "text/plain": [
       "<IPython.core.display.SVG object>"
      ]
     },
     "execution_count": 15,
     "metadata": {},
     "output_type": "execute_result"
    }
   ],
   "source": [
    "from IPython.display import SVG\n",
    "from keras.utils.vis_utils import model_to_dot\n",
    "SVG(model_to_dot(model, show_shapes= True, show_layer_names=True, dpi=65).create(prog='dot', format='svg'))"
   ]
  },
  {
   "cell_type": "markdown",
   "metadata": {},
   "source": [
    "SGD optimizer 사용하기"
   ]
  },
  {
   "cell_type": "code",
   "execution_count": 16,
   "metadata": {},
   "outputs": [],
   "source": [
    "sgd= tf.keras.optimizers.SGD(learning_rate=0.001, momentum=0.9, nesterov=True)"
   ]
  },
  {
   "cell_type": "code",
   "execution_count": 17,
   "metadata": {},
   "outputs": [],
   "source": [
    "model.compile(optimizer=sgd, loss='mse')"
   ]
  },
  {
   "cell_type": "code",
   "execution_count": 18,
   "metadata": {
    "scrolled": true
   },
   "outputs": [
    {
     "name": "stdout",
     "output_type": "stream",
     "text": [
      "Epoch 1/80\n",
      "7/7 [==============================] - 0s 1ms/step - loss: 407.5507\n",
      "Epoch 2/80\n",
      "7/7 [==============================] - 0s 828us/step - loss: 66.4167\n",
      "Epoch 3/80\n",
      "7/7 [==============================] - 0s 833us/step - loss: 28.3289\n",
      "Epoch 4/80\n",
      "7/7 [==============================] - 0s 833us/step - loss: 16.1207\n",
      "Epoch 5/80\n",
      "7/7 [==============================] - 0s 1ms/step - loss: 12.4742\n",
      "Epoch 6/80\n",
      "7/7 [==============================] - 0s 833us/step - loss: 10.9650\n",
      "Epoch 7/80\n",
      "7/7 [==============================] - 0s 833us/step - loss: 10.0919\n",
      "Epoch 8/80\n",
      "7/7 [==============================] - 0s 833us/step - loss: 9.8913\n",
      "Epoch 9/80\n",
      "7/7 [==============================] - 0s 833us/step - loss: 9.2221\n",
      "Epoch 10/80\n",
      "7/7 [==============================] - 0s 833us/step - loss: 8.9012\n",
      "Epoch 11/80\n",
      "7/7 [==============================] - 0s 833us/step - loss: 8.7422\n",
      "Epoch 12/80\n",
      "7/7 [==============================] - 0s 1ms/step - loss: 8.5429\n",
      "Epoch 13/80\n",
      "7/7 [==============================] - 0s 833us/step - loss: 8.2128\n",
      "Epoch 14/80\n",
      "7/7 [==============================] - 0s 834us/step - loss: 8.5836\n",
      "Epoch 15/80\n",
      "7/7 [==============================] - 0s 889us/step - loss: 7.9588\n",
      "Epoch 16/80\n",
      "7/7 [==============================] - 0s 839us/step - loss: 7.6527\n",
      "Epoch 17/80\n",
      "7/7 [==============================] - 0s 833us/step - loss: 7.8741\n",
      "Epoch 18/80\n",
      "7/7 [==============================] - 0s 666us/step - loss: 7.8557\n",
      "Epoch 19/80\n",
      "7/7 [==============================] - 0s 833us/step - loss: 7.3701\n",
      "Epoch 20/80\n",
      "7/7 [==============================] - 0s 833us/step - loss: 7.5021\n",
      "Epoch 21/80\n",
      "7/7 [==============================] - 0s 833us/step - loss: 7.1833\n",
      "Epoch 22/80\n",
      "7/7 [==============================] - 0s 833us/step - loss: 7.4866\n",
      "Epoch 23/80\n",
      "7/7 [==============================] - 0s 833us/step - loss: 7.2034\n",
      "Epoch 24/80\n",
      "7/7 [==============================] - 0s 833us/step - loss: 7.0823\n",
      "Epoch 25/80\n",
      "7/7 [==============================] - 0s 854us/step - loss: 6.6487\n",
      "Epoch 26/80\n",
      "7/7 [==============================] - 0s 828us/step - loss: 6.5417\n",
      "Epoch 27/80\n",
      "7/7 [==============================] - 0s 833us/step - loss: 6.4946\n",
      "Epoch 28/80\n",
      "7/7 [==============================] - 0s 834us/step - loss: 6.5073\n",
      "Epoch 29/80\n",
      "7/7 [==============================] - 0s 835us/step - loss: 6.5219\n",
      "Epoch 30/80\n",
      "7/7 [==============================] - 0s 838us/step - loss: 7.3521\n",
      "Epoch 31/80\n",
      "7/7 [==============================] - 0s 666us/step - loss: 6.4725\n",
      "Epoch 32/80\n",
      "7/7 [==============================] - 0s 833us/step - loss: 6.2373\n",
      "Epoch 33/80\n",
      "7/7 [==============================] - 0s 833us/step - loss: 6.2533\n",
      "Epoch 34/80\n",
      "7/7 [==============================] - 0s 870us/step - loss: 6.1379\n",
      "Epoch 35/80\n",
      "7/7 [==============================] - 0s 833us/step - loss: 5.7520\n",
      "Epoch 36/80\n",
      "7/7 [==============================] - 0s 833us/step - loss: 6.1533\n",
      "Epoch 37/80\n",
      "7/7 [==============================] - 0s 834us/step - loss: 5.7798\n",
      "Epoch 38/80\n",
      "7/7 [==============================] - 0s 935us/step - loss: 6.0080\n",
      "Epoch 39/80\n",
      "7/7 [==============================] - 0s 667us/step - loss: 5.9796\n",
      "Epoch 40/80\n",
      "7/7 [==============================] - 0s 833us/step - loss: 5.7090\n",
      "Epoch 41/80\n",
      "7/7 [==============================] - 0s 833us/step - loss: 5.5919\n",
      "Epoch 42/80\n",
      "7/7 [==============================] - 0s 833us/step - loss: 6.2572\n",
      "Epoch 43/80\n",
      "7/7 [==============================] - 0s 838us/step - loss: 6.3913\n",
      "Epoch 44/80\n",
      "7/7 [==============================] - 0s 838us/step - loss: 5.3910\n",
      "Epoch 45/80\n",
      "7/7 [==============================] - 0s 743us/step - loss: 5.4179\n",
      "Epoch 46/80\n",
      "7/7 [==============================] - 0s 828us/step - loss: 5.4804\n",
      "Epoch 47/80\n",
      "7/7 [==============================] - 0s 833us/step - loss: 5.1522\n",
      "Epoch 48/80\n",
      "7/7 [==============================] - 0s 834us/step - loss: 5.5732\n",
      "Epoch 49/80\n",
      "7/7 [==============================] - 0s 833us/step - loss: 5.2502\n",
      "Epoch 50/80\n",
      "7/7 [==============================] - 0s 833us/step - loss: 5.1856\n",
      "Epoch 51/80\n",
      "7/7 [==============================] - 0s 834us/step - loss: 5.1644\n",
      "Epoch 52/80\n",
      "7/7 [==============================] - 0s 833us/step - loss: 5.2303\n",
      "Epoch 53/80\n",
      "7/7 [==============================] - 0s 751us/step - loss: 5.3972\n",
      "Epoch 54/80\n",
      "7/7 [==============================] - 0s 899us/step - loss: 5.0210\n",
      "Epoch 55/80\n",
      "7/7 [==============================] - 0s 838us/step - loss: 5.4589\n",
      "Epoch 56/80\n",
      "7/7 [==============================] - 0s 833us/step - loss: 4.8608\n",
      "Epoch 57/80\n",
      "7/7 [==============================] - 0s 833us/step - loss: 4.6623\n",
      "Epoch 58/80\n",
      "7/7 [==============================] - 0s 834us/step - loss: 4.5691\n",
      "Epoch 59/80\n",
      "7/7 [==============================] - 0s 848us/step - loss: 4.5427\n",
      "Epoch 60/80\n",
      "7/7 [==============================] - 0s 829us/step - loss: 4.7350\n",
      "Epoch 61/80\n",
      "7/7 [==============================] - 0s 1000us/step - loss: 4.5174\n",
      "Epoch 62/80\n",
      "7/7 [==============================] - 0s 833us/step - loss: 4.3381\n",
      "Epoch 63/80\n",
      "7/7 [==============================] - 0s 829us/step - loss: 4.4693\n",
      "Epoch 64/80\n",
      "7/7 [==============================] - 0s 838us/step - loss: 4.3954\n",
      "Epoch 65/80\n",
      "7/7 [==============================] - 0s 835us/step - loss: 4.6130\n",
      "Epoch 66/80\n",
      "7/7 [==============================] - 0s 666us/step - loss: 4.4343\n",
      "Epoch 67/80\n",
      "7/7 [==============================] - 0s 751us/step - loss: 4.2110\n",
      "Epoch 68/80\n",
      "7/7 [==============================] - 0s 833us/step - loss: 4.1464\n",
      "Epoch 69/80\n",
      "7/7 [==============================] - 0s 896us/step - loss: 4.4231\n",
      "Epoch 70/80\n",
      "7/7 [==============================] - 0s 833us/step - loss: 4.3656\n",
      "Epoch 71/80\n",
      "7/7 [==============================] - 0s 833us/step - loss: 4.1778\n",
      "Epoch 72/80\n",
      "7/7 [==============================] - 0s 1ms/step - loss: 3.9437\n",
      "Epoch 73/80\n",
      "7/7 [==============================] - 0s 833us/step - loss: 4.0107\n",
      "Epoch 74/80\n",
      "7/7 [==============================] - 0s 833us/step - loss: 3.7081\n",
      "Epoch 75/80\n",
      "7/7 [==============================] - 0s 833us/step - loss: 3.9152\n",
      "Epoch 76/80\n",
      "7/7 [==============================] - 0s 833us/step - loss: 3.7940\n",
      "Epoch 77/80\n",
      "7/7 [==============================] - 0s 1000us/step - loss: 3.6807\n",
      "Epoch 78/80\n",
      "7/7 [==============================] - 0s 833us/step - loss: 3.6830\n",
      "Epoch 79/80\n",
      "7/7 [==============================] - 0s 1000us/step - loss: 3.6982\n",
      "Epoch 80/80\n",
      "7/7 [==============================] - 0s 833us/step - loss: 3.6940\n"
     ]
    }
   ],
   "source": [
    "history = model.fit(train_data, train_targets, epochs=80, batch_size=64)"
   ]
  },
  {
   "cell_type": "markdown",
   "metadata": {},
   "source": [
    "## Loss 값 변화 살펴보기"
   ]
  },
  {
   "cell_type": "code",
   "execution_count": 19,
   "metadata": {},
   "outputs": [],
   "source": [
    "import matplotlib.pyplot as plt"
   ]
  },
  {
   "cell_type": "code",
   "execution_count": 20,
   "metadata": {},
   "outputs": [
    {
     "data": {
      "image/png": "[encoded data removed]",
      "text/plain": [
       "<Figure size 640x480 with 1 Axes>"
      ]
     },
     "metadata": {},
     "output_type": "display_data"
    }
   ],
   "source": [
    "plt.plot(history.history['loss'])\n",
    "plt.xlabel('epoch')\n",
    "plt.ylabel('loss')\n",
    "plt.legend(['train'])\n",
    "plt.show()"
   ]
  },
  {
   "cell_type": "markdown",
   "metadata": {},
   "source": [
    "# 성능 평가하기"
   ]
  },
  {
   "cell_type": "code",
   "execution_count": 21,
   "metadata": {},
   "outputs": [
    {
     "data": {
      "text/plain": [
       "(102, 13)"
      ]
     },
     "execution_count": 21,
     "metadata": {},
     "output_type": "execute_result"
    }
   ],
   "source": [
    "test_data.shape"
   ]
  },
  {
   "cell_type": "code",
   "execution_count": 22,
   "metadata": {},
   "outputs": [
    {
     "name": "stdout",
     "output_type": "stream",
     "text": [
      "4/4 [==============================] - 0s 1ms/step\n"
     ]
    }
   ],
   "source": [
    "y_pred = model.predict(test_data)"
   ]
  },
  {
   "cell_type": "code",
   "execution_count": 23,
   "metadata": {},
   "outputs": [
    {
     "data": {
      "text/plain": [
       "3.681238711435706"
      ]
     },
     "execution_count": 23,
     "metadata": {},
     "output_type": "execute_result"
    }
   ],
   "source": [
    "from sklearn.metrics import mean_squared_error\n",
    "mean_squared_error(test_targets, y_pred)**0.5"
   ]
  },
  {
   "cell_type": "code",
   "execution_count": 24,
   "metadata": {},
   "outputs": [
    {
     "data": {
      "text/plain": [
       "0.8372069685443544"
      ]
     },
     "execution_count": 24,
     "metadata": {},
     "output_type": "execute_result"
    }
   ],
   "source": [
    "from sklearn.metrics import r2_score\n",
    "r2_score(test_targets, y_pred)"
   ]
  },
  {
   "cell_type": "code",
   "execution_count": null,
   "metadata": {},
   "outputs": [],
   "source": []
  }
 ],
 "metadata": {
  "kernelspec": {
   "display_name": "Python 3 (ipykernel)",
   "language": "python",
   "name": "python3"
  },
  "language_info": {
   "codemirror_mode": {
    "name": "ipython",
    "version": 3
   },
   "file_extension": ".py",
   "mimetype": "text/x-python",
   "name": "python",
   "nbconvert_exporter": "python",
   "pygments_lexer": "ipython3",
   "version": "3.8.16"
  }
 },
 "nbformat": 4,
 "nbformat_minor": 2
}
