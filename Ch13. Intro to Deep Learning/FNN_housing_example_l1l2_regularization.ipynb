{
 "cells": [
  {
   "cell_type": "code",
   "execution_count": 1,
   "metadata": {},
   "outputs": [],
   "source": [
    "import tensorflow as tf\n",
    "from tensorflow import keras"
   ]
  },
  {
   "cell_type": "code",
   "execution_count": 2,
   "metadata": {},
   "outputs": [],
   "source": [
    "(train_data, train_targets), (test_data, test_targets) =keras.datasets.boston_housing.load_data()"
   ]
  },
  {
   "cell_type": "code",
   "execution_count": 3,
   "metadata": {},
   "outputs": [],
   "source": [
    "mean = train_data.mean(axis=0)\n",
    "train_data -= mean\n",
    "std = train_data.std(axis=0)\n",
    "train_data /= std\n",
    "test_data -= mean\n",
    "test_data /= std"
   ]
  },
  {
   "cell_type": "code",
   "execution_count": 4,
   "metadata": {},
   "outputs": [],
   "source": [
    "from tensorflow.keras import models\n",
    "from tensorflow.keras import layers"
   ]
  },
  {
   "cell_type": "code",
   "execution_count": 5,
   "metadata": {},
   "outputs": [
    {
     "data": {
      "text/plain": [
       "(404, 13)"
      ]
     },
     "execution_count": 5,
     "metadata": {},
     "output_type": "execute_result"
    }
   ],
   "source": [
    "train_data.shape"
   ]
  },
  {
   "cell_type": "code",
   "execution_count": 6,
   "metadata": {},
   "outputs": [],
   "source": [
    "model = models.Sequential()"
   ]
  },
  {
   "cell_type": "code",
   "execution_count": 7,
   "metadata": {},
   "outputs": [],
   "source": [
    "from tensorflow.keras import regularizers"
   ]
  },
  {
   "cell_type": "code",
   "execution_count": 8,
   "metadata": {},
   "outputs": [],
   "source": [
    "l1 = regularizers.L1(l1=0.01)\n",
    "l2 = regularizers.L2(l2=0.01)"
   ]
  },
  {
   "cell_type": "code",
   "execution_count": 9,
   "metadata": {},
   "outputs": [],
   "source": [
    "model.add(layers.Dense(64, activation = 'relu', kernel_regularizer=l1, input_shape=(train_data.shape[1],)))"
   ]
  },
  {
   "cell_type": "code",
   "execution_count": 10,
   "metadata": {},
   "outputs": [],
   "source": [
    "model.add(layers.Dense(64, activation = 'relu', kernel_regularizer=l2))"
   ]
  },
  {
   "cell_type": "code",
   "execution_count": 11,
   "metadata": {},
   "outputs": [],
   "source": [
    "model.add(layers.Dense(1))"
   ]
  },
  {
   "cell_type": "code",
   "execution_count": 12,
   "metadata": {},
   "outputs": [
    {
     "name": "stdout",
     "output_type": "stream",
     "text": [
      "Model: \"sequential\"\n",
      "_________________________________________________________________\n",
      " Layer (type)                Output Shape              Param #   \n",
      "=================================================================\n",
      " dense (Dense)               (None, 64)                896       \n",
      "                                                                 \n",
      " dense_1 (Dense)             (None, 64)                4160      \n",
      "                                                                 \n",
      " dense_2 (Dense)             (None, 1)                 65        \n",
      "                                                                 \n",
      "=================================================================\n",
      "Total params: 5,121\n",
      "Trainable params: 5,121\n",
      "Non-trainable params: 0\n",
      "_________________________________________________________________\n"
     ]
    }
   ],
   "source": [
    "model.summary()"
   ]
  },
  {
   "cell_type": "code",
   "execution_count": 13,
   "metadata": {},
   "outputs": [],
   "source": [
    "rmsprop = tf.keras.optimizers.RMSprop(learning_rate=0.001, rho=0.85, momentum=0.9)"
   ]
  },
  {
   "cell_type": "code",
   "execution_count": 14,
   "metadata": {},
   "outputs": [],
   "source": [
    "model.compile(optimizer=rmsprop, loss='mse')"
   ]
  },
  {
   "cell_type": "code",
   "execution_count": 15,
   "metadata": {
    "scrolled": true
   },
   "outputs": [
    {
     "name": "stdout",
     "output_type": "stream",
     "text": [
      "Epoch 1/80\n",
      "7/7 [==============================] - 0s 1ms/step - loss: 531.7502\n",
      "Epoch 2/80\n",
      "7/7 [==============================] - 0s 1ms/step - loss: 175.0679\n",
      "Epoch 3/80\n",
      "7/7 [==============================] - 0s 839us/step - loss: 209.9840\n",
      "Epoch 4/80\n",
      "7/7 [==============================] - 0s 839us/step - loss: 50.1131\n",
      "Epoch 5/80\n",
      "7/7 [==============================] - 0s 833us/step - loss: 44.6620\n",
      "Epoch 6/80\n",
      "7/7 [==============================] - 0s 1ms/step - loss: 26.6202\n",
      "Epoch 7/80\n",
      "7/7 [==============================] - 0s 919us/step - loss: 20.1658\n",
      "Epoch 8/80\n",
      "7/7 [==============================] - 0s 833us/step - loss: 19.0784\n",
      "Epoch 9/80\n",
      "7/7 [==============================] - 0s 999us/step - loss: 15.0484\n",
      "Epoch 10/80\n",
      "7/7 [==============================] - 0s 999us/step - loss: 13.8100\n",
      "Epoch 11/80\n",
      "7/7 [==============================] - 0s 1ms/step - loss: 12.8182\n",
      "Epoch 12/80\n",
      "7/7 [==============================] - 0s 833us/step - loss: 12.0372\n",
      "Epoch 13/80\n",
      "7/7 [==============================] - 0s 1ms/step - loss: 11.2831\n",
      "Epoch 14/80\n",
      "7/7 [==============================] - 0s 833us/step - loss: 10.7173\n",
      "Epoch 15/80\n",
      "7/7 [==============================] - 0s 833us/step - loss: 11.6594\n",
      "Epoch 16/80\n",
      "7/7 [==============================] - 0s 833us/step - loss: 11.2043\n",
      "Epoch 17/80\n",
      "7/7 [==============================] - 0s 833us/step - loss: 10.2735\n",
      "Epoch 18/80\n",
      "7/7 [==============================] - 0s 834us/step - loss: 10.5247\n",
      "Epoch 19/80\n",
      "7/7 [==============================] - 0s 833us/step - loss: 9.9929\n",
      "Epoch 20/80\n",
      "7/7 [==============================] - 0s 752us/step - loss: 9.7001\n",
      "Epoch 21/80\n",
      "7/7 [==============================] - 0s 834us/step - loss: 9.9695\n",
      "Epoch 22/80\n",
      "7/7 [==============================] - 0s 833us/step - loss: 9.1151\n",
      "Epoch 23/80\n",
      "7/7 [==============================] - 0s 839us/step - loss: 9.0869\n",
      "Epoch 24/80\n",
      "7/7 [==============================] - 0s 833us/step - loss: 8.9902\n",
      "Epoch 25/80\n",
      "7/7 [==============================] - 0s 1ms/step - loss: 9.2950\n",
      "Epoch 26/80\n",
      "7/7 [==============================] - 0s 1000us/step - loss: 9.2439\n",
      "Epoch 27/80\n",
      "7/7 [==============================] - 0s 835us/step - loss: 9.1313\n",
      "Epoch 28/80\n",
      "7/7 [==============================] - 0s 833us/step - loss: 8.6920\n",
      "Epoch 29/80\n",
      "7/7 [==============================] - 0s 833us/step - loss: 8.7220\n",
      "Epoch 30/80\n",
      "7/7 [==============================] - 0s 1ms/step - loss: 8.5912\n",
      "Epoch 31/80\n",
      "7/7 [==============================] - 0s 834us/step - loss: 8.0146\n",
      "Epoch 32/80\n",
      "7/7 [==============================] - 0s 833us/step - loss: 8.0775\n",
      "Epoch 33/80\n",
      "7/7 [==============================] - 0s 918us/step - loss: 8.9883\n",
      "Epoch 34/80\n",
      "7/7 [==============================] - 0s 833us/step - loss: 9.1306\n",
      "Epoch 35/80\n",
      "7/7 [==============================] - 0s 833us/step - loss: 9.6110\n",
      "Epoch 36/80\n",
      "7/7 [==============================] - 0s 833us/step - loss: 7.9208\n",
      "Epoch 37/80\n",
      "7/7 [==============================] - 0s 833us/step - loss: 8.1989\n",
      "Epoch 38/80\n",
      "7/7 [==============================] - 0s 666us/step - loss: 7.9903\n",
      "Epoch 39/80\n",
      "7/7 [==============================] - 0s 833us/step - loss: 8.1536\n",
      "Epoch 40/80\n",
      "7/7 [==============================] - 0s 833us/step - loss: 8.1650\n",
      "Epoch 41/80\n",
      "7/7 [==============================] - 0s 833us/step - loss: 8.2874\n",
      "Epoch 42/80\n",
      "7/7 [==============================] - 0s 833us/step - loss: 7.4184\n",
      "Epoch 43/80\n",
      "7/7 [==============================] - 0s 884us/step - loss: 7.9269\n",
      "Epoch 44/80\n",
      "7/7 [==============================] - 0s 838us/step - loss: 8.1877\n",
      "Epoch 45/80\n",
      "7/7 [==============================] - 0s 832us/step - loss: 7.8055\n",
      "Epoch 46/80\n",
      "7/7 [==============================] - 0s 672us/step - loss: 7.6504\n",
      "Epoch 47/80\n",
      "7/7 [==============================] - 0s 833us/step - loss: 7.4404\n",
      "Epoch 48/80\n",
      "7/7 [==============================] - 0s 999us/step - loss: 7.8497\n",
      "Epoch 49/80\n",
      "7/7 [==============================] - 0s 839us/step - loss: 8.0503\n",
      "Epoch 50/80\n",
      "7/7 [==============================] - 0s 833us/step - loss: 7.6414\n",
      "Epoch 51/80\n",
      "7/7 [==============================] - 0s 833us/step - loss: 6.6106\n",
      "Epoch 52/80\n",
      "7/7 [==============================] - 0s 833us/step - loss: 6.9869\n",
      "Epoch 53/80\n",
      "7/7 [==============================] - 0s 832us/step - loss: 7.1899\n",
      "Epoch 54/80\n",
      "7/7 [==============================] - 0s 834us/step - loss: 6.9250\n",
      "Epoch 55/80\n",
      "7/7 [==============================] - 0s 833us/step - loss: 6.7693\n",
      "Epoch 56/80\n",
      "7/7 [==============================] - 0s 667us/step - loss: 6.8541\n",
      "Epoch 57/80\n",
      "7/7 [==============================] - 0s 1ms/step - loss: 6.7569\n",
      "Epoch 58/80\n",
      "7/7 [==============================] - 0s 834us/step - loss: 6.7756\n",
      "Epoch 59/80\n",
      "7/7 [==============================] - 0s 834us/step - loss: 6.3690\n",
      "Epoch 60/80\n",
      "7/7 [==============================] - 0s 841us/step - loss: 6.9469\n",
      "Epoch 61/80\n",
      "7/7 [==============================] - 0s 833us/step - loss: 6.9355\n",
      "Epoch 62/80\n",
      "7/7 [==============================] - 0s 1000us/step - loss: 7.4354\n",
      "Epoch 63/80\n",
      "7/7 [==============================] - 0s 833us/step - loss: 6.9375\n",
      "Epoch 64/80\n",
      "7/7 [==============================] - 0s 833us/step - loss: 7.0851\n",
      "Epoch 65/80\n",
      "7/7 [==============================] - 0s 1ms/step - loss: 6.3680\n",
      "Epoch 66/80\n",
      "7/7 [==============================] - 0s 833us/step - loss: 6.2399\n",
      "Epoch 67/80\n",
      "7/7 [==============================] - 0s 833us/step - loss: 6.5478\n",
      "Epoch 68/80\n",
      "7/7 [==============================] - 0s 834us/step - loss: 6.6132\n",
      "Epoch 69/80\n",
      "7/7 [==============================] - 0s 833us/step - loss: 6.5215\n",
      "Epoch 70/80\n",
      "7/7 [==============================] - 0s 833us/step - loss: 6.0062\n",
      "Epoch 71/80\n",
      "7/7 [==============================] - 0s 833us/step - loss: 6.0507\n",
      "Epoch 72/80\n",
      "7/7 [==============================] - 0s 833us/step - loss: 7.0565\n",
      "Epoch 73/80\n",
      "7/7 [==============================] - 0s 918us/step - loss: 6.6324\n",
      "Epoch 74/80\n",
      "7/7 [==============================] - 0s 833us/step - loss: 6.3558\n",
      "Epoch 75/80\n",
      "7/7 [==============================] - 0s 1000us/step - loss: 5.9149\n",
      "Epoch 76/80\n",
      "7/7 [==============================] - 0s 833us/step - loss: 5.8237\n",
      "Epoch 77/80\n",
      "7/7 [==============================] - 0s 1000us/step - loss: 6.3217\n",
      "Epoch 78/80\n",
      "7/7 [==============================] - 0s 833us/step - loss: 6.3487\n",
      "Epoch 79/80\n",
      "7/7 [==============================] - 0s 833us/step - loss: 6.5755\n",
      "Epoch 80/80\n",
      "7/7 [==============================] - 0s 833us/step - loss: 6.1568\n"
     ]
    }
   ],
   "source": [
    "# model.fit(train_data, train_targets, epochs=80, batch_size=16)\n",
    "history = model.fit(train_data, train_targets, epochs=80, batch_size=64)"
   ]
  },
  {
   "cell_type": "markdown",
   "metadata": {},
   "source": [
    "## Loss 값 변화 살펴보기"
   ]
  },
  {
   "cell_type": "code",
   "execution_count": 16,
   "metadata": {},
   "outputs": [],
   "source": [
    "import matplotlib.pyplot as plt"
   ]
  },
  {
   "cell_type": "code",
   "execution_count": 17,
   "metadata": {},
   "outputs": [
    {
     "data": {
      "image/png": "[encoded data removed]",
      "text/plain": [
       "<Figure size 640x480 with 1 Axes>"
      ]
     },
     "metadata": {},
     "output_type": "display_data"
    }
   ],
   "source": [
    "plt.plot(history.history['loss'])\n",
    "plt.xlabel('epoch')\n",
    "plt.ylabel('loss')\n",
    "plt.legend(['train'])\n",
    "plt.show()"
   ]
  },
  {
   "cell_type": "markdown",
   "metadata": {},
   "source": [
    "# 성능 평가하기"
   ]
  },
  {
   "cell_type": "code",
   "execution_count": 18,
   "metadata": {},
   "outputs": [
    {
     "name": "stdout",
     "output_type": "stream",
     "text": [
      "4/4 [==============================] - 0s 667us/step\n"
     ]
    },
    {
     "data": {
      "text/plain": [
       "3.504056062812645"
      ]
     },
     "execution_count": 18,
     "metadata": {},
     "output_type": "execute_result"
    }
   ],
   "source": [
    "y_pred = model.predict(test_data)\n",
    "from sklearn.metrics import mean_squared_error\n",
    "mean_squared_error(test_targets, y_pred)**0.5"
   ]
  },
  {
   "cell_type": "code",
   "execution_count": 19,
   "metadata": {},
   "outputs": [
    {
     "data": {
      "text/plain": [
       "0.8525007059420906"
      ]
     },
     "execution_count": 19,
     "metadata": {},
     "output_type": "execute_result"
    }
   ],
   "source": [
    "from sklearn.metrics import r2_score\n",
    "r2_score(test_targets, y_pred)"
   ]
  },
  {
   "cell_type": "code",
   "execution_count": null,
   "metadata": {},
   "outputs": [],
   "source": []
  }
 ],
 "metadata": {
  "kernelspec": {
   "display_name": "Python 3 (ipykernel)",
   "language": "python",
   "name": "python3"
  },
  "language_info": {
   "codemirror_mode": {
    "name": "ipython",
    "version": 3
   },
   "file_extension": ".py",
   "mimetype": "text/x-python",
   "name": "python",
   "nbconvert_exporter": "python",
   "pygments_lexer": "ipython3",
   "version": "3.8.16"
  }
 },
 "nbformat": 4,
 "nbformat_minor": 2
}
