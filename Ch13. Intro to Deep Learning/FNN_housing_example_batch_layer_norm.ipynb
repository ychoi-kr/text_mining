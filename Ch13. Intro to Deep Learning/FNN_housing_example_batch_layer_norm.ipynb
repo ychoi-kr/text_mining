{
 "cells": [
  {
   "cell_type": "code",
   "execution_count": 1,
   "metadata": {},
   "outputs": [],
   "source": [
    "import tensorflow as tf\n",
    "from tensorflow import keras"
   ]
  },
  {
   "cell_type": "code",
   "execution_count": 2,
   "metadata": {},
   "outputs": [],
   "source": [
    "(train_data, train_targets), (test_data, test_targets) =keras.datasets.boston_housing.load_data()"
   ]
  },
  {
   "cell_type": "code",
   "execution_count": 3,
   "metadata": {},
   "outputs": [],
   "source": [
    "mean = train_data.mean(axis=0)\n",
    "train_data -= mean\n",
    "std = train_data.std(axis=0)\n",
    "train_data /= std\n",
    "test_data -= mean\n",
    "test_data /= std"
   ]
  },
  {
   "cell_type": "code",
   "execution_count": 4,
   "metadata": {},
   "outputs": [],
   "source": [
    "from tensorflow.keras import models\n",
    "from tensorflow.keras import layers"
   ]
  },
  {
   "cell_type": "code",
   "execution_count": 5,
   "metadata": {},
   "outputs": [
    {
     "data": {
      "text/plain": [
       "(404, 13)"
      ]
     },
     "execution_count": 5,
     "metadata": {},
     "output_type": "execute_result"
    }
   ],
   "source": [
    "train_data.shape"
   ]
  },
  {
   "cell_type": "code",
   "execution_count": 6,
   "metadata": {},
   "outputs": [],
   "source": [
    "model = models.Sequential()"
   ]
  },
  {
   "cell_type": "code",
   "execution_count": 7,
   "metadata": {},
   "outputs": [],
   "source": [
    "model.add(layers.Dense(64, activation = 'relu', kernel_initializer = 'glorot_uniform', input_shape=(train_data.shape[1],)))"
   ]
  },
  {
   "cell_type": "code",
   "execution_count": 8,
   "metadata": {},
   "outputs": [],
   "source": [
    "model.add(layers.BatchNormalization())"
   ]
  },
  {
   "cell_type": "code",
   "execution_count": 9,
   "metadata": {},
   "outputs": [],
   "source": [
    "model.add(layers.Dense(64, activation = 'relu', kernel_initializer = 'glorot_uniform'))"
   ]
  },
  {
   "cell_type": "code",
   "execution_count": 10,
   "metadata": {},
   "outputs": [],
   "source": [
    "model.add(layers.LayerNormalization())"
   ]
  },
  {
   "cell_type": "code",
   "execution_count": 11,
   "metadata": {},
   "outputs": [],
   "source": [
    "model.add(layers.Dense(1))"
   ]
  },
  {
   "cell_type": "code",
   "execution_count": 12,
   "metadata": {},
   "outputs": [
    {
     "name": "stdout",
     "output_type": "stream",
     "text": [
      "Model: \"sequential\"\n",
      "_________________________________________________________________\n",
      " Layer (type)                Output Shape              Param #   \n",
      "=================================================================\n",
      " dense (Dense)               (None, 64)                896       \n",
      "                                                                 \n",
      " batch_normalization (BatchN  (None, 64)               256       \n",
      " ormalization)                                                   \n",
      "                                                                 \n",
      " dense_1 (Dense)             (None, 64)                4160      \n",
      "                                                                 \n",
      " layer_normalization (LayerN  (None, 64)               128       \n",
      " ormalization)                                                   \n",
      "                                                                 \n",
      " dense_2 (Dense)             (None, 1)                 65        \n",
      "                                                                 \n",
      "=================================================================\n",
      "Total params: 5,505\n",
      "Trainable params: 5,377\n",
      "Non-trainable params: 128\n",
      "_________________________________________________________________\n"
     ]
    }
   ],
   "source": [
    "model.summary()"
   ]
  },
  {
   "cell_type": "code",
   "execution_count": 13,
   "metadata": {},
   "outputs": [],
   "source": [
    "rmsprop = tf.keras.optimizers.RMSprop(learning_rate=0.01, rho=0.85, momentum=0.9)"
   ]
  },
  {
   "cell_type": "code",
   "execution_count": 14,
   "metadata": {},
   "outputs": [],
   "source": [
    "model.compile(optimizer=rmsprop, loss='mse')"
   ]
  },
  {
   "cell_type": "code",
   "execution_count": 15,
   "metadata": {
    "scrolled": true
   },
   "outputs": [
    {
     "name": "stdout",
     "output_type": "stream",
     "text": [
      "Epoch 1/80\n",
      "7/7 [==============================] - 0s 2ms/step - loss: 271.2411\n",
      "Epoch 2/80\n",
      "7/7 [==============================] - 0s 1ms/step - loss: 86.0865\n",
      "Epoch 3/80\n",
      "7/7 [==============================] - 0s 1ms/step - loss: 31.7401\n",
      "Epoch 4/80\n",
      "7/7 [==============================] - 0s 1ms/step - loss: 21.8074\n",
      "Epoch 5/80\n",
      "7/7 [==============================] - 0s 1ms/step - loss: 20.5405\n",
      "Epoch 6/80\n",
      "7/7 [==============================] - 0s 1ms/step - loss: 15.4819\n",
      "Epoch 7/80\n",
      "7/7 [==============================] - 0s 1ms/step - loss: 12.9380\n",
      "Epoch 8/80\n",
      "7/7 [==============================] - 0s 1ms/step - loss: 14.3035\n",
      "Epoch 9/80\n",
      "7/7 [==============================] - 0s 1ms/step - loss: 13.4466\n",
      "Epoch 10/80\n",
      "7/7 [==============================] - 0s 1ms/step - loss: 17.2868\n",
      "Epoch 11/80\n",
      "7/7 [==============================] - 0s 1ms/step - loss: 12.5564\n",
      "Epoch 12/80\n",
      "7/7 [==============================] - 0s 1ms/step - loss: 14.1873\n",
      "Epoch 13/80\n",
      "7/7 [==============================] - 0s 1ms/step - loss: 9.3637\n",
      "Epoch 14/80\n",
      "7/7 [==============================] - 0s 1ms/step - loss: 10.7787\n",
      "Epoch 15/80\n",
      "7/7 [==============================] - 0s 1ms/step - loss: 9.9637\n",
      "Epoch 16/80\n",
      "7/7 [==============================] - 0s 1ms/step - loss: 13.2687\n",
      "Epoch 17/80\n",
      "7/7 [==============================] - 0s 1ms/step - loss: 10.0758\n",
      "Epoch 18/80\n",
      "7/7 [==============================] - 0s 1ms/step - loss: 7.3648\n",
      "Epoch 19/80\n",
      "7/7 [==============================] - 0s 1ms/step - loss: 15.8637\n",
      "Epoch 20/80\n",
      "7/7 [==============================] - 0s 1ms/step - loss: 8.7997\n",
      "Epoch 21/80\n",
      "7/7 [==============================] - 0s 1ms/step - loss: 6.5988\n",
      "Epoch 22/80\n",
      "7/7 [==============================] - 0s 1ms/step - loss: 8.4527\n",
      "Epoch 23/80\n",
      "7/7 [==============================] - 0s 1ms/step - loss: 7.5006\n",
      "Epoch 24/80\n",
      "7/7 [==============================] - 0s 1ms/step - loss: 10.2001\n",
      "Epoch 25/80\n",
      "7/7 [==============================] - 0s 1ms/step - loss: 10.7808\n",
      "Epoch 26/80\n",
      "7/7 [==============================] - 0s 1ms/step - loss: 7.2688\n",
      "Epoch 27/80\n",
      "7/7 [==============================] - 0s 1ms/step - loss: 6.7287\n",
      "Epoch 28/80\n",
      "7/7 [==============================] - 0s 1ms/step - loss: 6.3220\n",
      "Epoch 29/80\n",
      "7/7 [==============================] - 0s 1ms/step - loss: 6.9629\n",
      "Epoch 30/80\n",
      "7/7 [==============================] - 0s 1ms/step - loss: 7.6157\n",
      "Epoch 31/80\n",
      "7/7 [==============================] - 0s 1ms/step - loss: 8.4950\n",
      "Epoch 32/80\n",
      "7/7 [==============================] - 0s 1ms/step - loss: 9.3158\n",
      "Epoch 33/80\n",
      "7/7 [==============================] - 0s 1ms/step - loss: 5.8305\n",
      "Epoch 34/80\n",
      "7/7 [==============================] - 0s 1ms/step - loss: 5.4451\n",
      "Epoch 35/80\n",
      "7/7 [==============================] - 0s 1ms/step - loss: 7.6138\n",
      "Epoch 36/80\n",
      "7/7 [==============================] - 0s 1ms/step - loss: 6.7690\n",
      "Epoch 37/80\n",
      "7/7 [==============================] - 0s 1ms/step - loss: 5.0811\n",
      "Epoch 38/80\n",
      "7/7 [==============================] - 0s 1ms/step - loss: 5.9998\n",
      "Epoch 39/80\n",
      "7/7 [==============================] - 0s 1ms/step - loss: 6.2704\n",
      "Epoch 40/80\n",
      "7/7 [==============================] - 0s 1ms/step - loss: 10.2550\n",
      "Epoch 41/80\n",
      "7/7 [==============================] - 0s 1ms/step - loss: 5.6096\n",
      "Epoch 42/80\n",
      "7/7 [==============================] - 0s 1ms/step - loss: 6.2802\n",
      "Epoch 43/80\n",
      "7/7 [==============================] - 0s 1ms/step - loss: 7.4340\n",
      "Epoch 44/80\n",
      "7/7 [==============================] - 0s 1ms/step - loss: 7.1719\n",
      "Epoch 45/80\n",
      "7/7 [==============================] - 0s 1ms/step - loss: 6.7616\n",
      "Epoch 46/80\n",
      "7/7 [==============================] - 0s 1ms/step - loss: 5.9379\n",
      "Epoch 47/80\n",
      "7/7 [==============================] - 0s 1ms/step - loss: 6.8004\n",
      "Epoch 48/80\n",
      "7/7 [==============================] - 0s 1ms/step - loss: 7.1797\n",
      "Epoch 49/80\n",
      "7/7 [==============================] - 0s 1ms/step - loss: 5.4918\n",
      "Epoch 50/80\n",
      "7/7 [==============================] - 0s 1ms/step - loss: 5.6958\n",
      "Epoch 51/80\n",
      "7/7 [==============================] - 0s 1ms/step - loss: 4.9603\n",
      "Epoch 52/80\n",
      "7/7 [==============================] - 0s 1ms/step - loss: 4.4050\n",
      "Epoch 53/80\n",
      "7/7 [==============================] - 0s 1ms/step - loss: 6.9640\n",
      "Epoch 54/80\n",
      "7/7 [==============================] - 0s 2ms/step - loss: 5.9484\n",
      "Epoch 55/80\n",
      "7/7 [==============================] - 0s 1ms/step - loss: 7.4463\n",
      "Epoch 56/80\n",
      "7/7 [==============================] - 0s 2ms/step - loss: 6.6612\n",
      "Epoch 57/80\n",
      "7/7 [==============================] - 0s 1ms/step - loss: 10.0893\n",
      "Epoch 58/80\n",
      "7/7 [==============================] - 0s 1ms/step - loss: 5.5913\n",
      "Epoch 59/80\n",
      "7/7 [==============================] - 0s 1ms/step - loss: 5.4266\n",
      "Epoch 60/80\n",
      "7/7 [==============================] - 0s 1ms/step - loss: 5.3591\n",
      "Epoch 61/80\n",
      "7/7 [==============================] - 0s 1ms/step - loss: 4.5364\n",
      "Epoch 62/80\n",
      "7/7 [==============================] - 0s 1ms/step - loss: 8.1245\n",
      "Epoch 63/80\n",
      "7/7 [==============================] - 0s 2ms/step - loss: 6.8223\n",
      "Epoch 64/80\n",
      "7/7 [==============================] - 0s 1ms/step - loss: 6.9755\n",
      "Epoch 65/80\n",
      "7/7 [==============================] - 0s 1ms/step - loss: 5.3550\n",
      "Epoch 66/80\n",
      "7/7 [==============================] - 0s 1ms/step - loss: 5.4754\n",
      "Epoch 67/80\n",
      "7/7 [==============================] - 0s 1ms/step - loss: 6.5860\n",
      "Epoch 68/80\n",
      "7/7 [==============================] - 0s 1ms/step - loss: 8.1158\n",
      "Epoch 69/80\n",
      "7/7 [==============================] - 0s 1ms/step - loss: 10.7733\n",
      "Epoch 70/80\n",
      "7/7 [==============================] - 0s 1ms/step - loss: 5.2623\n",
      "Epoch 71/80\n",
      "7/7 [==============================] - 0s 1ms/step - loss: 5.6851\n",
      "Epoch 72/80\n",
      "7/7 [==============================] - 0s 1ms/step - loss: 3.8451\n",
      "Epoch 73/80\n",
      "7/7 [==============================] - 0s 1ms/step - loss: 3.2089\n",
      "Epoch 74/80\n",
      "7/7 [==============================] - 0s 1ms/step - loss: 5.9438\n",
      "Epoch 75/80\n",
      "7/7 [==============================] - 0s 1ms/step - loss: 7.7166\n",
      "Epoch 76/80\n",
      "7/7 [==============================] - 0s 1ms/step - loss: 5.7431\n",
      "Epoch 77/80\n",
      "7/7 [==============================] - 0s 1ms/step - loss: 4.6024\n",
      "Epoch 78/80\n",
      "7/7 [==============================] - 0s 1ms/step - loss: 3.3359\n",
      "Epoch 79/80\n",
      "7/7 [==============================] - 0s 1ms/step - loss: 4.0346\n",
      "Epoch 80/80\n",
      "7/7 [==============================] - 0s 1ms/step - loss: 3.0817\n"
     ]
    }
   ],
   "source": [
    "# model.fit(train_data, train_targets, epochs=80, batch_size=16)\n",
    "history = model.fit(train_data, train_targets, epochs=80, batch_size=64)"
   ]
  },
  {
   "cell_type": "markdown",
   "metadata": {},
   "source": [
    "## Loss 값 변화 살펴보기"
   ]
  },
  {
   "cell_type": "code",
   "execution_count": 16,
   "metadata": {},
   "outputs": [],
   "source": [
    "import matplotlib.pyplot as plt"
   ]
  },
  {
   "cell_type": "code",
   "execution_count": 17,
   "metadata": {},
   "outputs": [
    {
     "data": {
      "image/png": "[encoded data removed]",
      "text/plain": [
       "<Figure size 640x480 with 1 Axes>"
      ]
     },
     "metadata": {},
     "output_type": "display_data"
    }
   ],
   "source": [
    "plt.plot(history.history['loss'])\n",
    "plt.xlabel('epoch')\n",
    "plt.ylabel('loss')\n",
    "plt.legend(['train'])\n",
    "plt.show()"
   ]
  },
  {
   "cell_type": "markdown",
   "metadata": {},
   "source": [
    "# 성능 평가하기"
   ]
  },
  {
   "cell_type": "code",
   "execution_count": 18,
   "metadata": {},
   "outputs": [
    {
     "name": "stdout",
     "output_type": "stream",
     "text": [
      "4/4 [==============================] - 0s 1ms/step\n"
     ]
    },
    {
     "data": {
      "text/plain": [
       "4.83832947086198"
      ]
     },
     "execution_count": 18,
     "metadata": {},
     "output_type": "execute_result"
    }
   ],
   "source": [
    "y_pred = model.predict(test_data)\n",
    "from sklearn.metrics import mean_squared_error\n",
    "mean_squared_error(test_targets, y_pred)**0.5"
   ]
  },
  {
   "cell_type": "code",
   "execution_count": 19,
   "metadata": {},
   "outputs": [
    {
     "data": {
      "text/plain": [
       "0.7187848413442408"
      ]
     },
     "execution_count": 19,
     "metadata": {},
     "output_type": "execute_result"
    }
   ],
   "source": [
    "from sklearn.metrics import r2_score\n",
    "r2_score(test_targets, y_pred)"
   ]
  },
  {
   "cell_type": "code",
   "execution_count": null,
   "metadata": {},
   "outputs": [],
   "source": []
  }
 ],
 "metadata": {
  "kernelspec": {
   "display_name": "Python 3 (ipykernel)",
   "language": "python",
   "name": "python3"
  },
  "language_info": {
   "codemirror_mode": {
    "name": "ipython",
    "version": 3
   },
   "file_extension": ".py",
   "mimetype": "text/x-python",
   "name": "python",
   "nbconvert_exporter": "python",
   "pygments_lexer": "ipython3",
   "version": "3.8.16"
  }
 },
 "nbformat": 4,
 "nbformat_minor": 2
}
