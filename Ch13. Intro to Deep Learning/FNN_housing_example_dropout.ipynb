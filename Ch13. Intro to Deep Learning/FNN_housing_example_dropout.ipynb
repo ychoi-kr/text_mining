{
 "cells": [
  {
   "cell_type": "code",
   "execution_count": 1,
   "metadata": {},
   "outputs": [],
   "source": [
    "import tensorflow as tf\n",
    "from tensorflow import keras"
   ]
  },
  {
   "cell_type": "code",
   "execution_count": 2,
   "metadata": {},
   "outputs": [],
   "source": [
    "(train_data, train_targets), (test_data, test_targets) =keras.datasets.boston_housing.load_data()"
   ]
  },
  {
   "cell_type": "code",
   "execution_count": 3,
   "metadata": {},
   "outputs": [],
   "source": [
    "mean = train_data.mean(axis=0)\n",
    "train_data -= mean\n",
    "std = train_data.std(axis=0)\n",
    "train_data /= std\n",
    "test_data -= mean\n",
    "test_data /= std"
   ]
  },
  {
   "cell_type": "code",
   "execution_count": 4,
   "metadata": {},
   "outputs": [],
   "source": [
    "from tensorflow.keras import models\n",
    "from tensorflow.keras import layers"
   ]
  },
  {
   "cell_type": "code",
   "execution_count": 5,
   "metadata": {},
   "outputs": [
    {
     "data": {
      "text/plain": [
       "(404, 13)"
      ]
     },
     "execution_count": 5,
     "metadata": {},
     "output_type": "execute_result"
    }
   ],
   "source": [
    "train_data.shape"
   ]
  },
  {
   "cell_type": "code",
   "execution_count": 6,
   "metadata": {},
   "outputs": [],
   "source": [
    "model = models.Sequential()"
   ]
  },
  {
   "cell_type": "code",
   "execution_count": 7,
   "metadata": {},
   "outputs": [],
   "source": [
    "model.add(layers.Dense(64, activation = 'relu', kernel_initializer = 'glorot_uniform', input_shape=(train_data.shape[1],)))"
   ]
  },
  {
   "cell_type": "markdown",
   "metadata": {},
   "source": [
    "Dropout 적용하기"
   ]
  },
  {
   "cell_type": "code",
   "execution_count": 8,
   "metadata": {},
   "outputs": [],
   "source": [
    "model.add(layers.Dropout(0.3))"
   ]
  },
  {
   "cell_type": "code",
   "execution_count": 9,
   "metadata": {},
   "outputs": [],
   "source": [
    "model.add(layers.Dense(64, activation = 'relu', kernel_initializer = 'glorot_uniform'))"
   ]
  },
  {
   "cell_type": "code",
   "execution_count": 10,
   "metadata": {},
   "outputs": [],
   "source": [
    "model.add(layers.Dense(1))"
   ]
  },
  {
   "cell_type": "code",
   "execution_count": 11,
   "metadata": {},
   "outputs": [
    {
     "name": "stdout",
     "output_type": "stream",
     "text": [
      "Model: \"sequential\"\n",
      "_________________________________________________________________\n",
      " Layer (type)                Output Shape              Param #   \n",
      "=================================================================\n",
      " dense (Dense)               (None, 64)                896       \n",
      "                                                                 \n",
      " dropout (Dropout)           (None, 64)                0         \n",
      "                                                                 \n",
      " dense_1 (Dense)             (None, 64)                4160      \n",
      "                                                                 \n",
      " dense_2 (Dense)             (None, 1)                 65        \n",
      "                                                                 \n",
      "=================================================================\n",
      "Total params: 5,121\n",
      "Trainable params: 5,121\n",
      "Non-trainable params: 0\n",
      "_________________________________________________________________\n"
     ]
    }
   ],
   "source": [
    "model.summary()"
   ]
  },
  {
   "cell_type": "code",
   "execution_count": 12,
   "metadata": {},
   "outputs": [],
   "source": [
    "rmsprop = tf.keras.optimizers.RMSprop(learning_rate=0.01, rho=0.85, momentum=0.9)"
   ]
  },
  {
   "cell_type": "code",
   "execution_count": 13,
   "metadata": {},
   "outputs": [],
   "source": [
    "model.compile(optimizer=rmsprop, loss='mse')"
   ]
  },
  {
   "cell_type": "code",
   "execution_count": 14,
   "metadata": {
    "scrolled": true
   },
   "outputs": [
    {
     "name": "stdout",
     "output_type": "stream",
     "text": [
      "Epoch 1/100\n",
      "7/7 [==============================] - 0s 1ms/step - loss: 744.1176\n",
      "Epoch 2/100\n",
      "7/7 [==============================] - 0s 1000us/step - loss: 158.5471\n",
      "Epoch 3/100\n",
      "7/7 [==============================] - 0s 833us/step - loss: 153.2322\n",
      "Epoch 4/100\n",
      "7/7 [==============================] - 0s 1000us/step - loss: 98.3937\n",
      "Epoch 5/100\n",
      "7/7 [==============================] - 0s 1000us/step - loss: 71.7258\n",
      "Epoch 6/100\n",
      "7/7 [==============================] - 0s 834us/step - loss: 45.7339\n",
      "Epoch 7/100\n",
      "7/7 [==============================] - 0s 833us/step - loss: 28.6625\n",
      "Epoch 8/100\n",
      "7/7 [==============================] - 0s 874us/step - loss: 29.4691\n",
      "Epoch 9/100\n",
      "7/7 [==============================] - 0s 925us/step - loss: 26.2337\n",
      "Epoch 10/100\n",
      "7/7 [==============================] - 0s 838us/step - loss: 33.0371\n",
      "Epoch 11/100\n",
      "7/7 [==============================] - 0s 1ms/step - loss: 31.2850\n",
      "Epoch 12/100\n",
      "7/7 [==============================] - 0s 1000us/step - loss: 23.2969\n",
      "Epoch 13/100\n",
      "7/7 [==============================] - 0s 833us/step - loss: 22.8382\n",
      "Epoch 14/100\n",
      "7/7 [==============================] - 0s 1000us/step - loss: 21.4200\n",
      "Epoch 15/100\n",
      "7/7 [==============================] - 0s 1000us/step - loss: 30.8108\n",
      "Epoch 16/100\n",
      "7/7 [==============================] - 0s 833us/step - loss: 36.8248\n",
      "Epoch 17/100\n",
      "7/7 [==============================] - 0s 833us/step - loss: 26.0180\n",
      "Epoch 18/100\n",
      "7/7 [==============================] - 0s 1ms/step - loss: 21.8746\n",
      "Epoch 19/100\n",
      "7/7 [==============================] - 0s 879us/step - loss: 16.7248\n",
      "Epoch 20/100\n",
      "7/7 [==============================] - 0s 995us/step - loss: 16.3499\n",
      "Epoch 21/100\n",
      "7/7 [==============================] - 0s 906us/step - loss: 17.2734\n",
      "Epoch 22/100\n",
      "7/7 [==============================] - 0s 849us/step - loss: 19.0415\n",
      "Epoch 23/100\n",
      "7/7 [==============================] - 0s 833us/step - loss: 18.6911\n",
      "Epoch 24/100\n",
      "7/7 [==============================] - 0s 833us/step - loss: 22.9047\n",
      "Epoch 25/100\n",
      "7/7 [==============================] - 0s 1000us/step - loss: 24.9735\n",
      "Epoch 26/100\n",
      "7/7 [==============================] - 0s 1000us/step - loss: 20.4357\n",
      "Epoch 27/100\n",
      "7/7 [==============================] - 0s 1ms/step - loss: 19.0141\n",
      "Epoch 28/100\n",
      "7/7 [==============================] - 0s 833us/step - loss: 14.9048\n",
      "Epoch 29/100\n",
      "7/7 [==============================] - 0s 833us/step - loss: 14.0295\n",
      "Epoch 30/100\n",
      "7/7 [==============================] - 0s 1ms/step - loss: 15.0697\n",
      "Epoch 31/100\n",
      "7/7 [==============================] - 0s 1ms/step - loss: 19.3630\n",
      "Epoch 32/100\n",
      "7/7 [==============================] - 0s 834us/step - loss: 14.7492\n",
      "Epoch 33/100\n",
      "7/7 [==============================] - 0s 1ms/step - loss: 20.1715\n",
      "Epoch 34/100\n",
      "7/7 [==============================] - 0s 834us/step - loss: 22.1740\n",
      "Epoch 35/100\n",
      "7/7 [==============================] - 0s 833us/step - loss: 15.7047\n",
      "Epoch 36/100\n",
      "7/7 [==============================] - 0s 833us/step - loss: 13.8479\n",
      "Epoch 37/100\n",
      "7/7 [==============================] - 0s 1ms/step - loss: 17.8065\n",
      "Epoch 38/100\n",
      "7/7 [==============================] - 0s 1000us/step - loss: 12.6468\n",
      "Epoch 39/100\n",
      "7/7 [==============================] - 0s 833us/step - loss: 13.8661\n",
      "Epoch 40/100\n",
      "7/7 [==============================] - 0s 1ms/step - loss: 16.5210\n",
      "Epoch 41/100\n",
      "7/7 [==============================] - 0s 1ms/step - loss: 14.1446\n",
      "Epoch 42/100\n",
      "7/7 [==============================] - 0s 833us/step - loss: 13.0594\n",
      "Epoch 43/100\n",
      "7/7 [==============================] - 0s 833us/step - loss: 12.2208\n",
      "Epoch 44/100\n",
      "7/7 [==============================] - 0s 1000us/step - loss: 13.7971\n",
      "Epoch 45/100\n",
      "7/7 [==============================] - 0s 1ms/step - loss: 15.2219\n",
      "Epoch 46/100\n",
      "7/7 [==============================] - 0s 833us/step - loss: 15.1232\n",
      "Epoch 47/100\n",
      "7/7 [==============================] - 0s 918us/step - loss: 11.4737\n",
      "Epoch 48/100\n",
      "7/7 [==============================] - 0s 833us/step - loss: 18.5414\n",
      "Epoch 49/100\n",
      "7/7 [==============================] - 0s 833us/step - loss: 12.2818\n",
      "Epoch 50/100\n",
      "7/7 [==============================] - 0s 835us/step - loss: 16.8451\n",
      "Epoch 51/100\n",
      "7/7 [==============================] - 0s 1ms/step - loss: 17.1175\n",
      "Epoch 52/100\n",
      "7/7 [==============================] - 0s 1ms/step - loss: 16.3015\n",
      "Epoch 53/100\n",
      "7/7 [==============================] - 0s 1000us/step - loss: 14.6846\n",
      "Epoch 54/100\n",
      "7/7 [==============================] - 0s 833us/step - loss: 11.1450\n",
      "Epoch 55/100\n",
      "7/7 [==============================] - 0s 834us/step - loss: 11.9178\n",
      "Epoch 56/100\n",
      "7/7 [==============================] - 0s 833us/step - loss: 14.1286\n",
      "Epoch 57/100\n",
      "7/7 [==============================] - 0s 1ms/step - loss: 16.0549\n",
      "Epoch 58/100\n",
      "7/7 [==============================] - 0s 833us/step - loss: 12.7302\n",
      "Epoch 59/100\n",
      "7/7 [==============================] - 0s 918us/step - loss: 11.6910\n",
      "Epoch 60/100\n",
      "7/7 [==============================] - 0s 1ms/step - loss: 15.7227\n",
      "Epoch 61/100\n",
      "7/7 [==============================] - 0s 1ms/step - loss: 13.4856\n",
      "Epoch 62/100\n",
      "7/7 [==============================] - 0s 834us/step - loss: 12.4760\n",
      "Epoch 63/100\n",
      "7/7 [==============================] - 0s 838us/step - loss: 12.8776\n",
      "Epoch 64/100\n",
      "7/7 [==============================] - 0s 838us/step - loss: 10.7383\n",
      "Epoch 65/100\n",
      "7/7 [==============================] - 0s 1ms/step - loss: 11.9080\n",
      "Epoch 66/100\n",
      "7/7 [==============================] - 0s 833us/step - loss: 14.0794\n",
      "Epoch 67/100\n",
      "7/7 [==============================] - 0s 833us/step - loss: 9.7710\n",
      "Epoch 68/100\n",
      "7/7 [==============================] - 0s 833us/step - loss: 10.7880\n",
      "Epoch 69/100\n",
      "7/7 [==============================] - 0s 833us/step - loss: 10.9527\n",
      "Epoch 70/100\n",
      "7/7 [==============================] - 0s 834us/step - loss: 12.5201\n",
      "Epoch 71/100\n",
      "7/7 [==============================] - 0s 834us/step - loss: 18.0639\n",
      "Epoch 72/100\n",
      "7/7 [==============================] - 0s 924us/step - loss: 15.8971\n",
      "Epoch 73/100\n",
      "7/7 [==============================] - 0s 838us/step - loss: 13.5071\n",
      "Epoch 74/100\n",
      "7/7 [==============================] - 0s 833us/step - loss: 11.2470\n",
      "Epoch 75/100\n",
      "7/7 [==============================] - 0s 1ms/step - loss: 11.1665\n",
      "Epoch 76/100\n",
      "7/7 [==============================] - 0s 833us/step - loss: 10.6236\n",
      "Epoch 77/100\n",
      "7/7 [==============================] - 0s 838us/step - loss: 15.7349\n",
      "Epoch 78/100\n",
      "7/7 [==============================] - 0s 1ms/step - loss: 13.2106\n",
      "Epoch 79/100\n",
      "7/7 [==============================] - 0s 1ms/step - loss: 13.5196\n",
      "Epoch 80/100\n",
      "7/7 [==============================] - 0s 1ms/step - loss: 11.9937\n",
      "Epoch 81/100\n",
      "7/7 [==============================] - 0s 896us/step - loss: 9.8065\n",
      "Epoch 82/100\n",
      "7/7 [==============================] - 0s 839us/step - loss: 11.4049\n",
      "Epoch 83/100\n",
      "7/7 [==============================] - 0s 1ms/step - loss: 12.3968\n",
      "Epoch 84/100\n",
      "7/7 [==============================] - 0s 833us/step - loss: 10.8263\n",
      "Epoch 85/100\n",
      "7/7 [==============================] - 0s 879us/step - loss: 8.6644\n",
      "Epoch 86/100\n",
      "7/7 [==============================] - 0s 847us/step - loss: 9.7846\n",
      "Epoch 87/100\n",
      "7/7 [==============================] - 0s 1ms/step - loss: 16.5354\n",
      "Epoch 88/100\n",
      "7/7 [==============================] - 0s 833us/step - loss: 11.6643\n",
      "Epoch 89/100\n",
      "7/7 [==============================] - 0s 835us/step - loss: 11.5620\n",
      "Epoch 90/100\n",
      "7/7 [==============================] - 0s 838us/step - loss: 10.1036\n",
      "Epoch 91/100\n",
      "7/7 [==============================] - 0s 1ms/step - loss: 12.5401\n",
      "Epoch 92/100\n",
      "7/7 [==============================] - 0s 838us/step - loss: 10.8378\n",
      "Epoch 93/100\n",
      "7/7 [==============================] - 0s 1ms/step - loss: 13.8300\n",
      "Epoch 94/100\n",
      "7/7 [==============================] - 0s 833us/step - loss: 11.1342\n",
      "Epoch 95/100\n",
      "7/7 [==============================] - 0s 834us/step - loss: 12.3278\n",
      "Epoch 96/100\n",
      "7/7 [==============================] - 0s 861us/step - loss: 10.3457\n",
      "Epoch 97/100\n",
      "7/7 [==============================] - 0s 964us/step - loss: 10.2310\n",
      "Epoch 98/100\n",
      "7/7 [==============================] - 0s 839us/step - loss: 9.9147\n",
      "Epoch 99/100\n",
      "7/7 [==============================] - 0s 1ms/step - loss: 8.7695\n",
      "Epoch 100/100\n",
      "7/7 [==============================] - 0s 833us/step - loss: 9.8747\n"
     ]
    }
   ],
   "source": [
    "# model.fit(train_data, train_targets, epochs=80, batch_size=16)\n",
    "history = model.fit(train_data, train_targets, epochs=100, batch_size=64)"
   ]
  },
  {
   "cell_type": "markdown",
   "metadata": {},
   "source": [
    "## Loss 값 변화 살펴보기"
   ]
  },
  {
   "cell_type": "code",
   "execution_count": 15,
   "metadata": {},
   "outputs": [],
   "source": [
    "import matplotlib.pyplot as plt"
   ]
  },
  {
   "cell_type": "code",
   "execution_count": 16,
   "metadata": {},
   "outputs": [
    {
     "data": {
      "image/png": "[encoded data removed]",
      "text/plain": [
       "<Figure size 640x480 with 1 Axes>"
      ]
     },
     "metadata": {},
     "output_type": "display_data"
    }
   ],
   "source": [
    "plt.plot(history.history['loss'])\n",
    "plt.xlabel('epoch')\n",
    "plt.ylabel('loss')\n",
    "plt.legend(['train'])\n",
    "plt.show()"
   ]
  },
  {
   "cell_type": "markdown",
   "metadata": {},
   "source": [
    "# 성능 평가하기"
   ]
  },
  {
   "cell_type": "code",
   "execution_count": 17,
   "metadata": {},
   "outputs": [
    {
     "name": "stdout",
     "output_type": "stream",
     "text": [
      "4/4 [==============================] - 0s 1ms/step\n"
     ]
    },
    {
     "data": {
      "text/plain": [
       "4.224008643537157"
      ]
     },
     "execution_count": 17,
     "metadata": {},
     "output_type": "execute_result"
    }
   ],
   "source": [
    "y_pred = model.predict(test_data)\n",
    "from sklearn.metrics import mean_squared_error\n",
    "mean_squared_error(test_targets, y_pred)**0.5"
   ]
  },
  {
   "cell_type": "code",
   "execution_count": 18,
   "metadata": {},
   "outputs": [
    {
     "data": {
      "text/plain": [
       "0.785662852715985"
      ]
     },
     "execution_count": 18,
     "metadata": {},
     "output_type": "execute_result"
    }
   ],
   "source": [
    "from sklearn.metrics import r2_score\n",
    "r2_score(test_targets, y_pred)"
   ]
  },
  {
   "cell_type": "code",
   "execution_count": null,
   "metadata": {},
   "outputs": [],
   "source": []
  }
 ],
 "metadata": {
  "kernelspec": {
   "display_name": "Python 3 (ipykernel)",
   "language": "python",
   "name": "python3"
  },
  "language_info": {
   "codemirror_mode": {
    "name": "ipython",
    "version": 3
   },
   "file_extension": ".py",
   "mimetype": "text/x-python",
   "name": "python",
   "nbconvert_exporter": "python",
   "pygments_lexer": "ipython3",
   "version": "3.8.16"
  }
 },
 "nbformat": 4,
 "nbformat_minor": 2
}
