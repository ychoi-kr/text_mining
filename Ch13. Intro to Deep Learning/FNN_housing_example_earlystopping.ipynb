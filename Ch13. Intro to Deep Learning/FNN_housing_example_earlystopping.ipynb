{
 "cells": [
  {
   "cell_type": "code",
   "execution_count": 1,
   "metadata": {},
   "outputs": [],
   "source": [
    "import tensorflow as tf\n",
    "from tensorflow import keras\n",
    "(train_data, train_targets), (test_data, test_targets) =keras.datasets.boston_housing.load_data()"
   ]
  },
  {
   "cell_type": "code",
   "execution_count": 2,
   "metadata": {},
   "outputs": [],
   "source": [
    "mean = train_data.mean(axis=0)\n",
    "train_data -= mean\n",
    "std = train_data.std(axis=0)\n",
    "train_data /= std"
   ]
  },
  {
   "cell_type": "code",
   "execution_count": 3,
   "metadata": {},
   "outputs": [],
   "source": [
    "test_data -= mean\n",
    "test_data /= std"
   ]
  },
  {
   "cell_type": "markdown",
   "metadata": {},
   "source": [
    "데이터 표준화하기"
   ]
  },
  {
   "cell_type": "code",
   "execution_count": 4,
   "metadata": {},
   "outputs": [],
   "source": [
    "from tensorflow.keras import models\n",
    "from tensorflow.keras import layers\n",
    "from tensorflow.keras import regularizers"
   ]
  },
  {
   "cell_type": "code",
   "execution_count": 5,
   "metadata": {},
   "outputs": [],
   "source": [
    "model = models.Sequential()\n",
    "# Regularizer 더하기\n",
    "# https://keras.io/api/layers/regularizers/\n",
    "model.add(layers.Dense(64, activation = 'relu', kernel_regularizer=regularizers.l2(0.1), input_shape=(train_data.shape[1],)))\n",
    "model.add(layers.Dense(64, activation = 'relu'))\n",
    "model.add(layers.Dense(1))"
   ]
  },
  {
   "cell_type": "code",
   "execution_count": 6,
   "metadata": {},
   "outputs": [
    {
     "name": "stdout",
     "output_type": "stream",
     "text": [
      "Model: \"sequential\"\n",
      "_________________________________________________________________\n",
      " Layer (type)                Output Shape              Param #   \n",
      "=================================================================\n",
      " dense (Dense)               (None, 64)                896       \n",
      "                                                                 \n",
      " dense_1 (Dense)             (None, 64)                4160      \n",
      "                                                                 \n",
      " dense_2 (Dense)             (None, 1)                 65        \n",
      "                                                                 \n",
      "=================================================================\n",
      "Total params: 5,121\n",
      "Trainable params: 5,121\n",
      "Non-trainable params: 0\n",
      "_________________________________________________________________\n"
     ]
    }
   ],
   "source": [
    "model.summary()"
   ]
  },
  {
   "cell_type": "code",
   "execution_count": 7,
   "metadata": {},
   "outputs": [],
   "source": [
    "from tensorflow.keras.callbacks import EarlyStopping\n",
    "from tensorflow.keras.callbacks import ModelCheckpoint"
   ]
  },
  {
   "cell_type": "code",
   "execution_count": 8,
   "metadata": {},
   "outputs": [],
   "source": [
    "es = EarlyStopping(monitor='val_loss', mode='min', verbose=1, patience=10)\n",
    "checkpoint_filepath = './temp/checkpoint'\n",
    "mc = ModelCheckpoint(checkpoint_filepath, monitor='val_loss', mode='min', \n",
    "                     save_weights_only=True, save_best_only=True)"
   ]
  },
  {
   "cell_type": "code",
   "execution_count": 9,
   "metadata": {},
   "outputs": [],
   "source": [
    "adam = tf.keras.optimizers.Adam(learning_rate=0.1)"
   ]
  },
  {
   "cell_type": "code",
   "execution_count": 10,
   "metadata": {},
   "outputs": [],
   "source": [
    "model.compile(optimizer=adam, loss='mse')"
   ]
  },
  {
   "cell_type": "code",
   "execution_count": 11,
   "metadata": {
    "scrolled": true
   },
   "outputs": [
    {
     "name": "stdout",
     "output_type": "stream",
     "text": [
      "Epoch 1/200\n",
      "11/11 [==============================] - 1s 20ms/step - loss: 315.5919 - val_loss: 177.9907\n",
      "Epoch 2/200\n",
      "11/11 [==============================] - 0s 6ms/step - loss: 74.8045 - val_loss: 47.3229\n",
      "Epoch 3/200\n",
      "11/11 [==============================] - 0s 9ms/step - loss: 50.1446 - val_loss: 44.1704\n",
      "Epoch 4/200\n",
      "11/11 [==============================] - 0s 3ms/step - loss: 57.9745 - val_loss: 46.3325\n",
      "Epoch 5/200\n",
      "11/11 [==============================] - 0s 10ms/step - loss: 36.2536 - val_loss: 32.3899\n",
      "Epoch 6/200\n",
      "11/11 [==============================] - 0s 3ms/step - loss: 30.4554 - val_loss: 34.1450\n",
      "Epoch 7/200\n",
      "11/11 [==============================] - 0s 9ms/step - loss: 27.7629 - val_loss: 28.7939\n",
      "Epoch 8/200\n",
      "11/11 [==============================] - 0s 9ms/step - loss: 24.0168 - val_loss: 24.7528\n",
      "Epoch 9/200\n",
      "11/11 [==============================] - 0s 3ms/step - loss: 20.5997 - val_loss: 35.3629\n",
      "Epoch 10/200\n",
      "11/11 [==============================] - 0s 3ms/step - loss: 25.1068 - val_loss: 27.8865\n",
      "Epoch 11/200\n",
      "11/11 [==============================] - 0s 11ms/step - loss: 19.4644 - val_loss: 22.4959\n",
      "Epoch 12/200\n",
      "11/11 [==============================] - 0s 3ms/step - loss: 23.8514 - val_loss: 28.1945\n",
      "Epoch 13/200\n",
      "11/11 [==============================] - 0s 3ms/step - loss: 24.9633 - val_loss: 48.4137\n",
      "Epoch 14/200\n",
      "11/11 [==============================] - 0s 9ms/step - loss: 46.4378 - val_loss: 22.3024\n",
      "Epoch 15/200\n",
      "11/11 [==============================] - 0s 3ms/step - loss: 22.9725 - val_loss: 34.9081\n",
      "Epoch 16/200\n",
      "11/11 [==============================] - 0s 3ms/step - loss: 23.6004 - val_loss: 22.5111\n",
      "Epoch 17/200\n",
      "11/11 [==============================] - 0s 3ms/step - loss: 19.3247 - val_loss: 23.6109\n",
      "Epoch 18/200\n",
      "11/11 [==============================] - 0s 8ms/step - loss: 19.9849 - val_loss: 20.6004\n",
      "Epoch 19/200\n",
      "11/11 [==============================] - 0s 9ms/step - loss: 15.7835 - val_loss: 20.4478\n",
      "Epoch 20/200\n",
      "11/11 [==============================] - 0s 11ms/step - loss: 14.6447 - val_loss: 18.1218\n",
      "Epoch 21/200\n",
      "11/11 [==============================] - 0s 3ms/step - loss: 12.7727 - val_loss: 18.5421\n",
      "Epoch 22/200\n",
      "11/11 [==============================] - 0s 3ms/step - loss: 25.4748 - val_loss: 24.2457\n",
      "Epoch 23/200\n",
      "11/11 [==============================] - 0s 3ms/step - loss: 17.3882 - val_loss: 32.8718\n",
      "Epoch 24/200\n",
      "11/11 [==============================] - 0s 3ms/step - loss: 18.3939 - val_loss: 23.6715\n",
      "Epoch 25/200\n",
      "11/11 [==============================] - 0s 3ms/step - loss: 17.5502 - val_loss: 19.0763\n",
      "Epoch 26/200\n",
      "11/11 [==============================] - 0s 9ms/step - loss: 17.2512 - val_loss: 15.8747\n",
      "Epoch 27/200\n",
      "11/11 [==============================] - 0s 3ms/step - loss: 15.0489 - val_loss: 20.2107\n",
      "Epoch 28/200\n",
      "11/11 [==============================] - 0s 3ms/step - loss: 12.8953 - val_loss: 16.7979\n",
      "Epoch 29/200\n",
      "11/11 [==============================] - 0s 3ms/step - loss: 11.7584 - val_loss: 17.3021\n",
      "Epoch 30/200\n",
      "11/11 [==============================] - 0s 10ms/step - loss: 13.8184 - val_loss: 13.5706\n",
      "Epoch 31/200\n",
      "11/11 [==============================] - 0s 3ms/step - loss: 17.3719 - val_loss: 19.8418\n",
      "Epoch 32/200\n",
      "11/11 [==============================] - 0s 3ms/step - loss: 13.9310 - val_loss: 20.5611\n",
      "Epoch 33/200\n",
      "11/11 [==============================] - 0s 3ms/step - loss: 13.3317 - val_loss: 17.4588\n",
      "Epoch 34/200\n",
      "11/11 [==============================] - 0s 3ms/step - loss: 14.5030 - val_loss: 14.8052\n",
      "Epoch 35/200\n",
      "11/11 [==============================] - 0s 3ms/step - loss: 13.6123 - val_loss: 22.0224\n",
      "Epoch 36/200\n",
      "11/11 [==============================] - 0s 3ms/step - loss: 23.9970 - val_loss: 48.9696\n",
      "Epoch 37/200\n",
      "11/11 [==============================] - 0s 3ms/step - loss: 28.2532 - val_loss: 15.6400\n",
      "Epoch 38/200\n",
      "11/11 [==============================] - 0s 3ms/step - loss: 19.2324 - val_loss: 16.9486\n",
      "Epoch 39/200\n",
      "11/11 [==============================] - 0s 3ms/step - loss: 16.0827 - val_loss: 14.6414\n",
      "Epoch 40/200\n",
      "11/11 [==============================] - 0s 3ms/step - loss: 14.7306 - val_loss: 16.6634\n",
      "Epoch 40: early stopping\n"
     ]
    }
   ],
   "source": [
    "history = model.fit(train_data, train_targets, validation_split=0.2, epochs=200, batch_size=32, callbacks=[es, mc])"
   ]
  },
  {
   "cell_type": "code",
   "execution_count": 12,
   "metadata": {},
   "outputs": [
    {
     "data": {
      "image/png": "[encoded data removed]",
      "text/plain": [
       "<Figure size 640x480 with 1 Axes>"
      ]
     },
     "metadata": {},
     "output_type": "display_data"
    }
   ],
   "source": [
    "from matplotlib import pyplot\n",
    "pyplot.plot(history.history['loss'], label='train')\n",
    "pyplot.plot(history.history['val_loss'], label='validation')\n",
    "pyplot.legend()\n",
    "pyplot.show()"
   ]
  },
  {
   "cell_type": "code",
   "execution_count": 13,
   "metadata": {},
   "outputs": [
    {
     "data": {
      "text/plain": [
       "<tensorflow.python.checkpoint.checkpoint.CheckpointLoadStatus at 0x1ab47b01820>"
      ]
     },
     "execution_count": 13,
     "metadata": {},
     "output_type": "execute_result"
    }
   ],
   "source": [
    "model.load_weights(checkpoint_filepath)"
   ]
  },
  {
   "cell_type": "code",
   "execution_count": 14,
   "metadata": {},
   "outputs": [
    {
     "name": "stdout",
     "output_type": "stream",
     "text": [
      "4/4 [==============================] - 0s 1000us/step\n"
     ]
    }
   ],
   "source": [
    "y_pred = model.predict(test_data)"
   ]
  },
  {
   "cell_type": "code",
   "execution_count": 15,
   "metadata": {},
   "outputs": [
    {
     "data": {
      "text/plain": [
       "0.8028848174650686"
      ]
     },
     "execution_count": 15,
     "metadata": {},
     "output_type": "execute_result"
    }
   ],
   "source": [
    "from sklearn.metrics import r2_score\n",
    "r2_score(test_targets, y_pred)"
   ]
  },
  {
   "cell_type": "code",
   "execution_count": 16,
   "metadata": {},
   "outputs": [
    {
     "data": {
      "text/plain": [
       "4.050756274560415"
      ]
     },
     "execution_count": 16,
     "metadata": {},
     "output_type": "execute_result"
    }
   ],
   "source": [
    "from sklearn.metrics import mean_squared_error\n",
    "mean_squared_error(test_targets, y_pred)**0.5"
   ]
  },
  {
   "cell_type": "code",
   "execution_count": null,
   "metadata": {},
   "outputs": [],
   "source": []
  }
 ],
 "metadata": {
  "kernelspec": {
   "display_name": "Python 3 (ipykernel)",
   "language": "python",
   "name": "python3"
  },
  "language_info": {
   "codemirror_mode": {
    "name": "ipython",
    "version": 3
   },
   "file_extension": ".py",
   "mimetype": "text/x-python",
   "name": "python",
   "nbconvert_exporter": "python",
   "pygments_lexer": "ipython3",
   "version": "3.8.16"
  }
 },
 "nbformat": 4,
 "nbformat_minor": 2
}
