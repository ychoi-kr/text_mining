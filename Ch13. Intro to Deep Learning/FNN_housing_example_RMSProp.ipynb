{
 "cells": [
  {
   "cell_type": "code",
   "execution_count": 1,
   "metadata": {},
   "outputs": [],
   "source": [
    "import tensorflow as tf\n",
    "from tensorflow import keras"
   ]
  },
  {
   "cell_type": "code",
   "execution_count": 2,
   "metadata": {},
   "outputs": [],
   "source": [
    "(train_data, train_targets), (test_data, test_targets) =keras.datasets.boston_housing.load_data()"
   ]
  },
  {
   "cell_type": "code",
   "execution_count": 3,
   "metadata": {},
   "outputs": [],
   "source": [
    "mean = train_data.mean(axis=0)\n",
    "train_data -= mean\n",
    "std = train_data.std(axis=0)\n",
    "train_data /= std\n",
    "test_data -= mean\n",
    "test_data /= std"
   ]
  },
  {
   "cell_type": "code",
   "execution_count": 4,
   "metadata": {},
   "outputs": [],
   "source": [
    "from tensorflow.keras import models\n",
    "from tensorflow.keras import layers"
   ]
  },
  {
   "cell_type": "code",
   "execution_count": 5,
   "metadata": {},
   "outputs": [
    {
     "data": {
      "text/plain": [
       "(404, 13)"
      ]
     },
     "execution_count": 5,
     "metadata": {},
     "output_type": "execute_result"
    }
   ],
   "source": [
    "train_data.shape"
   ]
  },
  {
   "cell_type": "code",
   "execution_count": 6,
   "metadata": {},
   "outputs": [],
   "source": [
    "model = models.Sequential()"
   ]
  },
  {
   "cell_type": "code",
   "execution_count": 7,
   "metadata": {},
   "outputs": [],
   "source": [
    "model.add(layers.Dense(64, activation = 'relu', kernel_initializer = 'glorot_uniform', input_shape=(train_data.shape[1],)))"
   ]
  },
  {
   "cell_type": "code",
   "execution_count": 8,
   "metadata": {},
   "outputs": [],
   "source": [
    "model.add(layers.Dense(64, activation = 'relu', kernel_initializer = 'glorot_uniform'))"
   ]
  },
  {
   "cell_type": "code",
   "execution_count": 9,
   "metadata": {},
   "outputs": [],
   "source": [
    "model.add(layers.Dense(1))"
   ]
  },
  {
   "cell_type": "code",
   "execution_count": 10,
   "metadata": {},
   "outputs": [
    {
     "name": "stdout",
     "output_type": "stream",
     "text": [
      "Model: \"sequential\"\n",
      "_________________________________________________________________\n",
      " Layer (type)                Output Shape              Param #   \n",
      "=================================================================\n",
      " dense (Dense)               (None, 64)                896       \n",
      "                                                                 \n",
      " dense_1 (Dense)             (None, 64)                4160      \n",
      "                                                                 \n",
      " dense_2 (Dense)             (None, 1)                 65        \n",
      "                                                                 \n",
      "=================================================================\n",
      "Total params: 5,121\n",
      "Trainable params: 5,121\n",
      "Non-trainable params: 0\n",
      "_________________________________________________________________\n"
     ]
    }
   ],
   "source": [
    "model.summary()"
   ]
  },
  {
   "cell_type": "markdown",
   "metadata": {},
   "source": [
    "## RMSprop 옵티마이저 사용해 보기"
   ]
  },
  {
   "cell_type": "code",
   "execution_count": 11,
   "metadata": {},
   "outputs": [],
   "source": [
    "rmsprop = tf.keras.optimizers.RMSprop(learning_rate=0.01, rho=0.85, momentum=0.9)"
   ]
  },
  {
   "cell_type": "code",
   "execution_count": 12,
   "metadata": {},
   "outputs": [],
   "source": [
    "model.compile(optimizer=rmsprop, loss='mse')"
   ]
  },
  {
   "cell_type": "code",
   "execution_count": 13,
   "metadata": {
    "scrolled": true
   },
   "outputs": [
    {
     "name": "stdout",
     "output_type": "stream",
     "text": [
      "Epoch 1/80\n",
      "7/7 [==============================] - 0s 1ms/step - loss: 878.2064\n",
      "Epoch 2/80\n",
      "7/7 [==============================] - 0s 1000us/step - loss: 167.9954\n",
      "Epoch 3/80\n",
      "7/7 [==============================] - 0s 833us/step - loss: 142.2644\n",
      "Epoch 4/80\n",
      "7/7 [==============================] - 0s 913us/step - loss: 55.1557\n",
      "Epoch 5/80\n",
      "7/7 [==============================] - 0s 833us/step - loss: 41.2226\n",
      "Epoch 6/80\n",
      "7/7 [==============================] - 0s 833us/step - loss: 32.0944\n",
      "Epoch 7/80\n",
      "7/7 [==============================] - 0s 833us/step - loss: 17.8294\n",
      "Epoch 8/80\n",
      "7/7 [==============================] - 0s 834us/step - loss: 16.9552\n",
      "Epoch 9/80\n",
      "7/7 [==============================] - 0s 833us/step - loss: 14.5194\n",
      "Epoch 10/80\n",
      "7/7 [==============================] - 0s 833us/step - loss: 14.9630\n",
      "Epoch 11/80\n",
      "7/7 [==============================] - 0s 833us/step - loss: 11.6871\n",
      "Epoch 12/80\n",
      "7/7 [==============================] - 0s 833us/step - loss: 13.8447\n",
      "Epoch 13/80\n",
      "7/7 [==============================] - 0s 1ms/step - loss: 12.2961\n",
      "Epoch 14/80\n",
      "7/7 [==============================] - 0s 833us/step - loss: 8.6183\n",
      "Epoch 15/80\n",
      "7/7 [==============================] - 0s 834us/step - loss: 9.4681\n",
      "Epoch 16/80\n",
      "7/7 [==============================] - 0s 833us/step - loss: 8.7099\n",
      "Epoch 17/80\n",
      "7/7 [==============================] - 0s 834us/step - loss: 9.8409\n",
      "Epoch 18/80\n",
      "7/7 [==============================] - 0s 1000us/step - loss: 9.9955\n",
      "Epoch 19/80\n",
      "7/7 [==============================] - 0s 833us/step - loss: 10.0846\n",
      "Epoch 20/80\n",
      "7/7 [==============================] - 0s 833us/step - loss: 9.8930\n",
      "Epoch 21/80\n",
      "7/7 [==============================] - 0s 667us/step - loss: 10.6102\n",
      "Epoch 22/80\n",
      "7/7 [==============================] - 0s 833us/step - loss: 8.9323\n",
      "Epoch 23/80\n",
      "7/7 [==============================] - 0s 833us/step - loss: 10.0992\n",
      "Epoch 24/80\n",
      "7/7 [==============================] - 0s 1ms/step - loss: 8.0849\n",
      "Epoch 25/80\n",
      "7/7 [==============================] - 0s 833us/step - loss: 6.6348\n",
      "Epoch 26/80\n",
      "7/7 [==============================] - 0s 833us/step - loss: 7.7320\n",
      "Epoch 27/80\n",
      "7/7 [==============================] - 0s 667us/step - loss: 7.3442\n",
      "Epoch 28/80\n",
      "7/7 [==============================] - 0s 833us/step - loss: 6.7212\n",
      "Epoch 29/80\n",
      "7/7 [==============================] - 0s 833us/step - loss: 8.0805\n",
      "Epoch 30/80\n",
      "7/7 [==============================] - 0s 833us/step - loss: 8.3141\n",
      "Epoch 31/80\n",
      "7/7 [==============================] - 0s 833us/step - loss: 7.1287\n",
      "Epoch 32/80\n",
      "7/7 [==============================] - 0s 667us/step - loss: 7.5629\n",
      "Epoch 33/80\n",
      "7/7 [==============================] - 0s 833us/step - loss: 8.6002\n",
      "Epoch 34/80\n",
      "7/7 [==============================] - 0s 833us/step - loss: 8.6224\n",
      "Epoch 35/80\n",
      "7/7 [==============================] - 0s 833us/step - loss: 9.6687\n",
      "Epoch 36/80\n",
      "7/7 [==============================] - 0s 833us/step - loss: 7.3502\n",
      "Epoch 37/80\n",
      "7/7 [==============================] - 0s 833us/step - loss: 7.7022\n",
      "Epoch 38/80\n",
      "7/7 [==============================] - 0s 833us/step - loss: 6.7344\n",
      "Epoch 39/80\n",
      "7/7 [==============================] - 0s 833us/step - loss: 8.0641\n",
      "Epoch 40/80\n",
      "7/7 [==============================] - 0s 833us/step - loss: 6.1920\n",
      "Epoch 41/80\n",
      "7/7 [==============================] - 0s 833us/step - loss: 6.5640\n",
      "Epoch 42/80\n",
      "7/7 [==============================] - 0s 834us/step - loss: 5.9027\n",
      "Epoch 43/80\n",
      "7/7 [==============================] - 0s 803us/step - loss: 5.3424\n",
      "Epoch 44/80\n",
      "7/7 [==============================] - 0s 918us/step - loss: 6.2895\n",
      "Epoch 45/80\n",
      "7/7 [==============================] - 0s 989us/step - loss: 6.9416\n",
      "Epoch 46/80\n",
      "7/7 [==============================] - 0s 833us/step - loss: 6.3349\n",
      "Epoch 47/80\n",
      "7/7 [==============================] - 0s 838us/step - loss: 5.1667\n",
      "Epoch 48/80\n",
      "7/7 [==============================] - 0s 838us/step - loss: 7.4876\n",
      "Epoch 49/80\n",
      "7/7 [==============================] - 0s 834us/step - loss: 6.4895\n",
      "Epoch 50/80\n",
      "7/7 [==============================] - 0s 839us/step - loss: 5.4720\n",
      "Epoch 51/80\n",
      "7/7 [==============================] - 0s 833us/step - loss: 10.6719\n",
      "Epoch 52/80\n",
      "7/7 [==============================] - 0s 667us/step - loss: 8.9414\n",
      "Epoch 53/80\n",
      "7/7 [==============================] - 0s 833us/step - loss: 5.3394\n",
      "Epoch 54/80\n",
      "7/7 [==============================] - 0s 979us/step - loss: 6.9813\n",
      "Epoch 55/80\n",
      "7/7 [==============================] - 0s 929us/step - loss: 7.1853\n",
      "Epoch 56/80\n",
      "7/7 [==============================] - 0s 833us/step - loss: 6.7011\n",
      "Epoch 57/80\n",
      "7/7 [==============================] - 0s 833us/step - loss: 5.2208\n",
      "Epoch 58/80\n",
      "7/7 [==============================] - 0s 834us/step - loss: 5.8382\n",
      "Epoch 59/80\n",
      "7/7 [==============================] - 0s 834us/step - loss: 6.0474\n",
      "Epoch 60/80\n",
      "7/7 [==============================] - 0s 667us/step - loss: 5.8591\n",
      "Epoch 61/80\n",
      "7/7 [==============================] - 0s 839us/step - loss: 5.2538\n",
      "Epoch 62/80\n",
      "7/7 [==============================] - 0s 1ms/step - loss: 6.0337\n",
      "Epoch 63/80\n",
      "7/7 [==============================] - 0s 838us/step - loss: 7.2416\n",
      "Epoch 64/80\n",
      "7/7 [==============================] - 0s 836us/step - loss: 7.4676\n",
      "Epoch 65/80\n",
      "7/7 [==============================] - 0s 932us/step - loss: 4.9683\n",
      "Epoch 66/80\n",
      "7/7 [==============================] - 0s 841us/step - loss: 5.0062\n",
      "Epoch 67/80\n",
      "7/7 [==============================] - 0s 833us/step - loss: 4.8161\n",
      "Epoch 68/80\n",
      "7/7 [==============================] - 0s 1ms/step - loss: 4.6345\n",
      "Epoch 69/80\n",
      "7/7 [==============================] - 0s 834us/step - loss: 4.6910\n",
      "Epoch 70/80\n",
      "7/7 [==============================] - 0s 666us/step - loss: 5.3784\n",
      "Epoch 71/80\n",
      "7/7 [==============================] - 0s 918us/step - loss: 6.2306\n",
      "Epoch 72/80\n",
      "7/7 [==============================] - 0s 833us/step - loss: 5.7935\n",
      "Epoch 73/80\n",
      "7/7 [==============================] - 0s 834us/step - loss: 5.4535\n",
      "Epoch 74/80\n",
      "7/7 [==============================] - 0s 833us/step - loss: 4.4213\n",
      "Epoch 75/80\n",
      "7/7 [==============================] - 0s 834us/step - loss: 4.4902\n",
      "Epoch 76/80\n",
      "7/7 [==============================] - 0s 918us/step - loss: 4.1667\n",
      "Epoch 77/80\n",
      "7/7 [==============================] - 0s 832us/step - loss: 4.4268\n",
      "Epoch 78/80\n",
      "7/7 [==============================] - 0s 833us/step - loss: 4.2067\n",
      "Epoch 79/80\n",
      "7/7 [==============================] - 0s 838us/step - loss: 3.9086\n",
      "Epoch 80/80\n",
      "7/7 [==============================] - 0s 842us/step - loss: 3.4548\n"
     ]
    }
   ],
   "source": [
    "# model.fit(train_data, train_targets, epochs=80, batch_size=16)\n",
    "history = model.fit(train_data, train_targets, epochs=80, batch_size=64)"
   ]
  },
  {
   "cell_type": "markdown",
   "metadata": {},
   "source": [
    "## Loss 값 변화 살펴보기"
   ]
  },
  {
   "cell_type": "code",
   "execution_count": 14,
   "metadata": {},
   "outputs": [],
   "source": [
    "import matplotlib.pyplot as plt"
   ]
  },
  {
   "cell_type": "code",
   "execution_count": 15,
   "metadata": {},
   "outputs": [
    {
     "data": {
      "image/png": "[encoded data removed]",
      "text/plain": [
       "<Figure size 640x480 with 1 Axes>"
      ]
     },
     "metadata": {},
     "output_type": "display_data"
    }
   ],
   "source": [
    "plt.plot(history.history['loss'])\n",
    "plt.xlabel('epoch')\n",
    "plt.ylabel('loss')\n",
    "plt.legend(['train'])\n",
    "plt.show()"
   ]
  },
  {
   "cell_type": "markdown",
   "metadata": {},
   "source": [
    "# 성능 평가하기"
   ]
  },
  {
   "cell_type": "code",
   "execution_count": 16,
   "metadata": {},
   "outputs": [
    {
     "name": "stdout",
     "output_type": "stream",
     "text": [
      "4/4 [==============================] - 0s 847us/step\n"
     ]
    },
    {
     "data": {
      "text/plain": [
       "3.48404757368936"
      ]
     },
     "execution_count": 16,
     "metadata": {},
     "output_type": "execute_result"
    }
   ],
   "source": [
    "y_pred = model.predict(test_data)\n",
    "from sklearn.metrics import mean_squared_error\n",
    "mean_squared_error(test_targets, y_pred)**0.5"
   ]
  },
  {
   "cell_type": "code",
   "execution_count": 17,
   "metadata": {},
   "outputs": [
    {
     "data": {
      "text/plain": [
       "0.8541803663384993"
      ]
     },
     "execution_count": 17,
     "metadata": {},
     "output_type": "execute_result"
    }
   ],
   "source": [
    "from sklearn.metrics import r2_score\n",
    "r2_score(test_targets, y_pred)"
   ]
  },
  {
   "cell_type": "code",
   "execution_count": null,
   "metadata": {},
   "outputs": [],
   "source": []
  }
 ],
 "metadata": {
  "kernelspec": {
   "display_name": "Python 3 (ipykernel)",
   "language": "python",
   "name": "python3"
  },
  "language_info": {
   "codemirror_mode": {
    "name": "ipython",
    "version": 3
   },
   "file_extension": ".py",
   "mimetype": "text/x-python",
   "name": "python",
   "nbconvert_exporter": "python",
   "pygments_lexer": "ipython3",
   "version": "3.8.16"
  }
 },
 "nbformat": 4,
 "nbformat_minor": 2
}
