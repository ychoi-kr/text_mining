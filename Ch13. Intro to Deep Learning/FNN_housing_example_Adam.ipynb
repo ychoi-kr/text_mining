{
 "cells": [
  {
   "cell_type": "code",
   "execution_count": 1,
   "metadata": {},
   "outputs": [],
   "source": [
    "import tensorflow as tf\n",
    "from tensorflow import keras"
   ]
  },
  {
   "cell_type": "code",
   "execution_count": 2,
   "metadata": {},
   "outputs": [],
   "source": [
    "(train_data, train_targets), (test_data, test_targets) =keras.datasets.boston_housing.load_data()"
   ]
  },
  {
   "cell_type": "code",
   "execution_count": 3,
   "metadata": {},
   "outputs": [],
   "source": [
    "mean = train_data.mean(axis=0)\n",
    "train_data -= mean\n",
    "std = train_data.std(axis=0)\n",
    "train_data /= std\n",
    "test_data -= mean\n",
    "test_data /= std"
   ]
  },
  {
   "cell_type": "code",
   "execution_count": 4,
   "metadata": {},
   "outputs": [],
   "source": [
    "from tensorflow.keras import models\n",
    "from tensorflow.keras import layers"
   ]
  },
  {
   "cell_type": "code",
   "execution_count": 5,
   "metadata": {},
   "outputs": [
    {
     "data": {
      "text/plain": [
       "(404, 13)"
      ]
     },
     "execution_count": 5,
     "metadata": {},
     "output_type": "execute_result"
    }
   ],
   "source": [
    "train_data.shape"
   ]
  },
  {
   "cell_type": "code",
   "execution_count": 6,
   "metadata": {},
   "outputs": [],
   "source": [
    "model = models.Sequential()"
   ]
  },
  {
   "cell_type": "code",
   "execution_count": 7,
   "metadata": {},
   "outputs": [],
   "source": [
    "model.add(layers.Dense(64, activation = 'relu', kernel_initializer = 'glorot_uniform', input_shape=(train_data.shape[1],)))"
   ]
  },
  {
   "cell_type": "code",
   "execution_count": 8,
   "metadata": {},
   "outputs": [],
   "source": [
    "model.add(layers.Dense(64, activation = 'relu', kernel_initializer = 'glorot_uniform'))"
   ]
  },
  {
   "cell_type": "code",
   "execution_count": 9,
   "metadata": {},
   "outputs": [],
   "source": [
    "model.add(layers.Dense(1))"
   ]
  },
  {
   "cell_type": "code",
   "execution_count": 10,
   "metadata": {},
   "outputs": [
    {
     "name": "stdout",
     "output_type": "stream",
     "text": [
      "Model: \"sequential\"\n",
      "_________________________________________________________________\n",
      " Layer (type)                Output Shape              Param #   \n",
      "=================================================================\n",
      " dense (Dense)               (None, 64)                896       \n",
      "                                                                 \n",
      " dense_1 (Dense)             (None, 64)                4160      \n",
      "                                                                 \n",
      " dense_2 (Dense)             (None, 1)                 65        \n",
      "                                                                 \n",
      "=================================================================\n",
      "Total params: 5,121\n",
      "Trainable params: 5,121\n",
      "Non-trainable params: 0\n",
      "_________________________________________________________________\n"
     ]
    }
   ],
   "source": [
    "model.summary()"
   ]
  },
  {
   "cell_type": "markdown",
   "metadata": {},
   "source": [
    "## Adam 옵티마이저 사용해 보기"
   ]
  },
  {
   "cell_type": "code",
   "execution_count": 11,
   "metadata": {},
   "outputs": [],
   "source": [
    "# Optimizer 종류 => https://keras.io/api/optimizers/\n",
    "adam = tf.keras.optimizers.Adam(learning_rate=0.01, beta_1=0.9, beta_2=0.999)"
   ]
  },
  {
   "cell_type": "code",
   "execution_count": 12,
   "metadata": {},
   "outputs": [],
   "source": [
    "model.compile(optimizer=adam, loss='mse')"
   ]
  },
  {
   "cell_type": "code",
   "execution_count": 13,
   "metadata": {
    "scrolled": true
   },
   "outputs": [
    {
     "name": "stdout",
     "output_type": "stream",
     "text": [
      "Epoch 1/80\n",
      "7/7 [==============================] - 0s 1ms/step - loss: 457.2180\n",
      "Epoch 2/80\n",
      "7/7 [==============================] - 0s 1ms/step - loss: 141.6289\n",
      "Epoch 3/80\n",
      "7/7 [==============================] - 0s 833us/step - loss: 98.3353\n",
      "Epoch 4/80\n",
      "7/7 [==============================] - 0s 918us/step - loss: 39.1279\n",
      "Epoch 5/80\n",
      "7/7 [==============================] - 0s 833us/step - loss: 27.5418\n",
      "Epoch 6/80\n",
      "7/7 [==============================] - 0s 1ms/step - loss: 22.8177\n",
      "Epoch 7/80\n",
      "7/7 [==============================] - 0s 1000us/step - loss: 16.4954\n",
      "Epoch 8/80\n",
      "7/7 [==============================] - 0s 833us/step - loss: 14.6543\n",
      "Epoch 9/80\n",
      "7/7 [==============================] - 0s 1000us/step - loss: 13.0745\n",
      "Epoch 10/80\n",
      "7/7 [==============================] - 0s 833us/step - loss: 12.0736\n",
      "Epoch 11/80\n",
      "7/7 [==============================] - 0s 833us/step - loss: 11.3801\n",
      "Epoch 12/80\n",
      "7/7 [==============================] - 0s 833us/step - loss: 10.6854\n",
      "Epoch 13/80\n",
      "7/7 [==============================] - 0s 833us/step - loss: 10.2886\n",
      "Epoch 14/80\n",
      "7/7 [==============================] - 0s 833us/step - loss: 10.0918\n",
      "Epoch 15/80\n",
      "7/7 [==============================] - 0s 834us/step - loss: 9.8298\n",
      "Epoch 16/80\n",
      "7/7 [==============================] - 0s 833us/step - loss: 9.8996\n",
      "Epoch 17/80\n",
      "7/7 [==============================] - 0s 918us/step - loss: 9.7214\n",
      "Epoch 18/80\n",
      "7/7 [==============================] - 0s 1000us/step - loss: 9.8112\n",
      "Epoch 19/80\n",
      "7/7 [==============================] - 0s 833us/step - loss: 9.3977\n",
      "Epoch 20/80\n",
      "7/7 [==============================] - 0s 833us/step - loss: 9.0821\n",
      "Epoch 21/80\n",
      "7/7 [==============================] - 0s 833us/step - loss: 8.6021\n",
      "Epoch 22/80\n",
      "7/7 [==============================] - 0s 833us/step - loss: 8.6688\n",
      "Epoch 23/80\n",
      "7/7 [==============================] - 0s 833us/step - loss: 8.5405\n",
      "Epoch 24/80\n",
      "7/7 [==============================] - 0s 1ms/step - loss: 8.3994\n",
      "Epoch 25/80\n",
      "7/7 [==============================] - 0s 860us/step - loss: 8.3970\n",
      "Epoch 26/80\n",
      "7/7 [==============================] - 0s 833us/step - loss: 8.0447\n",
      "Epoch 27/80\n",
      "7/7 [==============================] - 0s 833us/step - loss: 8.3580\n",
      "Epoch 28/80\n",
      "7/7 [==============================] - 0s 834us/step - loss: 8.2440\n",
      "Epoch 29/80\n",
      "7/7 [==============================] - 0s 883us/step - loss: 8.4330\n",
      "Epoch 30/80\n",
      "7/7 [==============================] - 0s 850us/step - loss: 7.5092\n",
      "Epoch 31/80\n",
      "7/7 [==============================] - 0s 833us/step - loss: 7.9911\n",
      "Epoch 32/80\n",
      "7/7 [==============================] - 0s 833us/step - loss: 7.7194\n",
      "Epoch 33/80\n",
      "7/7 [==============================] - 0s 833us/step - loss: 7.1866\n",
      "Epoch 34/80\n",
      "7/7 [==============================] - 0s 834us/step - loss: 7.2502\n",
      "Epoch 35/80\n",
      "7/7 [==============================] - 0s 833us/step - loss: 7.1702\n",
      "Epoch 36/80\n",
      "7/7 [==============================] - 0s 833us/step - loss: 7.1355\n",
      "Epoch 37/80\n",
      "7/7 [==============================] - 0s 833us/step - loss: 6.9638\n",
      "Epoch 38/80\n",
      "7/7 [==============================] - 0s 833us/step - loss: 7.2665\n",
      "Epoch 39/80\n",
      "7/7 [==============================] - 0s 833us/step - loss: 8.0368\n",
      "Epoch 40/80\n",
      "7/7 [==============================] - 0s 1000us/step - loss: 8.3906\n",
      "Epoch 41/80\n",
      "7/7 [==============================] - 0s 833us/step - loss: 7.4963\n",
      "Epoch 42/80\n",
      "7/7 [==============================] - 0s 833us/step - loss: 7.3569\n",
      "Epoch 43/80\n",
      "7/7 [==============================] - 0s 833us/step - loss: 6.5022\n",
      "Epoch 44/80\n",
      "7/7 [==============================] - 0s 1ms/step - loss: 6.3691\n",
      "Epoch 45/80\n",
      "7/7 [==============================] - 0s 833us/step - loss: 6.2829\n",
      "Epoch 46/80\n",
      "7/7 [==============================] - 0s 1ms/step - loss: 6.2388\n",
      "Epoch 47/80\n",
      "7/7 [==============================] - 0s 833us/step - loss: 6.4304\n",
      "Epoch 48/80\n",
      "7/7 [==============================] - 0s 833us/step - loss: 6.1046\n",
      "Epoch 49/80\n",
      "7/7 [==============================] - 0s 833us/step - loss: 6.3221\n",
      "Epoch 50/80\n",
      "7/7 [==============================] - 0s 833us/step - loss: 5.8325\n",
      "Epoch 51/80\n",
      "7/7 [==============================] - 0s 833us/step - loss: 6.2290\n",
      "Epoch 52/80\n",
      "7/7 [==============================] - 0s 833us/step - loss: 6.2427\n",
      "Epoch 53/80\n",
      "7/7 [==============================] - 0s 834us/step - loss: 5.8047\n",
      "Epoch 54/80\n",
      "7/7 [==============================] - 0s 833us/step - loss: 6.0073\n",
      "Epoch 55/80\n",
      "7/7 [==============================] - 0s 834us/step - loss: 5.5753\n",
      "Epoch 56/80\n",
      "7/7 [==============================] - 0s 833us/step - loss: 5.8078\n",
      "Epoch 57/80\n",
      "7/7 [==============================] - 0s 918us/step - loss: 5.3795\n",
      "Epoch 58/80\n",
      "7/7 [==============================] - 0s 833us/step - loss: 5.5458\n",
      "Epoch 59/80\n",
      "7/7 [==============================] - 0s 834us/step - loss: 5.4536\n",
      "Epoch 60/80\n",
      "7/7 [==============================] - 0s 833us/step - loss: 5.5378\n",
      "Epoch 61/80\n",
      "7/7 [==============================] - 0s 833us/step - loss: 5.3245\n",
      "Epoch 62/80\n",
      "7/7 [==============================] - 0s 1000us/step - loss: 5.5052\n",
      "Epoch 63/80\n",
      "7/7 [==============================] - 0s 834us/step - loss: 5.0918\n",
      "Epoch 64/80\n",
      "7/7 [==============================] - 0s 833us/step - loss: 4.7897\n",
      "Epoch 65/80\n",
      "7/7 [==============================] - 0s 833us/step - loss: 5.3994\n",
      "Epoch 66/80\n",
      "7/7 [==============================] - 0s 833us/step - loss: 5.3455\n",
      "Epoch 67/80\n",
      "7/7 [==============================] - 0s 833us/step - loss: 5.3745\n",
      "Epoch 68/80\n",
      "7/7 [==============================] - 0s 1ms/step - loss: 5.0078\n",
      "Epoch 69/80\n",
      "7/7 [==============================] - 0s 834us/step - loss: 5.0195\n",
      "Epoch 70/80\n",
      "7/7 [==============================] - 0s 901us/step - loss: 5.0089\n",
      "Epoch 71/80\n",
      "7/7 [==============================] - 0s 1ms/step - loss: 4.6268\n",
      "Epoch 72/80\n",
      "7/7 [==============================] - 0s 834us/step - loss: 5.3950\n",
      "Epoch 73/80\n",
      "7/7 [==============================] - 0s 1000us/step - loss: 4.8411\n",
      "Epoch 74/80\n",
      "7/7 [==============================] - 0s 833us/step - loss: 4.8260\n",
      "Epoch 75/80\n",
      "7/7 [==============================] - 0s 1000us/step - loss: 4.6118\n",
      "Epoch 76/80\n",
      "7/7 [==============================] - 0s 833us/step - loss: 4.4773\n",
      "Epoch 77/80\n",
      "7/7 [==============================] - 0s 833us/step - loss: 4.3144\n",
      "Epoch 78/80\n",
      "7/7 [==============================] - 0s 833us/step - loss: 4.2556\n",
      "Epoch 79/80\n",
      "7/7 [==============================] - 0s 834us/step - loss: 4.1610\n",
      "Epoch 80/80\n",
      "7/7 [==============================] - 0s 833us/step - loss: 4.3973\n"
     ]
    }
   ],
   "source": [
    "# model.fit(train_data, train_targets, epochs=80, batch_size=16)\n",
    "history = model.fit(train_data, train_targets, epochs=80, batch_size=64)"
   ]
  },
  {
   "cell_type": "markdown",
   "metadata": {},
   "source": [
    "## Loss 값 변화 살펴보기"
   ]
  },
  {
   "cell_type": "code",
   "execution_count": 14,
   "metadata": {},
   "outputs": [],
   "source": [
    "import matplotlib.pyplot as plt"
   ]
  },
  {
   "cell_type": "code",
   "execution_count": 15,
   "metadata": {},
   "outputs": [
    {
     "data": {
      "image/png": "[encoded data removed]",
      "text/plain": [
       "<Figure size 640x480 with 1 Axes>"
      ]
     },
     "metadata": {},
     "output_type": "display_data"
    }
   ],
   "source": [
    "plt.plot(history.history['loss'])\n",
    "plt.xlabel('epoch')\n",
    "plt.ylabel('loss')\n",
    "plt.legend(['train'])\n",
    "plt.show()"
   ]
  },
  {
   "cell_type": "markdown",
   "metadata": {},
   "source": [
    "# 성능 평가하기"
   ]
  },
  {
   "cell_type": "code",
   "execution_count": 16,
   "metadata": {},
   "outputs": [
    {
     "name": "stdout",
     "output_type": "stream",
     "text": [
      "4/4 [==============================] - 0s 847us/step\n"
     ]
    },
    {
     "data": {
      "text/plain": [
       "3.6051813444920713"
      ]
     },
     "execution_count": 16,
     "metadata": {},
     "output_type": "execute_result"
    }
   ],
   "source": [
    "y_pred = model.predict(test_data)\n",
    "from sklearn.metrics import mean_squared_error\n",
    "mean_squared_error(test_targets, y_pred)**0.5"
   ]
  },
  {
   "cell_type": "code",
   "execution_count": 17,
   "metadata": {},
   "outputs": [
    {
     "data": {
      "text/plain": [
       "0.8438643484439314"
      ]
     },
     "execution_count": 17,
     "metadata": {},
     "output_type": "execute_result"
    }
   ],
   "source": [
    "from sklearn.metrics import r2_score\n",
    "r2_score(test_targets, y_pred)"
   ]
  },
  {
   "cell_type": "code",
   "execution_count": null,
   "metadata": {},
   "outputs": [],
   "source": []
  }
 ],
 "metadata": {
  "kernelspec": {
   "display_name": "Python 3 (ipykernel)",
   "language": "python",
   "name": "python3"
  },
  "language_info": {
   "codemirror_mode": {
    "name": "ipython",
    "version": 3
   },
   "file_extension": ".py",
   "mimetype": "text/x-python",
   "name": "python",
   "nbconvert_exporter": "python",
   "pygments_lexer": "ipython3",
   "version": "3.8.16"
  }
 },
 "nbformat": 4,
 "nbformat_minor": 2
}
