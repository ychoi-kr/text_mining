{
 "cells": [
  {
   "cell_type": "code",
   "execution_count": 1,
   "metadata": {},
   "outputs": [],
   "source": [
    "import pandas as pd\n",
    "import numpy as np"
   ]
  },
  {
   "cell_type": "markdown",
   "metadata": {},
   "source": [
    "데이터 불러오기"
   ]
  },
  {
   "cell_type": "code",
   "execution_count": 2,
   "metadata": {},
   "outputs": [],
   "source": [
    "with open('2016_filtered_review_part.txt', encoding='utf-8') as f:\n",
    "    docs = [doc.strip().split('\\t\\t') for doc in f]\n",
    "    docs = [(doc[1], int(doc[2])) for doc in docs if len(doc) == 3]\n",
    "    # To read the second and third column info from each row\n",
    "    texts, scores = zip(*docs)\n",
    "    # 둘을 분리해서 별도의 list 변수로 저장"
   ]
  },
  {
   "cell_type": "markdown",
   "metadata": {},
   "source": [
    "평점 정보를 이용해서 종속변수 레이블링 하기"
   ]
  },
  {
   "cell_type": "code",
   "execution_count": 3,
   "metadata": {},
   "outputs": [],
   "source": [
    "filtered_texts = []\n",
    "filtered_labels = []\n",
    "\n",
    "for text, score in zip(texts, scores):\n",
    "    if 4 < score < 8:\n",
    "        continue\n",
    "        \n",
    "    # 평점 기준으로 문서에 label을 부여\n",
    "    # 1 ~ 4 -> 부정, 0\n",
    "    # 8 ~ 10 -> 긍정, 1\n",
    "    filtered_texts.append(text)\n",
    "    filtered_labels.append(1 if score >= 8 else 0)"
   ]
  },
  {
   "cell_type": "code",
   "execution_count": 4,
   "metadata": {},
   "outputs": [],
   "source": [
    "# To split the data into training and test datasets\n",
    "from sklearn.model_selection import train_test_split\n",
    "train_texts, test_texts, train_labels, test_labels = train_test_split(filtered_texts, filtered_labels, test_size=0.1, random_state=42)"
   ]
  },
  {
   "cell_type": "code",
   "execution_count": 5,
   "metadata": {},
   "outputs": [],
   "source": [
    "from sklearn.linear_model import LogisticRegression"
   ]
  },
  {
   "cell_type": "code",
   "execution_count": 6,
   "metadata": {},
   "outputs": [],
   "source": [
    "lr_tf_l1 = LogisticRegression(C=0.1, penalty='l1', solver='saga', max_iter=10000) "
   ]
  },
  {
   "cell_type": "code",
   "execution_count": 7,
   "metadata": {},
   "outputs": [],
   "source": [
    "from sklearn.feature_extraction.text import CountVectorizer\n",
    "tf_vectorizer = CountVectorizer() \n",
    "tf_train_features = tf_vectorizer.fit_transform(train_texts) \n",
    "tf_test_features = tf_vectorizer.transform(test_texts)"
   ]
  },
  {
   "cell_type": "code",
   "execution_count": 8,
   "metadata": {},
   "outputs": [
    {
     "data": {
      "text/html": [
       "<style>#sk-container-id-1 {color: black;background-color: white;}#sk-container-id-1 pre{padding: 0;}#sk-container-id-1 div.sk-toggleable {background-color: white;}#sk-container-id-1 label.sk-toggleable__label {cursor: pointer;display: block;width: 100%;margin-bottom: 0;padding: 0.3em;box-sizing: border-box;text-align: center;}#sk-container-id-1 label.sk-toggleable__label-arrow:before {content: \"▸\";float: left;margin-right: 0.25em;color: #696969;}#sk-container-id-1 label.sk-toggleable__label-arrow:hover:before {color: black;}#sk-container-id-1 div.sk-estimator:hover label.sk-toggleable__label-arrow:before {color: black;}#sk-container-id-1 div.sk-toggleable__content {max-height: 0;max-width: 0;overflow: hidden;text-align: left;background-color: #f0f8ff;}#sk-container-id-1 div.sk-toggleable__content pre {margin: 0.2em;color: black;border-radius: 0.25em;background-color: #f0f8ff;}#sk-container-id-1 input.sk-toggleable__control:checked~div.sk-toggleable__content {max-height: 200px;max-width: 100%;overflow: auto;}#sk-container-id-1 input.sk-toggleable__control:checked~label.sk-toggleable__label-arrow:before {content: \"▾\";}#sk-container-id-1 div.sk-estimator input.sk-toggleable__control:checked~label.sk-toggleable__label {background-color: #d4ebff;}#sk-container-id-1 div.sk-label input.sk-toggleable__control:checked~label.sk-toggleable__label {background-color: #d4ebff;}#sk-container-id-1 input.sk-hidden--visually {border: 0;clip: rect(1px 1px 1px 1px);clip: rect(1px, 1px, 1px, 1px);height: 1px;margin: -1px;overflow: hidden;padding: 0;position: absolute;width: 1px;}#sk-container-id-1 div.sk-estimator {font-family: monospace;background-color: #f0f8ff;border: 1px dotted black;border-radius: 0.25em;box-sizing: border-box;margin-bottom: 0.5em;}#sk-container-id-1 div.sk-estimator:hover {background-color: #d4ebff;}#sk-container-id-1 div.sk-parallel-item::after {content: \"\";width: 100%;border-bottom: 1px solid gray;flex-grow: 1;}#sk-container-id-1 div.sk-label:hover label.sk-toggleable__label {background-color: #d4ebff;}#sk-container-id-1 div.sk-serial::before {content: \"\";position: absolute;border-left: 1px solid gray;box-sizing: border-box;top: 0;bottom: 0;left: 50%;z-index: 0;}#sk-container-id-1 div.sk-serial {display: flex;flex-direction: column;align-items: center;background-color: white;padding-right: 0.2em;padding-left: 0.2em;position: relative;}#sk-container-id-1 div.sk-item {position: relative;z-index: 1;}#sk-container-id-1 div.sk-parallel {display: flex;align-items: stretch;justify-content: center;background-color: white;position: relative;}#sk-container-id-1 div.sk-item::before, #sk-container-id-1 div.sk-parallel-item::before {content: \"\";position: absolute;border-left: 1px solid gray;box-sizing: border-box;top: 0;bottom: 0;left: 50%;z-index: -1;}#sk-container-id-1 div.sk-parallel-item {display: flex;flex-direction: column;z-index: 1;position: relative;background-color: white;}#sk-container-id-1 div.sk-parallel-item:first-child::after {align-self: flex-end;width: 50%;}#sk-container-id-1 div.sk-parallel-item:last-child::after {align-self: flex-start;width: 50%;}#sk-container-id-1 div.sk-parallel-item:only-child::after {width: 0;}#sk-container-id-1 div.sk-dashed-wrapped {border: 1px dashed gray;margin: 0 0.4em 0.5em 0.4em;box-sizing: border-box;padding-bottom: 0.4em;background-color: white;}#sk-container-id-1 div.sk-label label {font-family: monospace;font-weight: bold;display: inline-block;line-height: 1.2em;}#sk-container-id-1 div.sk-label-container {text-align: center;}#sk-container-id-1 div.sk-container {/* jupyter's `normalize.less` sets `[hidden] { display: none; }` but bootstrap.min.css set `[hidden] { display: none !important; }` so we also need the `!important` here to be able to override the default hidden behavior on the sphinx rendered scikit-learn.org. See: https://github.com/scikit-learn/scikit-learn/issues/21755 */display: inline-block !important;position: relative;}#sk-container-id-1 div.sk-text-repr-fallback {display: none;}</style><div id=\"sk-container-id-1\" class=\"sk-top-container\"><div class=\"sk-text-repr-fallback\"><pre>LogisticRegression(C=0.1, max_iter=10000, penalty=&#x27;l1&#x27;, solver=&#x27;saga&#x27;)</pre><b>In a Jupyter environment, please rerun this cell to show the HTML representation or trust the notebook. <br />On GitHub, the HTML representation is unable to render, please try loading this page with nbviewer.org.</b></div><div class=\"sk-container\" hidden><div class=\"sk-item\"><div class=\"sk-estimator sk-toggleable\"><input class=\"sk-toggleable__control sk-hidden--visually\" id=\"sk-estimator-id-1\" type=\"checkbox\" checked><label for=\"sk-estimator-id-1\" class=\"sk-toggleable__label sk-toggleable__label-arrow\">LogisticRegression</label><div class=\"sk-toggleable__content\"><pre>LogisticRegression(C=0.1, max_iter=10000, penalty=&#x27;l1&#x27;, solver=&#x27;saga&#x27;)</pre></div></div></div></div></div>"
      ],
      "text/plain": [
       "LogisticRegression(C=0.1, max_iter=10000, penalty='l1', solver='saga')"
      ]
     },
     "execution_count": 8,
     "metadata": {},
     "output_type": "execute_result"
    }
   ],
   "source": [
    "lr_tf_l1.fit(tf_train_features, train_labels) # 학습"
   ]
  },
  {
   "cell_type": "code",
   "execution_count": 9,
   "metadata": {},
   "outputs": [],
   "source": [
    "pred_labels = lr_tf_l1.predict(tf_test_features) # 예측"
   ]
  },
  {
   "cell_type": "code",
   "execution_count": 10,
   "metadata": {},
   "outputs": [
    {
     "data": {
      "text/plain": [
       "array([[  23,  115],\n",
       "       [   8, 1806]], dtype=int64)"
      ]
     },
     "execution_count": 10,
     "metadata": {},
     "output_type": "execute_result"
    }
   ],
   "source": [
    "from sklearn.metrics import confusion_matrix\n",
    "confusion_matrix(test_labels, pred_labels)"
   ]
  },
  {
   "cell_type": "code",
   "execution_count": 11,
   "metadata": {},
   "outputs": [
    {
     "name": "stdout",
     "output_type": "stream",
     "text": [
      "              precision    recall  f1-score   support\n",
      "\n",
      "           0       0.74      0.17      0.27       138\n",
      "           1       0.94      1.00      0.97      1814\n",
      "\n",
      "    accuracy                           0.94      1952\n",
      "   macro avg       0.84      0.58      0.62      1952\n",
      "weighted avg       0.93      0.94      0.92      1952\n",
      "\n"
     ]
    }
   ],
   "source": [
    "from sklearn.metrics import classification_report\n",
    "print(classification_report(test_labels, pred_labels))"
   ]
  },
  {
   "cell_type": "markdown",
   "metadata": {},
   "source": [
    "# ROC curve / AUC"
   ]
  },
  {
   "cell_type": "code",
   "execution_count": 12,
   "metadata": {},
   "outputs": [],
   "source": [
    "pred_probs = lr_tf_l1.predict_proba(tf_test_features)"
   ]
  },
  {
   "cell_type": "code",
   "execution_count": 13,
   "metadata": {},
   "outputs": [
    {
     "data": {
      "text/plain": [
       "array([[0.06778962, 0.93221038],\n",
       "       [0.03088857, 0.96911143],\n",
       "       [0.07415929, 0.92584071],\n",
       "       ...,\n",
       "       [0.13041476, 0.86958524],\n",
       "       [0.02004227, 0.97995773],\n",
       "       [0.07415929, 0.92584071]])"
      ]
     },
     "execution_count": 13,
     "metadata": {},
     "output_type": "execute_result"
    }
   ],
   "source": [
    "pred_probs "
   ]
  },
  {
   "cell_type": "code",
   "execution_count": 14,
   "metadata": {},
   "outputs": [],
   "source": [
    "from sklearn.metrics import roc_curve\n",
    "import matplotlib.pyplot as plt"
   ]
  },
  {
   "cell_type": "code",
   "execution_count": 15,
   "metadata": {},
   "outputs": [
    {
     "data": {
      "image/png": "[encoded data removed]",
      "text/plain": [
       "<Figure size 640x480 with 1 Axes>"
      ]
     },
     "metadata": {},
     "output_type": "display_data"
    }
   ],
   "source": [
    "# roc curve for models\n",
    "fpr1, tpr1, thresh1 = roc_curve(test_labels, pred_probs[:,1], pos_label=1)\n",
    "\n",
    "# 기준이 되는 tpr = fpr 선을 그리기 위한 부분\n",
    "random_probs = [0 for i in range(len(test_labels))]\n",
    "p_fpr, p_tpr, _ = roc_curve(test_labels, random_probs, pos_label=1)\n",
    "\n",
    "# plot roc curves\n",
    "plt.plot(fpr1, tpr1,color='orange', label='ROC curve')\n",
    "plt.plot(p_fpr, p_tpr, linestyle='--', color='blue')\n",
    "\n",
    "plt.title('ROC curve for Sentiment analysis') # title\n",
    "plt.xlabel('False Positive Rate') # x label\n",
    "plt.ylabel('True Positive rate') # y label\n",
    "\n",
    "plt.legend(loc=\"lower right\")\n",
    "plt.savefig('ROC',dpi=300)\n",
    "plt.show()"
   ]
  },
  {
   "cell_type": "code",
   "execution_count": 16,
   "metadata": {},
   "outputs": [
    {
     "name": "stdout",
     "output_type": "stream",
     "text": [
      "[1.99985748 0.99985748 0.99639877 0.99620468 0.9956802  0.99559546\n",
      " 0.99551673 0.99422697 0.994213   0.99342609 0.99309679 0.99242474\n",
      " 0.99232927 0.99199437 0.99196316 0.99100547 0.99087496 0.99046715\n",
      " 0.99035003 0.98977261 0.98969045 0.98954229 0.98939212 0.98928728\n",
      " 0.98912963 0.98881958 0.98878285 0.98877807 0.98801745 0.98778761\n",
      " 0.98763531 0.98758011 0.9872098  0.98716669 0.98705086 0.98695896\n",
      " 0.98636343 0.98633119 0.98581026 0.98565239 0.98556367 0.98555012\n",
      " 0.9855432  0.98534162 0.98529189 0.98521573 0.98512673 0.98472909\n",
      " 0.98465463 0.98426598 0.98423122 0.98412181 0.98316767 0.98306205\n",
      " 0.98297749 0.98283106 0.98275946 0.98187457 0.98187062 0.98060048\n",
      " 0.98006737 0.97995773 0.97983749 0.97983487 0.9797682  0.97975653\n",
      " 0.97971256 0.97962822 0.97944395 0.97795121 0.97792019 0.9776302\n",
      " 0.97761472 0.97629005 0.97617099 0.97614826 0.97597754 0.97593329\n",
      " 0.97407632 0.97403354 0.97364624 0.97355789 0.97245895 0.97236536\n",
      " 0.97217392 0.97209078 0.97190359 0.97167536 0.9716145  0.97159811\n",
      " 0.97130312 0.97122521 0.97121177 0.9694144  0.96919522 0.96912834\n",
      " 0.96911143 0.96887771 0.96880816 0.96739029 0.96729625 0.96698922\n",
      " 0.96679012 0.96672525 0.96668816 0.9661632  0.96576906 0.96431121\n",
      " 0.96418102 0.9637317  0.96035947 0.96032635 0.96024992 0.9601647\n",
      " 0.96000458 0.95989682 0.95948471 0.95748429 0.95742394 0.95738647\n",
      " 0.95723195 0.95705848 0.95450242 0.95441296 0.95388896 0.95375102\n",
      " 0.95346969 0.95303788 0.95301087 0.95288372 0.95269613 0.95071052\n",
      " 0.9506496  0.95053459 0.95017031 0.94658876 0.94649577 0.9457317\n",
      " 0.94571051 0.94547923 0.94489405 0.94488152 0.9437904  0.9437442\n",
      " 0.94200032 0.94115745 0.94109546 0.94095926 0.94042466 0.94025283\n",
      " 0.93924606 0.93921514 0.93711031 0.93700688 0.93687738 0.93683175\n",
      " 0.93662648 0.93593752 0.93590134 0.935118   0.93508724 0.93449826\n",
      " 0.93342851 0.93338206 0.93330663 0.9325204  0.93227547 0.93170773\n",
      " 0.9315649  0.93107105 0.93105531 0.92846284 0.9283299  0.92810308\n",
      " 0.92589592 0.92584071 0.92554943 0.9254292  0.92526692 0.92502409\n",
      " 0.92267281 0.92262613 0.92246148 0.92200126 0.91890832 0.9188985\n",
      " 0.91867571 0.91844659 0.91791269 0.91768162 0.91628682 0.91604072\n",
      " 0.91499442 0.91471975 0.91426171 0.91412415 0.91403715 0.91346118\n",
      " 0.91332877 0.91270253 0.91222503 0.91221468 0.91184036 0.90841726\n",
      " 0.90836702 0.90691184 0.90623029 0.90603955 0.90568526 0.9053592\n",
      " 0.90498906 0.90498328 0.9041788  0.90385812 0.90333045 0.90262275\n",
      " 0.89999305 0.89933753 0.89895351 0.89849143 0.89841359 0.89841314\n",
      " 0.8982203  0.898026   0.89757198 0.89732799 0.89692989 0.89670378\n",
      " 0.89665285 0.89546281 0.89525097 0.88977945 0.88971729 0.88814942\n",
      " 0.88798856 0.88641998 0.88597232 0.88464626 0.88383002 0.88103176\n",
      " 0.88083464 0.88069222 0.88041024 0.8803991  0.88033284 0.87945053\n",
      " 0.87933881 0.87919603 0.87803685 0.87651775 0.87627931 0.87538916\n",
      " 0.87372911 0.87255156 0.87229871 0.87205613 0.87091717 0.87050351\n",
      " 0.86958524 0.86539706 0.8647463  0.86407625 0.86355246 0.86235033\n",
      " 0.86234975 0.86199407 0.86184631 0.86172223 0.86018797 0.86012804\n",
      " 0.86006189 0.85847461 0.85751326 0.8560624  0.85517584 0.85471421\n",
      " 0.85342507 0.85107857 0.84796402 0.84697043 0.84691092 0.84592185\n",
      " 0.84260307 0.84213604 0.8396447  0.83829996 0.83705077 0.83689253\n",
      " 0.83611996 0.83588224 0.83086256 0.8300137  0.82749865 0.82742554\n",
      " 0.82697261 0.8265439  0.8250813  0.82415137 0.81610438 0.81284294\n",
      " 0.80974621 0.80871604 0.79905697 0.79834365 0.79566442 0.79477803\n",
      " 0.79296354 0.7893456  0.78051664 0.77715672 0.76677362 0.76146697\n",
      " 0.74131759 0.74084444 0.73692035 0.73645758 0.73152564 0.71915601\n",
      " 0.70687511 0.70254587 0.70087743 0.69506973 0.68408652 0.66985321\n",
      " 0.65992104 0.6579663  0.63915139 0.60995324 0.5916562  0.58054097\n",
      " 0.57887855 0.56250241 0.54316091 0.50059707 0.47052969 0.47023115\n",
      " 0.46233211 0.46232931 0.40927437 0.37462518 0.37090746 0.26160287\n",
      " 0.2520118  0.18663613 0.15215039 0.08022023 0.02214315 0.00070862]\n"
     ]
    }
   ],
   "source": [
    "np.set_printoptions(suppress=True)\n",
    "print(thresh1) # 기준 확률값 확인하기"
   ]
  },
  {
   "cell_type": "code",
   "execution_count": 17,
   "metadata": {},
   "outputs": [
    {
     "data": {
      "text/plain": [
       "0.837769442180784"
      ]
     },
     "execution_count": 17,
     "metadata": {},
     "output_type": "execute_result"
    }
   ],
   "source": [
    "from sklearn.metrics import roc_auc_score\n",
    "auc_score = roc_auc_score(test_labels, pred_probs[:,1])\n",
    "auc_score"
   ]
  },
  {
   "cell_type": "code",
   "execution_count": null,
   "metadata": {},
   "outputs": [],
   "source": []
  }
 ],
 "metadata": {
  "kernelspec": {
   "display_name": "Python 3 (ipykernel)",
   "language": "python",
   "name": "python3"
  },
  "language_info": {
   "codemirror_mode": {
    "name": "ipython",
    "version": 3
   },
   "file_extension": ".py",
   "mimetype": "text/x-python",
   "name": "python",
   "nbconvert_exporter": "python",
   "pygments_lexer": "ipython3",
   "version": "3.8.16"
  }
 },
 "nbformat": 4,
 "nbformat_minor": 2
}
