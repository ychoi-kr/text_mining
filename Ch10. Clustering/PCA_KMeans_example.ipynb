{
 "cells": [
  {
   "cell_type": "markdown",
   "metadata": {},
   "source": [
    "아래와 같이 텍스트 파일을 읽어 옵니다."
   ]
  },
  {
   "cell_type": "code",
   "execution_count": 1,
   "metadata": {},
   "outputs": [],
   "source": [
    "import numpy as np\n",
    "from os import listdir\n",
    "from os.path import isfile, join\n",
    "\n",
    "mypath = './example_En_docs/'\n",
    "onlyfiles = [f for f in listdir(mypath) if isfile(join(mypath, f))]\n",
    "onlyfiles.sort()\n",
    "\n",
    "total_docs = []\n",
    "for file in onlyfiles:\n",
    "    file_path = mypath+file\n",
    "    with open(file_path, 'r', encoding='utf8') as f:\n",
    "        content = f.read()\n",
    "    total_docs.append(content)"
   ]
  },
  {
   "cell_type": "code",
   "execution_count": 2,
   "metadata": {},
   "outputs": [
    {
     "data": {
      "text/plain": [
       "15"
      ]
     },
     "execution_count": 2,
     "metadata": {},
     "output_type": "execute_result"
    }
   ],
   "source": [
    "len(total_docs)"
   ]
  },
  {
   "cell_type": "code",
   "execution_count": 3,
   "metadata": {
    "scrolled": true
   },
   "outputs": [
    {
     "data": {
      "text/plain": [
       "'Ryen Aleman was engrossed in the virtual world, focused on the video game in front of him, when he realized the gunshots he was hearing were real. He ducked and bolted for a restroom to take cover.\\nAnother mass shooting was unfolding in Florida, this time at a tournament for competitive players of the football video game, Madden, in Jacksonville. The winners would go on to a higher level tournament in Las Vegas in October, where large cash prizes could be won.\\nParticipants had gathered at the Jacksonville Landing Complex, an open-air marketplace with stores, bars and restaurants along the St. Johns River.\\n\\nDavid Katz, a 24-year-old gamer from Baltimore, Maryland, was in Jacksonville for the tournament at GLHF Game Bar, in the back of a pizza restaurant. On Sunday, he brought a gun into the venue and opened fire, killing two people. Then he turned the gun on himself, Jacksonville Sheriff Mike Williams said. Police have not released a possible motive.\\nKatz used at least one handgun in the shooting, the sheriff said. Nine other people suffered gunshot wounds and two people were injured fleeing the area, Williams said. The victims were all in stable condition at local hospitals, the sheriff said.\\nThe horror that unfolded was captured on an online stream of the event, posted the website Twitch. The game abruptly stopped after several shots were heard.\\nPeople screamed. One person cried out, \"Oh f**, what\\'d he shoot me with?\" \\nShortly after 1:30 p.m., 911 calls started pouring in about a shooting, according to Williams. Officers were on the scene within two minutes.\\nAleman said he huddled in the bathroom for 10 minutes and ran from the scene.\\n\"I\\'m still shocked, I can hardly talk,\" he told CNN.\\nSeven members of the Jacksonville Fire Station 1 -- known as \"The Rock\" -- were doing routine training in a parking garage across the street from the Landing, when dozens of people came running out, said Randy Wyse, president of the Jacksonville Association of Fire Fighters.\\nOne person pulled up their shirt, showing where they had been shot in the chest, Wyse said. A second person with gunshot wounds followed shortly behind them.\\nAs four firefighters administered first aid, three others ran toward the Landing, Wyse said, and flagged down a police officer.\\nThey started treating victims and found the three dead bodies, including Katz\\'s body.\\nHours after he committed suicide, authorities said, agents with the Bureau of Alcohol, Tobacco, Firearms and Explosives and FBI and Baltimore Police searched Katz\\'s family home in Baltimore.\\nKatz went by the gaming naming \"Bread\" and previously won Madden tournaments in 2017, multiple gamers told CNN.\\nIn February 2017, the Buffalo Bills tweeted out a picture of him after he won the Madden 17 Bills Championship. \"Congrats to David Katz, the Madden 17 Bills Championship winner! Thanks for following along, Bills fans,\" the tweet read.\\nIn an interview after the win with former Buffalos Bills player Steve Tasker, Katz talked about his prowess.\\n\"I think personally I\\'m one of the better players,\" he said. \\nFlorida has seen several mass shootings in recent years: a gunman killed 17 people at Marjory Stoneman Douglas high school in Parkland earlier this year; five people were gunned down at the Fort Lauderdale airport last year; and 49 were shot dead at the Pulse nightclub in Orlando in 2016.\\n\"We have got to change,\" Gov. Rick Scott told reporters Sunday night. \"We\\'ve got to really stop and say to ourselves: there\\'s something wrong.\"\\n\"Why are young men willing to give up their life, or why don\\'t they value somebody else\\'s life?\" he said. \"We\\'ve got to figure this out.\"\\nFormer Congresswoman Gabrielle Giffords, who was seriously wounded in a mass shooting, said the nation\\'s attention turns to Florida, again.\\n\"The nation once again looks to Florida with grief and heavy hearts,\" Giffords, who co-founded a gun violence prevention organization, said in a statement.\\n\"The massacre in Jacksonville is a tragic reminder of the threats we face from gun violence, no matter who we are or where our day takes us,\" said Giffords. \"And it\\'s yet another devastating indictment of this country\\'s inability to keep our kids safe.\"\\n\\n    The nation once again looks to Florida with grief and heavy hearts. The massacre in Jacksonville is yet another devastating indictment of this country\\'s inability to keep our kids safe. https://t.co/NNw88rVWR2\\n    — Gabrielle Giffords (@GabbyGiffords) August 26, 2018\\n\\nEA Sports, a video game developer and publisher, condemned the shooting as \"a senseless act of violence.\"\\nCompLexity Gaming founder and CEO Jason Lake told CNN that the shooting may make the growing eSports industry reconsider security at events.\\nOne of the company\\'s gamers, a 19-year-old who goes by Drini, was shot in the thumb but managed to escape and is going to be fine, Lake said.\\n\"To have someone walk into an event like this that\\'s all about good sportsmanship and teamwork and just good vibes, and do something like this, it\\'s heartbreaking,\" he said. \"I think the e-sports industry as a whole is going to have to step back and take a look at further strengthening our security.\"'"
      ]
     },
     "execution_count": 3,
     "metadata": {},
     "output_type": "execute_result"
    }
   ],
   "source": [
    "total_docs[0]"
   ]
  },
  {
   "cell_type": "code",
   "execution_count": 4,
   "metadata": {},
   "outputs": [],
   "source": [
    "import preprocessing # import a python file for English text preprocessing"
   ]
  },
  {
   "cell_type": "code",
   "execution_count": 5,
   "metadata": {},
   "outputs": [],
   "source": [
    "stopwords = ['be', 'today', 'yesterday', 'tomorrow'] # 불용어 사전 생성하기"
   ]
  },
  {
   "cell_type": "code",
   "execution_count": 6,
   "metadata": {},
   "outputs": [],
   "source": [
    "docs_nouns = [preprocessing.En_preprocessing(doc, stopwords) for doc in total_docs]"
   ]
  },
  {
   "cell_type": "code",
   "execution_count": 7,
   "metadata": {},
   "outputs": [
    {
     "name": "stdout",
     "output_type": "stream",
     "text": [
      "['aleman', 'world', 'video', 'game', 'front', 'gunshot', 'restroom', 'cover', 'mass', 'shooting', 'florida', 'time', 'tournament', 'player', 'football', 'video', 'game', 'madden', 'jacksonville', 'winner', 'level', 'tournament', 'vega', 'october', 'cash', 'prize', 'participant', 'jacksonville', 'marketplace', 'store', 'bar', 'restaurant', 'st', 'john', 'river', 'david', 'gamer', 'baltimore', 'maryland', 'jacksonville', 'tournament', 'game', 'bar', 'back', 'pizza', 'restaurant', 'sunday', 'gun', 'venue', 'fire', 'people', 'gun', 'mike', 'williams', 'police', 'motive', 'katz', 'handgun', 'sheriff', 'people', 'wound', 'people', 'area', 'williams', 'victim', 'condition', 'hospital', 'sheriff', 'horror', 'stream', 'event', 'game', 'shot', 'people', 'person', 'f', 'whatd', 'call', 'williams', 'officer', 'scene', 'minute', 'bathroom', 'minute', 'ran', 'scene', 'im', 'member', 'jacksonville', 'fire', 'station', 'rock', 'training', 'parking', 'garage', 'street', 'landing', 'dozen', 'people', 'president', 'jacksonville', 'association', 'fire', 'fighter', 'person', 'shirt', 'chest', 'wyse', 'person', 'wound', 'firefighter', 'aid', 'others', 'landing', 'wyse', 'officer', 'victim', 'body', 'katzs', 'body', 'hour', 'authority', 'agent', 'bureau', 'alcohol', 'tobacco', 'firearm', 'explosive', 'fbi', 'police', 'family', 'home', 'baltimore', 'katz', 'gaming', 'bread', 'tournament', 'multiple', 'gamers', 'cnn', 'buffalo', 'bill', 'picture', 'bill', 'congrats', 'bill', 'thanks', 'bill', 'tweet', 'read', 'interview', 'win', 'buffalo', 'bill', 'player', 'tasker', 'katz', 'prowess', 'player', 'florida', 'mass', 'shooting', 'year', 'gunman', 'people', 'douglas', 'school', 'parkland', 'year', 'people', 'fort', 'lauderdale', 'airport', 'year', 'pulse', 'nightclub', 'orlando', 'gov', 'rick', 'scott', 'reporter', 'night', 'weve', 'something', 'men', 'life', 'value', 'somebody', 'life', 'congresswoman', 'gabrielle', 'giffords', 'mass', 'shooting', 'nation', 'attention', 'nation', 'grief', 'heart', 'giffords', 'gun', 'violence', 'prevention', 'organization', 'statement', 'massacre', 'jacksonville', 'reminder', 'threat', 'violence', 'matter', 'day', 'giffords', 'indictment', 'country', 'inability', 'kid', 'nation', 'grief', 'heart', 'massacre', 'jacksonville', 'indictment', 'country', 'inability', 'kid', 'httpstconnw88rvwr2', 'gabrielle', 'giffords', 'gabbygiffords', 'ea', 'sport', 'video', 'game', 'developer', 'publisher', 'shooting', 'senseless', 'act', 'violence', 'complexity', 'founder', 'ceo', 'jason', 'cnn', 'shooting', 'esports', 'industry', 'security', 'event', 'company', 'drini', 'thumb', 'lake', 'someone', 'walk', 'event', 'sportsmanship', 'teamwork', 'vibe', 'something', 'heartbreaking', 'esports', 'industry', 'whole', 'look', 'security']\n"
     ]
    }
   ],
   "source": [
    "print(docs_nouns[0]) # 첫번째 문서에 대한 내용 ((문서 내용, [명사단어])로 구성)"
   ]
  },
  {
   "cell_type": "code",
   "execution_count": 8,
   "metadata": {},
   "outputs": [],
   "source": [
    "documents_filtered = [' '.join(doc) for doc in docs_nouns]\n",
    "# 불필요한 단어들을 제거하고 난후 DTM로 변환하기 위해 다시 list of strings의 형태로 변환"
   ]
  },
  {
   "cell_type": "code",
   "execution_count": 9,
   "metadata": {},
   "outputs": [],
   "source": [
    "from sklearn.feature_extraction.text import TfidfVectorizer\n",
    "tfidf_vectorizer = TfidfVectorizer()\n",
    "DTM_tfidf = tfidf_vectorizer.fit_transform(documents_filtered)\n",
    "DTM_TFIDF = np.array(DTM_tfidf.todense())"
   ]
  },
  {
   "cell_type": "code",
   "execution_count": 10,
   "metadata": {},
   "outputs": [
    {
     "data": {
      "text/plain": [
       "(15, 1166)"
      ]
     },
     "execution_count": 10,
     "metadata": {},
     "output_type": "execute_result"
    }
   ],
   "source": [
    "DTM_TFIDF.shape"
   ]
  },
  {
   "cell_type": "code",
   "execution_count": 11,
   "metadata": {},
   "outputs": [],
   "source": [
    "from sklearn.decomposition import PCA"
   ]
  },
  {
   "cell_type": "code",
   "execution_count": 12,
   "metadata": {},
   "outputs": [],
   "source": [
    "pca = PCA(n_components=10)\n",
    "pca_results_tfidf = pca.fit_transform(DTM_TFIDF)"
   ]
  },
  {
   "cell_type": "code",
   "execution_count": 13,
   "metadata": {},
   "outputs": [
    {
     "data": {
      "text/plain": [
       "array([0.16995738, 0.15595055, 0.14023592, 0.10953876, 0.06273507,\n",
       "       0.05587951, 0.04982095, 0.04679968, 0.04422534, 0.04143181])"
      ]
     },
     "execution_count": 13,
     "metadata": {},
     "output_type": "execute_result"
    }
   ],
   "source": [
    "pca.explained_variance_ratio_"
   ]
  },
  {
   "cell_type": "code",
   "execution_count": 14,
   "metadata": {},
   "outputs": [
    {
     "data": {
      "text/plain": [
       "0.8765749661517428"
      ]
     },
     "execution_count": 14,
     "metadata": {},
     "output_type": "execute_result"
    }
   ],
   "source": [
    "sum(pca.explained_variance_ratio_)"
   ]
  },
  {
   "cell_type": "markdown",
   "metadata": {},
   "source": [
    "## KMeans 적용하기"
   ]
  },
  {
   "cell_type": "code",
   "execution_count": 15,
   "metadata": {},
   "outputs": [],
   "source": [
    "from sklearn.cluster import KMeans"
   ]
  },
  {
   "cell_type": "code",
   "execution_count": 16,
   "metadata": {},
   "outputs": [
    {
     "name": "stderr",
     "output_type": "stream",
     "text": [
      "C:\\Users\\yong\\anaconda3\\envs\\textmining_gpu\\lib\\site-packages\\sklearn\\cluster\\_kmeans.py:870: FutureWarning: The default value of `n_init` will change from 10 to 'auto' in 1.4. Set the value of `n_init` explicitly to suppress the warning\n",
      "  warnings.warn(\n",
      "C:\\Users\\yong\\anaconda3\\envs\\textmining_gpu\\lib\\site-packages\\sklearn\\cluster\\_kmeans.py:1382: UserWarning: KMeans is known to have a memory leak on Windows with MKL, when there are less chunks than available threads. You can avoid it by setting the environment variable OMP_NUM_THREADS=1.\n",
      "  warnings.warn(\n"
     ]
    }
   ],
   "source": [
    "kmeans = KMeans(n_clusters=5, random_state=42)\n",
    "clusters_pca_tfidf = kmeans.fit_predict(pca_results_tfidf)"
   ]
  },
  {
   "cell_type": "code",
   "execution_count": 17,
   "metadata": {},
   "outputs": [
    {
     "data": {
      "text/plain": [
       "array([4, 4, 4, 3, 3, 0, 0, 0, 2, 2, 2, 2, 1, 1, 1])"
      ]
     },
     "execution_count": 17,
     "metadata": {},
     "output_type": "execute_result"
    }
   ],
   "source": [
    "clusters_pca_tfidf"
   ]
  },
  {
   "cell_type": "markdown",
   "metadata": {},
   "source": [
    "## 실루엣 값 확인해 보기"
   ]
  },
  {
   "cell_type": "code",
   "execution_count": 18,
   "metadata": {},
   "outputs": [
    {
     "name": "stdout",
     "output_type": "stream",
     "text": [
      "0.37140149068114886\n"
     ]
    }
   ],
   "source": [
    "from sklearn.metrics import silhouette_score\n",
    "print(silhouette_score(pca_results_tfidf, clusters_pca_tfidf))"
   ]
  },
  {
   "cell_type": "code",
   "execution_count": 19,
   "metadata": {},
   "outputs": [
    {
     "name": "stderr",
     "output_type": "stream",
     "text": [
      "C:\\Users\\yong\\anaconda3\\envs\\textmining_gpu\\lib\\site-packages\\sklearn\\cluster\\_kmeans.py:870: FutureWarning: The default value of `n_init` will change from 10 to 'auto' in 1.4. Set the value of `n_init` explicitly to suppress the warning\n",
      "  warnings.warn(\n",
      "C:\\Users\\yong\\anaconda3\\envs\\textmining_gpu\\lib\\site-packages\\sklearn\\cluster\\_kmeans.py:1382: UserWarning: KMeans is known to have a memory leak on Windows with MKL, when there are less chunks than available threads. You can avoid it by setting the environment variable OMP_NUM_THREADS=1.\n",
      "  warnings.warn(\n"
     ]
    }
   ],
   "source": [
    "kmeans1 = KMeans(n_clusters=5, random_state=42)\n",
    "clusters_tfidf = kmeans1.fit_predict(DTM_TFIDF)"
   ]
  },
  {
   "cell_type": "code",
   "execution_count": 20,
   "metadata": {},
   "outputs": [
    {
     "data": {
      "text/plain": [
       "array([1, 1, 1, 4, 4, 2, 2, 2, 3, 3, 3, 3, 0, 0, 0])"
      ]
     },
     "execution_count": 20,
     "metadata": {},
     "output_type": "execute_result"
    }
   ],
   "source": [
    "clusters_tfidf"
   ]
  },
  {
   "cell_type": "code",
   "execution_count": 21,
   "metadata": {},
   "outputs": [
    {
     "name": "stdout",
     "output_type": "stream",
     "text": [
      "0.24302353093870296\n"
     ]
    }
   ],
   "source": [
    "print(silhouette_score(DTM_TFIDF, clusters_tfidf))"
   ]
  },
  {
   "cell_type": "markdown",
   "metadata": {},
   "source": [
    "## 군집화 분석 결과 시각화 해보기"
   ]
  },
  {
   "cell_type": "code",
   "execution_count": 22,
   "metadata": {},
   "outputs": [],
   "source": [
    "pca = PCA(n_components=2)\n",
    "pca_results_tfidf = pca.fit_transform(DTM_TFIDF)"
   ]
  },
  {
   "cell_type": "code",
   "execution_count": 23,
   "metadata": {},
   "outputs": [
    {
     "name": "stderr",
     "output_type": "stream",
     "text": [
      "C:\\Users\\yong\\anaconda3\\envs\\textmining_gpu\\lib\\site-packages\\sklearn\\cluster\\_kmeans.py:870: FutureWarning: The default value of `n_init` will change from 10 to 'auto' in 1.4. Set the value of `n_init` explicitly to suppress the warning\n",
      "  warnings.warn(\n",
      "C:\\Users\\yong\\anaconda3\\envs\\textmining_gpu\\lib\\site-packages\\sklearn\\cluster\\_kmeans.py:1382: UserWarning: KMeans is known to have a memory leak on Windows with MKL, when there are less chunks than available threads. You can avoid it by setting the environment variable OMP_NUM_THREADS=1.\n",
      "  warnings.warn(\n"
     ]
    }
   ],
   "source": [
    "kmeans = KMeans(n_clusters=5)\n",
    "clusters_pca_tfidf = kmeans.fit_predict(pca_results_tfidf)"
   ]
  },
  {
   "cell_type": "code",
   "execution_count": 24,
   "metadata": {},
   "outputs": [
    {
     "data": {
      "text/plain": [
       "array([4, 4, 4, 1, 1, 3, 3, 3, 0, 0, 0, 0, 2, 2, 2])"
      ]
     },
     "execution_count": 24,
     "metadata": {},
     "output_type": "execute_result"
    }
   ],
   "source": [
    "clusters_pca_tfidf"
   ]
  },
  {
   "cell_type": "code",
   "execution_count": 25,
   "metadata": {},
   "outputs": [
    {
     "data": {
      "text/plain": [
       "array([[ 0.19982771,  0.04701672],\n",
       "       [ 0.20549161,  0.05507015],\n",
       "       [ 0.20755545,  0.02705401],\n",
       "       [ 0.11772557,  0.23362833],\n",
       "       [ 0.08628774,  0.26415688],\n",
       "       [-0.2009714 ,  0.59103564],\n",
       "       [-0.20674937,  0.52477829],\n",
       "       [-0.21085471,  0.60602019],\n",
       "       [-0.55060843, -0.4507377 ],\n",
       "       [-0.37438507, -0.26401527],\n",
       "       [-0.45002189, -0.36965388],\n",
       "       [-0.51016097, -0.44450875],\n",
       "       [ 0.57875257, -0.28901465],\n",
       "       [ 0.53934503, -0.2541032 ],\n",
       "       [ 0.56876616, -0.27672676]])"
      ]
     },
     "execution_count": 25,
     "metadata": {},
     "output_type": "execute_result"
    }
   ],
   "source": [
    "pca_results_tfidf "
   ]
  },
  {
   "cell_type": "code",
   "execution_count": 26,
   "metadata": {},
   "outputs": [],
   "source": [
    "import pandas as pd"
   ]
  },
  {
   "cell_type": "code",
   "execution_count": 27,
   "metadata": {},
   "outputs": [],
   "source": [
    "data = pd.DataFrame(pca_results_tfidf, columns=['x1', 'x2'])"
   ]
  },
  {
   "cell_type": "code",
   "execution_count": 28,
   "metadata": {},
   "outputs": [],
   "source": [
    "data['cluster_id']=clusters_pca_tfidf.tolist()"
   ]
  },
  {
   "cell_type": "code",
   "execution_count": 29,
   "metadata": {},
   "outputs": [
    {
     "data": {
      "text/html": [
       "<div>\n",
       "<style scoped>\n",
       "    .dataframe tbody tr th:only-of-type {\n",
       "        vertical-align: middle;\n",
       "    }\n",
       "\n",
       "    .dataframe tbody tr th {\n",
       "        vertical-align: top;\n",
       "    }\n",
       "\n",
       "    .dataframe thead th {\n",
       "        text-align: right;\n",
       "    }\n",
       "</style>\n",
       "<table border=\"1\" class=\"dataframe\">\n",
       "  <thead>\n",
       "    <tr style=\"text-align: right;\">\n",
       "      <th></th>\n",
       "      <th>x1</th>\n",
       "      <th>x2</th>\n",
       "      <th>cluster_id</th>\n",
       "    </tr>\n",
       "  </thead>\n",
       "  <tbody>\n",
       "    <tr>\n",
       "      <th>0</th>\n",
       "      <td>0.199828</td>\n",
       "      <td>0.047017</td>\n",
       "      <td>4</td>\n",
       "    </tr>\n",
       "    <tr>\n",
       "      <th>1</th>\n",
       "      <td>0.205492</td>\n",
       "      <td>0.055070</td>\n",
       "      <td>4</td>\n",
       "    </tr>\n",
       "    <tr>\n",
       "      <th>2</th>\n",
       "      <td>0.207555</td>\n",
       "      <td>0.027054</td>\n",
       "      <td>4</td>\n",
       "    </tr>\n",
       "  </tbody>\n",
       "</table>\n",
       "</div>"
      ],
      "text/plain": [
       "         x1        x2  cluster_id\n",
       "0  0.199828  0.047017           4\n",
       "1  0.205492  0.055070           4\n",
       "2  0.207555  0.027054           4"
      ]
     },
     "execution_count": 29,
     "metadata": {},
     "output_type": "execute_result"
    }
   ],
   "source": [
    "data.head(3)"
   ]
  },
  {
   "cell_type": "code",
   "execution_count": 30,
   "metadata": {},
   "outputs": [],
   "source": [
    "import seaborn as sns\n",
    "import matplotlib.pyplot as plt"
   ]
  },
  {
   "cell_type": "code",
   "execution_count": 31,
   "metadata": {},
   "outputs": [
    {
     "data": {
      "image/png": "[encoded data removed]",
      "text/plain": [
       "<Figure size 577.986x500 with 1 Axes>"
      ]
     },
     "metadata": {},
     "output_type": "display_data"
    }
   ],
   "source": [
    "sns.lmplot(x='x1', y='x2', data=data, hue='cluster_id',fit_reg=False )\n",
    "plt.show()"
   ]
  },
  {
   "cell_type": "code",
   "execution_count": null,
   "metadata": {},
   "outputs": [],
   "source": []
  }
 ],
 "metadata": {
  "kernelspec": {
   "display_name": "Python 3 (ipykernel)",
   "language": "python",
   "name": "python3"
  },
  "language_info": {
   "codemirror_mode": {
    "name": "ipython",
    "version": 3
   },
   "file_extension": ".py",
   "mimetype": "text/x-python",
   "name": "python",
   "nbconvert_exporter": "python",
   "pygments_lexer": "ipython3",
   "version": "3.8.16"
  }
 },
 "nbformat": 4,
 "nbformat_minor": 2
}
