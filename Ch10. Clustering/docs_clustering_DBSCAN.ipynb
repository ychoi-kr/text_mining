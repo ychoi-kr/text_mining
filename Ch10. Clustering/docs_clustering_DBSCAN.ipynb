{
 "cells": [
  {
   "cell_type": "markdown",
   "metadata": {},
   "source": [
    "아래와 같이 텍스트 파일을 읽어 옵니다."
   ]
  },
  {
   "cell_type": "code",
   "execution_count": 1,
   "metadata": {},
   "outputs": [],
   "source": [
    "import numpy as np\n",
    "from os import listdir\n",
    "from os.path import isfile, join\n",
    "\n",
    "mypath = './example_En_docs/'\n",
    "onlyfiles = [f for f in listdir(mypath) if isfile(join(mypath, f))]\n",
    "onlyfiles.sort()\n",
    "\n",
    "total_docs = []\n",
    "for file in onlyfiles:\n",
    "    file_path = mypath+file\n",
    "    with open(file_path, 'r', encoding='utf8') as f:\n",
    "        content = f.read()\n",
    "    total_docs.append(content)"
   ]
  },
  {
   "cell_type": "code",
   "execution_count": 2,
   "metadata": {},
   "outputs": [],
   "source": [
    "import preprocessing # import a python file for English text preprocessing"
   ]
  },
  {
   "cell_type": "code",
   "execution_count": 3,
   "metadata": {},
   "outputs": [],
   "source": [
    "stopwords = ['be', 'today', 'yesterday', 'tomorrow'] # 불용어 사전 생성하기"
   ]
  },
  {
   "cell_type": "code",
   "execution_count": 4,
   "metadata": {},
   "outputs": [],
   "source": [
    "docs_nouns = [preprocessing.En_preprocessing(doc, stopwords) for doc in total_docs]"
   ]
  },
  {
   "cell_type": "code",
   "execution_count": 5,
   "metadata": {},
   "outputs": [],
   "source": [
    "documents_filtered = [' '.join(doc) for doc in docs_nouns]\n",
    "# 불필요한 단어들을 제거하고 난후 DTM로 변환하기 위해 다시 list of strings의 형태로 변환"
   ]
  },
  {
   "cell_type": "code",
   "execution_count": 6,
   "metadata": {},
   "outputs": [],
   "source": [
    "from sklearn.feature_extraction.text import TfidfVectorizer # tf-idf based DTM"
   ]
  },
  {
   "cell_type": "code",
   "execution_count": 7,
   "metadata": {},
   "outputs": [],
   "source": [
    "vectorizer = TfidfVectorizer()\n",
    "DTM_tfidf = vectorizer.fit_transform(documents_filtered) # 문서들을 TFIDF matrix로 변환"
   ]
  },
  {
   "cell_type": "code",
   "execution_count": 8,
   "metadata": {},
   "outputs": [],
   "source": [
    "DTM_TFIDF = np.array(DTM_tfidf.todense())"
   ]
  },
  {
   "cell_type": "markdown",
   "metadata": {},
   "source": [
    "## DBSCAN"
   ]
  },
  {
   "cell_type": "code",
   "execution_count": 9,
   "metadata": {},
   "outputs": [],
   "source": [
    "# get distance with nearest neighbor\n",
    "def nearest_dist(a):\n",
    "    \"\"\"\n",
    "    각 벡터에 대해서 가장 가까운 벡터와의 유클리디안 거리 정보가 \n",
    "    저장된 리스트가 반환됩니다.\n",
    "    \"\"\"\n",
    "    norms = []\n",
    "    for i in range(len(a)):\n",
    "        temp_norms = []\n",
    "        for j in range(len(a)):\n",
    "            if i != j:\n",
    "                norm = np.linalg.norm(a[i]-a[j])\n",
    "                temp_norms.append(norm)\n",
    "        norms.append(min(temp_norms))\n",
    "    return norms "
   ]
  },
  {
   "cell_type": "code",
   "execution_count": 10,
   "metadata": {},
   "outputs": [
    {
     "name": "stdout",
     "output_type": "stream",
     "text": [
      "[1.0856160376767328, 1.0856160376767328, 1.150775183179138, 0.9907573190025212, 0.9907573190025212, 0.855206166281706, 0.9549035416762575, 0.855206166281706, 0.7834671664041748, 1.142335082649629, 0.9976940094654649, 0.7834671664041748, 0.93719962181223, 0.96383139835593, 0.93719962181223]\n"
     ]
    }
   ],
   "source": [
    "short_distances = nearest_dist(DTM_TFIDF)\n",
    "print(short_distances)"
   ]
  },
  {
   "cell_type": "code",
   "execution_count": 11,
   "metadata": {},
   "outputs": [
    {
     "data": {
      "image/png": "[encoded data removed]",
      "text/plain": [
       "<Figure size 640x480 with 1 Axes>"
      ]
     },
     "metadata": {},
     "output_type": "display_data"
    }
   ],
   "source": [
    "import matplotlib.pyplot as plt\n",
    "\n",
    "plt.hist(short_distances)\n",
    "plt.show()"
   ]
  },
  {
   "cell_type": "code",
   "execution_count": 12,
   "metadata": {},
   "outputs": [
    {
     "name": "stdout",
     "output_type": "stream",
     "text": [
      "0.9676021225120767\n"
     ]
    }
   ],
   "source": [
    "mean_dis = np.array(short_distances).mean()\n",
    "print(mean_dis)"
   ]
  },
  {
   "cell_type": "code",
   "execution_count": 13,
   "metadata": {},
   "outputs": [
    {
     "name": "stdout",
     "output_type": "stream",
     "text": [
      "1.150775183179138\n"
     ]
    }
   ],
   "source": [
    "max_dis = np.array(short_distances).max()\n",
    "print(max_dis)"
   ]
  },
  {
   "cell_type": "code",
   "execution_count": 14,
   "metadata": {},
   "outputs": [
    {
     "data": {
      "text/plain": [
       "array([ 0,  0,  0, -1, -1,  1,  1,  1,  2,  2,  2,  2,  3,  3,  3],\n",
       "      dtype=int64)"
      ]
     },
     "execution_count": 14,
     "metadata": {},
     "output_type": "execute_result"
    }
   ],
   "source": [
    "from sklearn.cluster import DBSCAN\n",
    "\n",
    "# max_dis를 이용한 경우\n",
    "dbscan1 = DBSCAN(eps=max_dis+0.01, min_samples=3)\n",
    "clustering_DBS_max = dbscan1.fit_predict(DTM_TFIDF)\n",
    "clustering_DBS_max"
   ]
  },
  {
   "cell_type": "code",
   "execution_count": 15,
   "metadata": {},
   "outputs": [
    {
     "data": {
      "text/plain": [
       "array([-1, -1, -1, -1, -1,  0,  0,  0, -1, -1, -1, -1,  1,  1,  1],\n",
       "      dtype=int64)"
      ]
     },
     "execution_count": 15,
     "metadata": {},
     "output_type": "execute_result"
    }
   ],
   "source": [
    "# mean_dis를 이용한 경우\n",
    "dbscan2 = DBSCAN(eps=mean_dis+0.01, min_samples=3)\n",
    "clustering_DBS_mean = dbscan2.fit_predict(DTM_TFIDF)\n",
    "clustering_DBS_mean"
   ]
  },
  {
   "cell_type": "code",
   "execution_count": 16,
   "metadata": {},
   "outputs": [
    {
     "data": {
      "text/plain": [
       "(15, 1166)"
      ]
     },
     "execution_count": 16,
     "metadata": {},
     "output_type": "execute_result"
    }
   ],
   "source": [
    "DTM_TFIDF.shape"
   ]
  },
  {
   "cell_type": "code",
   "execution_count": 17,
   "metadata": {},
   "outputs": [
    {
     "name": "stdout",
     "output_type": "stream",
     "text": [
      "minpts = 1: [0 0 0 1 1 2 2 2 3 3 3 3 4 4 4]\n",
      "minpts = 2: [0 0 0 1 1 2 2 2 3 3 3 3 4 4 4]\n",
      "minpts = 3: [ 0  0  0 -1 -1  1  1  1  2  2  2  2  3  3  3]\n",
      "minpts = 4: [-1 -1 -1 -1 -1 -1 -1 -1  0  0  0  0 -1 -1 -1]\n",
      "minpts = 5: [-1 -1 -1 -1 -1 -1 -1 -1 -1 -1 -1 -1 -1 -1 -1]\n"
     ]
    }
   ],
   "source": [
    "for minpts in range(1, 6):\n",
    "    dbscan = DBSCAN(eps=max_dis+0.01, min_samples=minpts)\n",
    "    print(\"minpts = {}: {}\".format(minpts, dbscan.fit_predict(DTM_TFIDF)))"
   ]
  },
  {
   "cell_type": "code",
   "execution_count": null,
   "metadata": {},
   "outputs": [],
   "source": []
  }
 ],
 "metadata": {
  "kernelspec": {
   "display_name": "Python 3 (ipykernel)",
   "language": "python",
   "name": "python3"
  },
  "language_info": {
   "codemirror_mode": {
    "name": "ipython",
    "version": 3
   },
   "file_extension": ".py",
   "mimetype": "text/x-python",
   "name": "python",
   "nbconvert_exporter": "python",
   "pygments_lexer": "ipython3",
   "version": "3.8.16"
  }
 },
 "nbformat": 4,
 "nbformat_minor": 2
}
